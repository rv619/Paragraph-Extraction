{
  "nbformat": 4,
  "nbformat_minor": 0,
  "metadata": {
    "colab": {
      "name": "WeightedFrequencyCount.ipynb",
      "provenance": [],
      "collapsed_sections": [],
      "authorship_tag": "ABX9TyPKTvI9461Z9SHO87rIjkLF"
    },
    "kernelspec": {
      "name": "python3",
      "display_name": "Python 3"
    },
    "language_info": {
      "name": "python"
    }
  },
  "cells": [
    {
      "cell_type": "code",
      "metadata": {
        "id": "_xdva7-WuMaj",
        "colab": {
          "base_uri": "https://localhost:8080/"
        },
        "outputId": "a94f1e69-b426-4f17-c603-b853aa1db3aa"
      },
      "source": [
        "from google.colab import drive\n",
        "drive.mount('/content/drive', force_remount = True)"
      ],
      "execution_count": null,
      "outputs": [
        {
          "output_type": "stream",
          "text": [
            "Mounted at /content/drive\n"
          ],
          "name": "stdout"
        }
      ]
    },
    {
      "cell_type": "code",
      "metadata": {
        "colab": {
          "base_uri": "https://localhost:8080/"
        },
        "id": "dn2rHsJURI9c",
        "outputId": "04ea01df-0342-4575-fe69-bc9c29f395db"
      },
      "source": [
        "pip install PyPDF2"
      ],
      "execution_count": null,
      "outputs": [
        {
          "output_type": "stream",
          "text": [
            "Collecting PyPDF2\n",
            "  Downloading PyPDF2-1.26.0.tar.gz (77 kB)\n",
            "\u001b[?25l\r\u001b[K     |████▎                           | 10 kB 20.3 MB/s eta 0:00:01\r\u001b[K     |████████▌                       | 20 kB 25.4 MB/s eta 0:00:01\r\u001b[K     |████████████▊                   | 30 kB 21.7 MB/s eta 0:00:01\r\u001b[K     |█████████████████               | 40 kB 17.6 MB/s eta 0:00:01\r\u001b[K     |█████████████████████▏          | 51 kB 8.5 MB/s eta 0:00:01\r\u001b[K     |█████████████████████████▍      | 61 kB 9.8 MB/s eta 0:00:01\r\u001b[K     |█████████████████████████████▋  | 71 kB 9.2 MB/s eta 0:00:01\r\u001b[K     |████████████████████████████████| 77 kB 4.1 MB/s \n",
            "\u001b[?25hBuilding wheels for collected packages: PyPDF2\n",
            "  Building wheel for PyPDF2 (setup.py) ... \u001b[?25l\u001b[?25hdone\n",
            "  Created wheel for PyPDF2: filename=PyPDF2-1.26.0-py3-none-any.whl size=61100 sha256=3607f709e82a5ab734c1e0602d0b5a45f34631149cfbe422deec1b6c4e103d61\n",
            "  Stored in directory: /root/.cache/pip/wheels/80/1a/24/648467ade3a77ed20f35cfd2badd32134e96dd25ca811e64b3\n",
            "Successfully built PyPDF2\n",
            "Installing collected packages: PyPDF2\n",
            "Successfully installed PyPDF2-1.26.0\n"
          ],
          "name": "stdout"
        }
      ]
    },
    {
      "cell_type": "code",
      "metadata": {
        "id": "X7ozDUfSI8Cd"
      },
      "source": [
        "import PyPDF2\n",
        "import re\n",
        "from gensim.models import Word2Vec\n",
        "from gensim.models import FastText\n",
        "from gensim.parsing.preprocessing import STOPWORDS, RE_WHITESPACE\n",
        "from gensim.corpora.dictionary import Dictionary\n",
        "from gensim.models import KeyedVectors"
      ],
      "execution_count": null,
      "outputs": []
    },
    {
      "cell_type": "code",
      "metadata": {
        "id": "Xwh2Dkl8wPY-",
        "colab": {
          "base_uri": "https://localhost:8080/"
        },
        "outputId": "a6e92e19-aa51-4459-d7e3-332cf27a1b3b"
      },
      "source": [
        "import nltk\n",
        "nltk.download('stopwords')"
      ],
      "execution_count": null,
      "outputs": [
        {
          "output_type": "stream",
          "text": [
            "[nltk_data] Downloading package stopwords to /root/nltk_data...\n",
            "[nltk_data]   Unzipping corpora/stopwords.zip.\n"
          ],
          "name": "stdout"
        },
        {
          "output_type": "execute_result",
          "data": {
            "text/plain": [
              "True"
            ]
          },
          "metadata": {
            "tags": []
          },
          "execution_count": 4
        }
      ]
    },
    {
      "cell_type": "code",
      "metadata": {
        "colab": {
          "base_uri": "https://localhost:8080/"
        },
        "id": "7jpsr7RRQ8yi",
        "outputId": "63a46ee2-0a43-47e9-d16e-488e58645b92"
      },
      "source": [
        "from nltk.corpus import stopwords\n",
        "from nltk.stem.porter import PorterStemmer\n",
        "nltk.download('wordnet')\n",
        "from nltk.stem import WordNetLemmatizer"
      ],
      "execution_count": null,
      "outputs": [
        {
          "output_type": "stream",
          "text": [
            "[nltk_data] Downloading package wordnet to /root/nltk_data...\n",
            "[nltk_data]   Package wordnet is already up-to-date!\n"
          ],
          "name": "stdout"
        }
      ]
    },
    {
      "cell_type": "code",
      "metadata": {
        "id": "tObzatCWwS9s"
      },
      "source": [
        "# Removes stopwords from a list of token\n",
        "def remove_stopwords(tokens, stopwords=STOPWORDS):\n",
        "    return [token for token in tokens if token not in stopwords]"
      ],
      "execution_count": null,
      "outputs": []
    },
    {
      "cell_type": "code",
      "metadata": {
        "id": "DTA1ptnawWNG"
      },
      "source": [
        "# Removes tokens that appear less than minsize times\n",
        "def remove_short(tokens, minsize=2):\n",
        "    return [token for token in tokens if len(token) >= minsize]"
      ],
      "execution_count": null,
      "outputs": []
    },
    {
      "cell_type": "code",
      "metadata": {
        "id": "QrJS77ghwZ-v"
      },
      "source": [
        "# Removes > 1 whitespaces b/w words\n",
        "def strip_multiple_whitespaces(s):\n",
        "    return RE_WHITESPACE.sub(\" \", s)"
      ],
      "execution_count": null,
      "outputs": []
    },
    {
      "cell_type": "code",
      "metadata": {
        "id": "Io5_HR84y8ZR"
      },
      "source": [
        "model = KeyedVectors.load_word2vec_format('drive/My Drive/Colab Notebooks/GoogleNews-vectors-negative300.bin.gz', binary=True)"
      ],
      "execution_count": null,
      "outputs": []
    },
    {
      "cell_type": "code",
      "metadata": {
        "id": "_XDhbjNqLLQt"
      },
      "source": [
        "filename = \"dataset.pdf\""
      ],
      "execution_count": null,
      "outputs": []
    },
    {
      "cell_type": "code",
      "metadata": {
        "id": "oEVqt6dFLPDK"
      },
      "source": [
        "file = PyPDF2.PdfFileReader('drive/My Drive/Colab Notebooks/' + filename)\n",
        "Numpages = file.getNumPages()\n",
        "text = \"\"\n",
        "for j in range(0,Numpages):\n",
        "    PageObj = file.getPage(j)\n",
        "    text = text + \" \" + PageObj.extractText()"
      ],
      "execution_count": null,
      "outputs": []
    },
    {
      "cell_type": "code",
      "metadata": {
        "id": "eOepDKhnLari"
      },
      "source": [
        "#paragraphs = re.split ('\\.|\\?|\\!', text) # Sentence break\n",
        "paragraphs = re.split ('\\.\\n', text) # Paragraph break\n",
        "paragraphs = [re.sub('[^-\\.!\\?,;a-zA-Z0-9]+', ' ', paragraph.strip()) for paragraph in paragraphs]\n",
        "original_para = paragraphs.copy()"
      ],
      "execution_count": null,
      "outputs": []
    },
    {
      "cell_type": "code",
      "metadata": {
        "id": "mVwVMOpVNs86"
      },
      "source": [
        "lm = WordNetLemmatizer()\n",
        "paragraphs = [re.sub('[^-a-zA-Z0-9]+', ' ', paragraph.lower()) for paragraph in paragraphs]\n",
        "for paragraph in paragraphs:\n",
        "    #paragraph = [lm.lemmatize(word) for word in paragraph if not word in stopwords.words('english')]\n",
        "    paragraph = [word for word in paragraph if not word in stopwords.words('english')]"
      ],
      "execution_count": null,
      "outputs": []
    },
    {
      "cell_type": "code",
      "metadata": {
        "id": "T3eT2YVPNMhE"
      },
      "source": [
        "from IPython.display import HTML, display\n",
        "\n",
        "def set_css():\n",
        "  display(HTML('''\n",
        "  <style>\n",
        "    pre {\n",
        "        white-space: pre-wrap;\n",
        "    }\n",
        "  </style>\n",
        "  '''))\n",
        "get_ipython().events.register('pre_run_cell', set_css)\n"
      ],
      "execution_count": null,
      "outputs": []
    },
    {
      "cell_type": "code",
      "metadata": {
        "colab": {
          "base_uri": "https://localhost:8080/",
          "height": 17
        },
        "id": "eTYiSDdaNNes",
        "outputId": "185e395c-1cb3-4f8a-8dff-36ed51431147"
      },
      "source": [
        "query = \"Nehru\"\n",
        "query = query.split()"
      ],
      "execution_count": null,
      "outputs": [
        {
          "output_type": "display_data",
          "data": {
            "text/html": [
              "\n",
              "  <style>\n",
              "    pre {\n",
              "        white-space: pre-wrap;\n",
              "    }\n",
              "  </style>\n",
              "  "
            ],
            "text/plain": [
              "<IPython.core.display.HTML object>"
            ]
          },
          "metadata": {
            "tags": []
          }
        }
      ]
    },
    {
      "cell_type": "code",
      "metadata": {
        "colab": {
          "base_uri": "https://localhost:8080/",
          "height": 17
        },
        "id": "jvnWa5ASLgB_",
        "outputId": "16c056e5-4f9e-4da7-b2e2-4a38a63a599c"
      },
      "source": [
        "query = [q for q in query if not q in stopwords.words('english')]"
      ],
      "execution_count": null,
      "outputs": [
        {
          "output_type": "display_data",
          "data": {
            "text/html": [
              "\n",
              "  <style>\n",
              "    pre {\n",
              "        white-space: pre-wrap;\n",
              "    }\n",
              "  </style>\n",
              "  "
            ],
            "text/plain": [
              "<IPython.core.display.HTML object>"
            ]
          },
          "metadata": {
            "tags": []
          }
        }
      ]
    },
    {
      "cell_type": "code",
      "metadata": {
        "colab": {
          "base_uri": "https://localhost:8080/",
          "height": 17
        },
        "id": "suX1SV0MQGoo",
        "outputId": "160aa7f3-1780-4d19-fe63-84486dba5efa"
      },
      "source": [
        "# Cases\n",
        "# 1 -> [query]\n",
        "# 2 -> [word1] + [word2] + ... + [word_n]\n",
        "# 3 -> [word1_word2_..._worn_n]\n",
        "query_vector = [(q,1) for q in query]\n",
        "for word in query:\n",
        "  word = str(word)\n",
        "  try:\n",
        "    similar_vector = model.most_similar ([word], topn = 20)\n",
        "  except KeyError:\n",
        "    similar_vector = []\n",
        "    print(\"\",end=\"\")\n",
        "  query_vector.extend (similar_vector)"
      ],
      "execution_count": null,
      "outputs": [
        {
          "output_type": "display_data",
          "data": {
            "text/html": [
              "\n",
              "  <style>\n",
              "    pre {\n",
              "        white-space: pre-wrap;\n",
              "    }\n",
              "  </style>\n",
              "  "
            ],
            "text/plain": [
              "<IPython.core.display.HTML object>"
            ]
          },
          "metadata": {
            "tags": []
          }
        }
      ]
    },
    {
      "cell_type": "code",
      "metadata": {
        "colab": {
          "base_uri": "https://localhost:8080/",
          "height": 17
        },
        "id": "Qy4prAWRasY8",
        "outputId": "25707436-04ea-4745-d31f-8525dcc95367"
      },
      "source": [
        "query_vector = [(str(query_vector[i][0]).replace (\"_\",\" \"), query_vector[i][1]) for i in range (len(query_vector))]"
      ],
      "execution_count": null,
      "outputs": [
        {
          "output_type": "display_data",
          "data": {
            "text/html": [
              "\n",
              "  <style>\n",
              "    pre {\n",
              "        white-space: pre-wrap;\n",
              "    }\n",
              "  </style>\n",
              "  "
            ],
            "text/plain": [
              "<IPython.core.display.HTML object>"
            ]
          },
          "metadata": {
            "tags": []
          }
        }
      ]
    },
    {
      "cell_type": "code",
      "metadata": {
        "colab": {
          "base_uri": "https://localhost:8080/",
          "height": 17
        },
        "id": "p54qZZ9JVS5E",
        "outputId": "f680e0eb-8cb4-4f90-e758-02fcb1a158ac"
      },
      "source": [
        "query_vector.sort (key = lambda x: -x[1])\n",
        "paragraph_indices = [(i,0) for i in range (len(paragraphs))]\n",
        "for query in query_vector:\n",
        "  for i in range (len(paragraphs)):\n",
        "    paragraph_indices [i] = (i, paragraph_indices[i][1] + paragraphs[i].lower().count(query[0].lower()))\n",
        "paragraph_indices.sort (key = lambda x: -x[1])"
      ],
      "execution_count": null,
      "outputs": [
        {
          "output_type": "display_data",
          "data": {
            "text/html": [
              "\n",
              "  <style>\n",
              "    pre {\n",
              "        white-space: pre-wrap;\n",
              "    }\n",
              "  </style>\n",
              "  "
            ],
            "text/plain": [
              "<IPython.core.display.HTML object>"
            ]
          },
          "metadata": {
            "tags": []
          }
        }
      ]
    },
    {
      "cell_type": "code",
      "metadata": {
        "id": "oRa4AsWAWei2",
        "colab": {
          "base_uri": "https://localhost:8080/",
          "height": 122
        },
        "outputId": "5c6201dd-7f71-4203-e14c-b1773720bd68"
      },
      "source": [
        "print (paragraph_indices[:10])\n",
        "print (query_vector)"
      ],
      "execution_count": null,
      "outputs": [
        {
          "output_type": "display_data",
          "data": {
            "text/html": [
              "\n",
              "  <style>\n",
              "    pre {\n",
              "        white-space: pre-wrap;\n",
              "    }\n",
              "  </style>\n",
              "  "
            ],
            "text/plain": [
              "<IPython.core.display.HTML object>"
            ]
          },
          "metadata": {
            "tags": []
          }
        },
        {
          "output_type": "stream",
          "text": [
            "[(765, 30), (768, 16), (694, 11), (619, 9), (634, 9), (626, 8), (645, 8), (727, 8), (586, 7), (593, 7)]\n",
            "[('Nehru', 1), ('Jawaharlal Nehru', 0.7297710180282593), ('Pandit Jawaharlal Nehru', 0.686538815498352), ('Pandit Nehru', 0.6833187341690063), ('Lal Bahadur Shastri', 0.6741498708724976), ('Indira Gandhi', 0.6672089099884033), ('Ambedkar', 0.6314840912818909), ('Mahatama Gandhi', 0.6306662559509277), ('Narasimha Rao', 0.6273825168609619), ('Jawahar Lal Nehru', 0.6264326572418213), ('Jawaharlal', 0.6253728866577148), ('Chacha Nehru', 0.6252062320709229), ('prime minister Jawaharlal Nehru', 0.6234115958213806), ('Rajiv Gandhi', 0.6233093738555908), ('Tagore', 0.6217092275619507), ('Maulana Azad', 0.6209678649902344), ('Jinnah', 0.6170781254768372), ('Vajpayee', 0.6167270541191101), ('Motilal Nehru', 0.6164277791976929), ('Sardar Patel', 0.6139699220657349), ('Gandhiji', 0.6129738092422485)]\n"
          ],
          "name": "stdout"
        }
      ]
    },
    {
      "cell_type": "code",
      "metadata": {
        "colab": {
          "base_uri": "https://localhost:8080/",
          "height": 17
        },
        "id": "dAbZCrEOUslY",
        "outputId": "7c2f7487-8ed4-46f8-a47d-e755ca00bcaa"
      },
      "source": [
        "max_relevant_para = 5"
      ],
      "execution_count": null,
      "outputs": [
        {
          "output_type": "display_data",
          "data": {
            "text/html": [
              "\n",
              "  <style>\n",
              "    pre {\n",
              "        white-space: pre-wrap;\n",
              "    }\n",
              "  </style>\n",
              "  "
            ],
            "text/plain": [
              "<IPython.core.display.HTML object>"
            ]
          },
          "metadata": {
            "tags": []
          }
        }
      ]
    },
    {
      "cell_type": "code",
      "metadata": {
        "id": "O7lu9M1QUwM5",
        "colab": {
          "base_uri": "https://localhost:8080/",
          "height": 1000
        },
        "outputId": "3be87dcc-0170-4b09-a8a2-84094a4c5b3b"
      },
      "source": [
        "for i in range (max_relevant_para):\n",
        "  if paragraph_indices [i][1] > 0:\n",
        "    print (original_para [paragraph_indices [i][0]])\n",
        "    for i in range (10):\n",
        "      print ()"
      ],
      "execution_count": null,
      "outputs": [
        {
          "output_type": "display_data",
          "data": {
            "text/html": [
              "\n",
              "  <style>\n",
              "    pre {\n",
              "        white-space: pre-wrap;\n",
              "    }\n",
              "  </style>\n",
              "  "
            ],
            "text/plain": [
              "<IPython.core.display.HTML object>"
            ]
          },
          "metadata": {
            "tags": []
          }
        },
        {
          "output_type": "stream",
          "text": [
            "114 46 BIBLIOGRAPHY AND NOTES352Kerrin Gr fin Schwerin, Indirekte Herrschaft und Reformpolitik im indischenF rstenstaat Hyderabad, 1853 1911 Wiesbaden, 1980 Moin Shakir, Khilafat to Partition A Survey of Major Political Trends among Indian Muslims during 1919 1947 New Delhi, 1970 B.Pattabhi Sitaramayya, History of the Indian National Congress, 2 vols Bombay, 1935 47 David Washbrook, The Emergence of Provincial Politics The Madras Presidency, 1870 1920 Cambridge, 1976 The partition of IndiaAbul Kalam Azad, India Wins Freedom Bombay, 1959 K.K.Aziz, Rahmat Ali A Biography Lahore, 1986 Alan Campbell-Johnson, Mission with Mountbatten London, 1953 H.V.Hodson, The Great Divide New York, 1971 Nicholas Mansergh ed. , The Transfer of Power, vols 3 8 London, 1971 9 V.P.Menon, The Transfer of Power in India Bombay, 1957 Penderel Moon ed. , Wavell The Viceroy s Journal London, 1973 Robin J.Moore, Churchill, Cripps and India, 1939 1945 Oxford, 1979 Robin J.Moore, Escape from Empire The Attlee Government and the IndianProblem Oxford, 1983 C.H.Philips and W.Wainwright eds. , The Partition of India Policies andPerspectives, 1935 1947 London, 1970 Francis Tuker, While Memory Serves London, 1950 Stanley Wolpert, Jinnah of Pakistan New York Oxford, 1984 CHAPTER 8 THE REPUBLICInternal affairs political and economic developmentGranville Austin, The Indian Constitution Cornerstone of a Nation Oxford, 1966 Craig Baxter, The Jana Sangh A Biography of an Indian Political Party Philadelphia, 1969 Sugata Bose ed. , South Asia and World Capitalism Delhi, 1990 Paul R.Brass, The Politics of India since Independence Cambridge, 1990; NCHI Michael Brecher, Nehru A Political Biography London, 1959 Angela S.Burger, Opposition in a Dominant Party System A Study of the JanSangh, the Praja Socialist Party and the Socialist Party in Uttar Pradesh,India Berkeley, 1969 Howard Erdmann, The Swatantra Party and Indian Conservatism Cambridge, 1967 Francine Frankel, India s Green Revolution Economic Gains and Political Costs Princeton, 1971 Government of India, Report of the States Reorganisation Commission New Delhi, 1955 Albert H.Hanson, The Process of Planning A Study of India s Five Year Plans, 1950 1964 London, 1966 Stanley Kochanek, The Congress Party of India The Dynamics of One Party Democracy Princeton, 1968 Stanley Kochanek, Business and Politics in India Berkeley, 1974 BIBLIOGRAPHY AND NOTES353Wilfred Malenbaum, Prospects for Indian Development London, 1962 V.P.Menon, The Story of the Integration of the Indian States Bombay, 1956 W.H.Morris-Jones, Parliament in India Philadelphia, 1957 W.H.Morris-Jones, The Government and Politics of India London, 1964 E.M.S.Namboodiripad, The National Question in Kerala Bombay, 1952 Gene Overstreet and Marshall Windmiller, Communism in India Berkeley, 1959 Dietmar Rothermund ed. , Liberalising India Progress and Problems New Delhi, 1996 Myron Weiner, Party Building in a New Nation The Indian National Congress Chicago, 1967 External affairs global and regional dimensionsJ.S.Bains, India s International Disputes London, 1962 Ross N.Berkes and Mohinder Bedi, The Diplomacy of India Stanford, 1958 Partha S.Gosh, Cooperation and Conflict in South Asia New Delhi, 1992 Sisir Gupta, Kashmir New Delhi, 1966 Charles Heimsath and Surjit Mansingh, A Diplomatic History of Modern India Bombay, 1971 Robert C.Horn, Soviet-Indian Relations Issues and Influences New York, 1982 R.P.Kangle ed. , The Kautiliya Arthasastra, 3 vols Bombay, 1960 5 Alastair Lamb, The China-India Border London, 1964 K.-P.Misra ed. , Studies in Indian Foreign Policy New Delhi, 1969 Bimla Prasad, The Origins of India s Foreign Policy Patna, 1960 Dietmar Rothermund, Indien und die Sowjetunion T bingen, 1968 Arthur Stein, India and the Soviet Union The Nehru Era Chicago, 1969 Ton That Tien, Indian Foreign Policy in Cambodia, Laos and Vietnam, 1947 1964 Berkeley, 1968 354CHRONOLOGYBCc. 6000Neolithic settlements in Baluchistan 4th millenniumSettlements in the Indus valley 2800 2600Beginning of Indus civilisation 2600 1700Civ ilisation of the great cities in the Indus valley Mohenjo Daro, Harappa , in the Panjab Kalibangan and Gujarat Lothal 2nd millenniumImmigration of the Indo-Aryans c. 1400 900Early Vedic period Rigveda ; settlement of the Aryans in the Panjab and the western Ganga-Yamuna Doab c. 1000Iron in India 900 500Late Vedic period Brahmanas ; settlement of the Aryans in the central and eastern Gangetic plain; emergence of the earlyMahajanapadas800 400Painted grey ware in the area of Vedic settlement 500 onwardsEarly urbanisation in the eastern Gangetic valley Kausambiprobably earlier c. 518Gandhara and Sind satrapies of the Persian empire c. 500Magadha emerges as supreme power of the East c. 5thcentury The Buddha teaches in North India c. 364Nanda dynasty under Mahapadma 327 325Alexander in northwest India c. 320Chandragupta establishes the Maurya dynasty 268 233Emperor Ashoka 261Ashoka s conquest of Kalinga and his conversion to Buddhism 256Buddhist missions in South Asia and the Hellenistic world c. 248Independence of the Greeks in Bactria c. 185Pushyamitra kills the last Maurya and establishes the Sunga dynasty till 73 BC c. 175Foundation of the Indo-Greek empire c. 155 130M enander, most important king of the Indo-Greeks Milindapanho after 141Shakas conquer Bactria c. 94Maues, Shaka king in northwest India 58Azes I beginning of Vikrama era 1st centuryEmergence of the Shatavahanas in Central India and KingKharavela in Eastern India Kalinga CHRONOLOGY355ADc. 20 46Gondopharnes, Indo-Parthian king in Taxila early 1st centuryKujala Kadphises unites the Y e-chi tribes and establishes the Kushana empire1st centuryIntensive trade connections with the Roman empire 78Shaka era between 78Kanishka s accession to the throne; heyday of the Kushanaand 144empire after 125Resurgence of the Shatavahanas under Gautamiputra and Vasishtiputra 150Rudradaman Shaka Kshatrapa in western India c. 250Disintegration of the Shatavahana kingdom 320 Chandragupta I establishes the Gupta dynasty 335 75Samudragupta, expansion of the Gupta kingdom throughoutNorth India and temporarily to South India375 413 5Chandragupta II; Gupta empire at the peak of its power, conquest of the Shaka kingdom in the West and marriage alliance with the Vakatakas of Central India; a new climax of Sanskrit poetry Kalidasa 405 11Fa-hsien Faxian in India 415 55Period of peace and cultural expansion under Kumaragupta 455 67Skandagupta; first attack of the Huns 467 97Budhagupta, last important Gupta ruler c. 500 27Huns rule over North India under Toramana and Mihirakula; decline of the classical urban culture of the North543 66Pulakeshin I, rise of the Chalukyas of Badami in Central India c. 574Simhavishnu, rise of the Pallavas of Kanchipuram in South India 606 47Harsha of Kanauj 609 42Pulakeshin II of Badami; hegemony of the Chalukyas overCentral Indiac. 630Pulakeshin defeats Harsha of Kanauj; end of North India s hegemony630 43Hsiuen-tsang Xuanzang in India 680 720Zenith of the Pallava kingdom under Narasimhavarman II shore temple at Mahabalipuram 711Arabs conquer Sind 752 6Dantidurga overthrows the Chalukyas and establishes theRashtrakuta dynasty770 821Go pala establishes the Pala dynasty of Bihar and Bengal, under his successor Dharmapala hegemony over eastern India788 820Shankara 783Vatsaraja establishes the Gurjara-Pratihara dynasty of Rajasthan late 8th centuryBeginning of the great interregional conflicts 836 85Gurjara-Pratiharas become the most powerful dynasty of India under Bhoja860King Balaputra of Sumatra establishes a monastery at Nalanda 871 907Aditya I overthrows the Pallavas and establishes the Choladynasty939 68Rashtrakutas become the most powerful dynasty under Krishna III; defeat of the Cholas 973Taila overthrows the Rashtrakutas and establishes the Chalukya dynasty of Kalyani CHRONOLOGY356985 1014Rajaraja establishes the Chola empire, conquest of South India and Sri Lanka 988 1038Mahipala, resurgence of the Palas of Bihar and Bengal 1000 27Mahmud of Ghazni raids North India in 17 expeditions destruction of Mathura, Kanauj and Somnath temple 1014 47Rajendra Chola, The Great 1023 3Chola army advances to the Ganga and defeats the Somavamshis of Orissa and the Palas of Bengal1025Conquest of Srivijaya Sumatra and Malaya by a maritimeexpedition of the Cholas1070 1120Kulottunga I of Vengi ascends the Chola throne 1077 1147Anantavarman Chodaganga of Kalinga conquers central Orissa and establishes the Ganga empire1077 1120Ramapala, the last important Pala king, reconquers parts ofBengal1137Death of the Vaishnava reformer Ramanuja 1179 1205Lakshmana Sena, last Hindu king of Bengal 1192Battle of Tarain, Mahmud of Ghur defeats a Rajput confederation under Prithiviraja; in the following years conquestof North and East India by Muslim armies 1206Aibak establishes the sultanate of Delhi 1210 36Iltutmish, sultan of Delhi 1246 79Rajendra III, last Chola king c. 1250Sun Temple of Konarak 1253 75Under Jatavarman Vira Pandya, temporary resurgences of the Pandyas of Madurai 1266 87Balban, sultan of Delhi 1290 1320Khalji dynasty of Delhi 1293Marco Polo in South India 1297 1306Delhi sultanate repulses several attacks of the Mongols 1296 1316Ala-ud-din, sultan of Delhi, radical administrative reformmeasures1309 11Conquest of South India by the sultanate of Delhi 1320 88Tughluq dynasty of Delhi 1325 51 Muhammad Tughluq 1327Daulatabad in Central India temporarily the new capital of the sultanate; beginning of the disintegration1334 70Sultanate of Madurai 1338Separate sultanate of Bengal 1346Foundation of the empire of Vijayanagara 1347Bahman Shah establishes the Bahmani sultanate in Central India 1351 88Firoz Shah, the last important sultan of Delhi 1361Firoz Shah raids Orissa 1370Vijayanagara conquers the sultanate of Madurai 1398Timur devastates Delhi 1403Separate sultanate of Gujarat 1406 22Conquests of the east coast by King Devaraja II of Vijayanagara 1414 51Sayyids of Delhi 1435 67Kapilendra establishes the Suryavamsha dynasty of Orissa 1451 1526Lodi dynasty; renewal of the Delhi sultanate 1463Kapilendra conquers the east coast up to the Kaveri 1481Murder of Prime Minister Mahmud Gawan and beginning of the disintegration of the Bahmani sultanate CHRONOLOGY3571489 1505Sikander Lodi; Agra new capital of the Delhi sultanate 1498Vasco da Gama in Calicut 1509 29Krishadeva Raya, zenith of the power of Vijayanagara 1510The Portuguese conquer Goa 1526Baber, the Great Mughal, defeats the sultan of Delhi 1542Sher Shah conquers North India and introduces a new system of revenue administration1554Humayun, the Great Mughal, defeats the successor of Sher Shah and re-establishes Mughal rule1556Akbar succeeds Humayun 1565Battle of Talikota the Vijayanagar army defeated by the joint forces of the successor states of the Bahmani sultanate1574Akbar conquers Gujarat 1586Philip II, King of Spain and Portugal, concludes the peppercontract with the German merchants Fugger and Welser 1600Foundation of the East India Company in London 1602Foundation of the Dutch East India Company 1605 27Jahangir, the Great Mughal, and his wife Nur Jahan preside over the flowering of Persian court culture in India1615 18Sir Thomas Roe, the first British ambassador, stays at the Mughal court1627 58Shah Jahan, the Great Mughal, conquers large parts of thenorthern Deccan, builds the Red Fort in Delhi and the Taj Mahal in Agra1636 44Mughal Prince Aurangzeb rules the South as viceroy of theDeccan1646Shivaji establishes his strongholds in the region of Pune,Maharashtra1655Aurangzeb raids the sultanate of Golconda 1658 1707The Mughal empire at its height under Aurangzeb, the Great Mughal, who brings about its decline by exhausting its resources1664Inauguration of the French East India Company 1668 1706Fran ois Martin, the founder of French power in India 1670Shivaji raids Surat, the port of the Mughal empire 1680Shivaji dies 1681Aurangzeb establishes Aurangabad on the Deccan as newMughal capital1686 7Aurangzeb annexes the sultanates of Bijapur and Golconda 1707 19Three weak Great Mughals who follow each other in quicksuccession preside over the downfall of the Mughal empire 1714 20Balaji Vishwanath, the first Peshwa chief minister of the Maratha king, Shahu, establishes a new system of a centralisedcollection of tribute1724Nizam-ul-Mulk Asaf Jah, viceroy of the Deccan and vezir of the Mughal empire, leaves Delhi and establishes a quasi-independentstate at Hyderabad, other Mughal provinces Bengal, Oudh follow suit1720 40Peshwa Baji Rao I extends Maratha rule to North India, raids Delhi1739Nadir Shah, ruler of Persia, sacks Delhi and steals the Mughals peacock throne1742 54The French governor, Dupleix, exploits the feuds among Indian rulers and builds up an Indian infantry in French service CHRONOLOGY3581746The French admiral, La Bourdonnais, captures Madras 1751Robert Clive captures and defends Arcot 1757Battle of Plassey, Clive defeats the nawab of Bengal and installs Mir Jafar1760Battle of Wandiwash, British troops defeat the French 1761Battle of Panipat, the Afghan ruler, Ahmad Shah Durrani, defeats the Marathas who withdraw to the South1764Battle of Baxar, the joint forces of the Great Mughal and of the nawabs of Bengal and Oudh are defeated by the British and theirIndian troops1765Clive returns to India as governor of Bengal and accepts the grant of civil authority Diwani of Bengal from the GreatMughal on behalf of the East India Company 1769Haider Ali, who had usurped the throne of Mysore in 1761, conquers large parts of Southern India1770Bengal famine, one-third of the population dies 1773Regulation Act, Warren Hastings becomes governor general 1782Haider Ali dies; his son Tipu Sultan continues the fight against the British power in India; Hastings concludes the peace treaty of Salbei with the Marathas so as to concentrate on the South1784Sec ond Regulation Act, stronger position of the governor general, establishment of the Board of Control in London1785Impeachment of Warren Hastings; his successor, Lord Cornwallis, defeats Tipu Sultan and annexes a major part of his territory1793Permanent Settlement Land Revenue of Bengal 1799Final defeat and death of Tipu Sultan 1803The nawab of Oudh cedes the southern and western districts of his territories to the British1818Final British victory over the Marathas 1843 8Consolidation of British territorial rule in India; conquest ofSind and of the Panjab1857M utiny of the Indian soldiers of the army of the East India Company and revolt of the landlords of Oudh and of someIndian princes1858East India Company dissolved, India under the Crown 1861E stablishment of the Imperial Legislative Council Indianmembers nominated by the viceroy 1877Queen Victoria assumes the title Empress of India 1880British defeat in the Afghan war influences British elections,Gladstone sends Liberal viceroy, Lord Ripon, to India, Indian nationalists hope for Liberal support1885First Indian National Congress meets in Bombay 1892Reform of Legislative Councils; more Indian members 1905Partition of Bengal, national agitation, boycott of British goods Swadeshi campaign 1906Foundation of the Muslim League 1907Split of the National Congress Moderates Extremists 1908Bal Gangadhar Tilak sentenced to six years imprisonment 1909Morley-Minto reform, separate electorates for Muslims 1916Lakhnau Pact between National Congress and Muslim League Tilak-Jinnah 1917Montagu declaration on responsible government CHRONOLOGY3591918Split of the National Congress and establishment of the National Liberal Federation1919Rowlatt Acts and Gandhi s Rowlatt satyagraha 1920Montagu-Chelmsford reform, dyarchy in the provinces 1920 2Gandhi s non-cooperation campaign and the Khilafat agitation of the Indian Muslims1928Simon Commission visits India 1929Lord Irwin s declaration on Dominion status does not satisfy Congress1930Gandhi s salt march and civil disobedience campaign; firstRound Table Conference in London boycotted by Congress 1930 1Great Depression fall of agrarian prices hits India, peasant unrest articulated by Congress1931Gandhi-Irwin Pact; Gandhi participates in second Round Table Conference1932Resumption of civil disobedience campaign; Gandhi-Ambedkar Pact reserved seats instead of separate electorates foruntouchables 1933End of civil disobedience campaign 1934Elections to the Central Legislative Assembly, Congress wins several seats1935Government of India Act 1936Elections, Congress wins majority in seven provinces 1937Congress accepts office after initial protest against governor s emergency powers1939Second World War begins, Congress ministers resign 1940Lahore Resolution Pakistan Resolution of the MuslimLeague, Two Nations theory articulated by Jinnah 1942Cripps Mission and Quit India resolution; August revolution 1944Gandhi-Jinnah talks end without results 1945Simla C onference, national interim government cannot be formed due to Jinnah s demands1946Elections, Muslim League very successful; cabinet mission; Direct Action Day of the Muslim League 16 August and Great Calcutta Killing ; interim government Jawaharlal Nehruprime minister1947Independence and partition Pakistan, 14 August; India, 15August ; Kashmir conflict begins1948Assassination of Mahatma Gandhi 30 January 1950Constitution of Republic of India inaugurated Rajendra Prasad president , J.Nehru prime minister 1951Nehru mediates in the Korean war 1952First general election, Congress wins 1952 6First five-year plan 1954Indian mediation in Indochina; Pakistan joins American pact system1955B andung Conference of Afro-Asian states; Krushchev andBulganin visit India; States Reorganisation Committee recommends creation of linguistic provinces1956Nehru s remarks on Soviet intervention in Hungary resented in Western countries, Cold War intensified 1957 61Second five-year plan, emphasis on industrialisation, foreign aid required CHRONOLOGY3601957Second general election, Congress wins with the exception of Kerala Communist Chief Minister E.M.S.Namboodiripad 1959 President s Rule in Kerala; foundation of the Swatantra Party; Dalai Lama flees from Tibet to India; beginning of open confrontation between China and India1960Indus Water Treaty with Pakistan, Nehru-Ayub Khan talks; Nehru s attempt at mediation in UN after breakdown of Paris summit; division of Bombay state between Gujarat andMaharashtra1961Non-aligned Conference in Belgrade; Nehru-Chou Enlai talks in Delhi; liberation of Goa 1962Third general election; Congress wins; border war with China 1962 6Third five-year plan, rapid expansion of heavy industry 1964Nehru dies; succeeded by Lal Bahadur Shastri 1965Conflict with Pakistan over the Rann of Cutch; Pakistan s attack on road to Kashmir, Indian counter-offensive directed at Lahore, cease-fire and Soviet mediation1966Conference at Tashkent USSR ; Shastri dies, succeeded by Indira Gandhi; devaluation of the rupee, bad harvests and greatincrease of agrarian prices1967Fourth general election, Congress maintains majority position at the centre but loses control of several states1968 Green Revolution begins; fourth five-year plan postponed 1969Elections in several states, no consolidation of Congressposition; Indira Gandhi splits Congress, drops old guard 1971Elections centre only , Indira Gandhi s Congress wins; Indo- Soviet Friendship Treaty; Indian army helps in liberation of Bangladesh, Pakistan s troops surrender in Dhaka1972Indira Gandhi s meeting with Bhutto at Simla leads tonormalisation of relations; bad harvest endangers economicposition1974Oil price rise and another bad harvest lead to rapid inflation; strike of railway workers; underground test of a nuclear device1975Protest movement led by Jayaprakash Narayan; High Courtjudgment against Indira Gandhi in election case; Congress defeatin Gujarat; Emergency , many opposition leaders arrested1976Indira Gandhi postpones elections which would have been due in that year and then suddenly fixes election date for March19771977Indira Gandhi defeated in election, Morarji Desai becomesprime minister, former opposition parties merge and form Janata Party1978Conflicts in Janata Party, Deputy Prime Minister Charan Singh dismissed1979Desai resigns, Charan Singh leads caretaker government 1980Indira Gandhi wins elections; Sanjay Gandhi, Congress secretary general, dies in private aircraft accident 1983Elections in Andhra Pradesh Telugu Desam Party N.T.Rama Rao and Karnataka Janata Party Ramkrishna Hegde lead todefeat of Congress I ; Non-aligned Conference in New Delhi,with Indira Gandhi as president1984Unr est in Panjab, Indian army action in Golden Temple of Amritsar which is occupied by armed Sikhs leader Jarnail Singh CHRONOLOGY361Bhindranwale killed in action ; Indira Gandhi assassinated bySikh members of bodyguard 31 October and succeeded byRajiv Gandhi; December elections won by him1985Budget signals change in economic policy Assam and Panjab Accords; elections in Assam won by Asom Gana Parishad and in the Panjab by the Akali Dal1987President s Rule in the Panjab, Lok Dal wins election inHaryana; V.P.Singh, former finance and defence minister, deprived of Congress Party membership, becomes leader of the opposition. Severe drought in India. Gandhi and Sri LankaPresident Jayewardene sign accord, Indian peace-keeping force stationed in northern Sri Lanka, unable to disarm Tamil terrorists1988V.P .Singh wins by-election as opposition candidate; Panjabunrest continues, Golden Temple in Amritsar once more stormed by Indian army1989Conflict with Nepal on foreign policy and migration, Indianblockade. Sri Lanka President Premadasa issues ultimatum, Indian troops to quit, new accord postpones this. Sovietwithdrawal from Afghanistan relieves India, but India pledgedto support Kabul regime Elections in November 1989 end in defeat of Congress Party; Gandhi resigns, V.P.Singh forms government1990Indian troops leave Sri Lanka Deputy Prime Minister Devi Lal dismissed by V.P.Singh Ramjanmabhumi campaign, BJP President Advani heads procession to Ayodhya, arrested in Oct., V.P.Singh s government falls, Chandrashekhar forms another minority government, Nov\n",
            "\n",
            "\n",
            "\n",
            "\n",
            "\n",
            "\n",
            "\n",
            "\n",
            "\n",
            "\n",
            "1997Deve Gowda replaced by Inder Kumar Gujral as prime minister, April Map 1History and the EnvironmentMAPS Map 2Indus CivilisationMap 3Early Cultures of the Gangetic Valley c. 1000 500 BC Map 4Maurya Empire under Ashoka 268 233 BC Map 5India c. 0 AD 300 Map 6The Gupta Empire 320 500 Map 7Regional Kingdomsin the Early Seventh CenturyMap 8Regional Kingdoms of the Early Middle Ages c. 900 1200 Map 10Temple Donations and Ritual Policy in Vijayanagara 1505 9 Map 9Territorial Development of Orissa c. 600 1400 Map 11Late Middle Ages 1206 1526 Delhi Sultanate and Late RegionalEmpires Map 12The Mughal Empire Map 13The British Penetration of India 1750 1860 Map 14The Republic of India 373Abbas, Shah king of Persia 191, 201Abdul Ghaffur trader 207 Abdullah ruler of Uzbeks 187, 188 Abhinavagupta religious leader 141 Abhiras people 83 Abu, Mount temples 110 Acchutavikkanta king of Kalabhras 99 Achaemenids dynasty 53, 54 Acheson, Dean 320 Achyutadeva Raya king of Vijayanagar 179, 181Achyutarayabhyudaya text 181 Acts 282 3, 298; under British 225 7, 239 41, 249, 255 6, 260, 264, 266, 275 6, 278, 283, 292, 295 6Aditya king of Cholas 115 administration, state in ancient empires 53, 55, 57, 59 61,64 5, 67, 83, 89, 94, 96in early middle ages 121 6, 145 in late middle ages Alauddin 160 3;Gajapatis 175 6; Muhammad Tughluq 166 8; Vijayanagar 182 under British 214, 216 18, 231, 241 2,245 9under Mughals 187 92, 207, 214Advaita philosophy 139 Advani, Lal 305, 312, 314 Afghan war 1878 80 239, 250 Afghanistanin ancient empires 53, 57 8, 63, 70, 72,79during early civilisations 18, 20, 35 in late middle ages 154 6 Mughal empire and 184, 186 8, 215 Soviet Union invades 330 agency houses 232 3 Agni firegod 4, 35, 38, 48 9 Agnikula 110 Agnimitra son of Pushyamitra 68 Agra 9, 11, 167, 191; and Oudh, UnitedProvinces under British 243 5agriculture 2 3in ancient empires 61, 88, 92 4 in early civilisations 19, 25, 29, 37 8, 41 in early middle ages 110, 123, 145 in late middle ages 161 in republic 299, 303, 306 under British 249; trade in products 232 3, 243under Mughals 187 see also land revenue Ahicchatra 50 Ahmad Shah Durrani Afghan raider 210,215Ahmadabad 265 Ahmadnagar 171, 191, 193 AIADMK see All-India Anna Dravida Munnetra KazhagamAid to India Consortium 320 aid, foreign 298, 320, 328; to Pakistan 325;see also investment Aihole 104, 125 Aitareya Brahmana text 96 Ajanta, caves at 149 Ajatashatru king of Magadha 54 5 Ajivikas sect 67 Ajmer 111, 157 Akali Dal Party 308, 310 Akbar Mughal emperor 169, 174, 186 92 Aksai Chin territory 321 2 Alam see Shah Alam Alamgirpur prehistoric site 18 Alans people 90 Alberuni writer 154 5 Albuquerque Portuguese 151 alcohol prohibited 162, 164 Alexander of Epirus 64 Alexander the Great 56 8, 70, 159 Alexander, Lord 288 Ali brothers journalists 267 Ali, Rahmat and Pakistan NationalMovement 283 5, 290Aligarh, College at 245INDEX INDEX374Aligarh Muslim University 245Alivardi Khan ruler of Bengal 209, 213 All-India Anna Dravida MunnetraKazhagam AIADMK 316 All-India Congress Committee 263 All-India Handspinners Association 270 Allahabadin early civilisation 45 in early middle ages 98, 107, 121Mughal empire and 216, 218in republic 304 Samudragupta s inscription at 79, 81 4,98, 121, 124under British 244Ala-ud-din sultan of Delhi 159 60, 167;administrative reforms 160 6, 168Al-Mas udi 109, 153 Alwar 276 Alwars saints 132 Amaranayakas officers 180 3 Amaravati 148Ambedkar, Dr B.R. 275, 296 7 Amoghavarsha king of Rashtrakutas 127 Amoghavajra Buddhist monk 148 Amri prehistoric site 18 19, 21 2, 25 7, 29 Amritsar, massacre at 266; Golden Temple stormed 308Anangabhima III king of Orissa 173, 175Anantavarman Chodaganga king ofOrissa 172 3, 175ancient empires see empires, ancient Andaman Islands 116Andhra 148, 178, 179, 275; in republic 301,302, 311Andhra University 301 Andhra Pradesh 105, 160, 176, 311, 314,315Andhras people 64, 95, 301; see alsoShatavahanasAnga 50, 54, 56 Angkor 116 17, 143, 149 50 Anglo-Indians 251 Anglo Vedic 249 50 Anhilwara 157Antekina king of Macedonia 64anthropomorphisations of gods 134 Antigonos king 59 Antigonos Gonatas king of Macedonia 64 Antiochos II king of Seleucids 63 Antiochos III king of Seleucids 69 Antiyoka king of Syria 63Antonius Pius Roman emperor 77 Anuradhapura 115 Apabhramsha dialect 142 Apollodoros brother of king Demetrios 70 1Appar Saint 114, 132, 135Ara 77 8Arabia Arabs 11, 99, 101 in early middle ages 106, 109 10, 118 in late middle ages 152 3, 171see also Islamic conquests Arabic language 195, 235 Aramaic script 51 Aravalli mountains 10, 110 Aravidus dynasty 180 architecture see buildings; temples Arcot, nawab of 212Ardashir I king of Sassanids 79 Arikamedu ancient site 101 armiesin ancient empires 56 7, 59 in early medieval kingdoms 109, 115 European 210 13, 217 Indian National 281 in late middle ages 155 8, 161 2, 168 under British 249 51, 265 6 under Mughals 184 6, 193, 195 6 see also Pakistan conflict; wars; weapons Arsakes king of Parthians 69artin ancient empires 76 7, 81, 88 in early middle ages 111, 113 14, 129,148 9see also sculpture Arthashastra text 56, 58 60, 67, 93, 98, 122, 318; political system of 60 2, 89, 144, 163artillery see weapons artisans see craftsmen Arya Samaj religious association 249 50,258Aryanisation see Sanskritisation Aryans 47, 55climate and 28 expansion of 37 9immigration and settlement 3 4, 29 39,48 50, 92king, role of 41 3 Mahabharata, role of 43 5 philosophy, emergence of 45 6 social differentiation 39 41Vedas as mirror of historical experience 33 7Asaf-ud-Daula nawab of Oudh 218 Ashoka king of Mauryas 62 7, 76 7, 95,104, 147; inscriptions 51, 78 9, 103 ashvamedha see horse sacrifice Ashvavarman king of Indonesia 145Asom Gana Parishad 310 Assam 85, 112, 157freedom movement and 262 partition and 289 in republic 307 8, 310, 321 2tea trade 243Assamese language 142 INDEX375Atharvaveda text 34, 47Atisha Buddhist monk 148 Atranjikhera 44 Attila Hun leader 90, 154 Attlee, Clement 287 8, 290 1 Augustus Roman emperor 100 Aurangabad 9, 11, 66, 165, 193 4 Aurangzeb Mughal emperor 67, 140,164 6, 171, 192 6, 205Aurobindo politician and philosopher 263 Avadi Resolution 318 Avanti 9, 47, 50, 56, 62, 84 Ayar people 93 Ayodhya 311 12, 314 Ayub Khan 323 Ayuktakas city officers 89 Ayyavole guild 118 20 Azad, Maulana journalist 267, 278 9 Azes I king of Shakas 72, 73 Azes II king of Shakas 74 Baber Mughal emperor 169, 184 7, 191,193, 195, 197, 210 11, 215, 311Babri Masjid Ayodhya 311 12, 314 Babu elite 242 3 Bactria 31, 36, 73 4, 77 9, 90Greek kings of 68 72Badami 9, 11, 104 6, 113 Bahadur II Mughal emperor 236 Bahadur Shah Mughal emperor 196 Bahman Shah see Zafar Khan Bahmanis dynasty 170 2, 178sultanate 106, 166, 170 2, 174, 178 80Bajaur 185 Baji Rao I Peshwa 196 7, 207, 210 Baji Rao II Peshwa 221 Bakhtyar Khilji, Muhammad general 112,157 8Baksar 216 Balaji Baji Rao Peshwa 215 Balaji Vishwanath Peshwa 196 Balaputra king of Shrivijaya 113, 147 Balban sultan of Delhi 159, 164, 168 Bali 150 Balkh 192 Ballala III king of Hoysalas 160, 177 Ballala IV king of Hoysalas 177 Baluchistan 2, 18 22, 25, 31, 58 9, 188, 283 Bana writer 104 Banerjea, Surendranath 259, 270 Bangistan , advocated 283 Bangladesh 304, 307, 325 7, 328, 330; seealso Pakistan bankers 68 banking 233 Barani writer 163 5 Barhut 68 Barid Shahis 171Barnala, Surjit Singh 310Baroda 196, 211 Basava Brahmin reformer 141basileus Greek royal title 73, 75Basra 200 Basu, Jyoti 307, 317 Battle of Ten Kings 35 Behistun, inscription at 53 Benaras see Varanasi Bengal 9, 90, 119in early middle ages 106, 111 13 freedom movement and 258, 261 2, 270,276in late middle ages 157, 159, 164 6, 172 4 Mughal empire and 187, 207 11, 213 partition and 283, 289, 291; rise ofextremism 262 3in republic 300, 307 under British 205, 216 220, 223, 224, 227, 229, 231 3, 241 3, 248, 254 5; Diwani of, and Clive 213 15; textiles exported232, 246see also Calcutta Bengali language 142Berar 183 Besant, Annie 264 Besnagar, Heliodorus pillar at 69, 71 bhadralok 242 3 Bhagabhadra king of Shungas 69Bhagavata Purana text 139, 142Bhakti movement 114, 131 9, 141 Bhanjas dynasty 125 6, 173 Bhanudeva IV king of Orissa 174, 178 Bhanugupta king 90Bharatas people 35Bharatiya Janata Party BJP 300, 305,310 17Bharhut, monastery at 81 Bharukacha 66, 70 Bhaskaravarman king of Kamarupa 121Bhaumakaras dynasty 125 6Bhave, Vinobha 299, 305 Bhils people 110 Bhindranwale, Jarnail Singh 308 Bhir Mound 50, 54; see also Taxila Bhoja king of Gurjara Pratiharas 108Bhoja king of Paramares 179Bhubaneshwar, temple at 129 Bhutto, Zulfiquar Ali 323, 325, 327 Bidar 9, 106, 170 1 Bihar 9in ancient empires 50in early middle ages 106, 112freedom movement and 262, 265, 275,280, 289in late middle ages 157 8 in Mughal empire 185, 207, 216 under British 216, 233, 242 3 INDEX376Bijapur 9 in late middle ages 171 2, 179in Mughal empire 193 4Bimbisara king of Magadha 53 4, 57 Bindusara king of Mauryas 62 Birkenhead, Lord 255 Birla, G.D. 270, 298 BJP see Bharatiya Janata Party Board of Control East India Company 226Bodh Gaya 83; Buddha s Enlightenment at53Boghazk y, peace treaty of 32 Bombay now called Mumbai 13 freedom movement and 258, 260, 264,267, 270in Mughal empire 205 in republic 301 under British 207 8, 219; courts 240;education 235; Presidency 246 8, 252;textile industry 248 Bombay plan 298 border kings in ancient empires 83 5, 121 Borobudur 143, 148 9 Bose, Subhas Chandra 271, 277 8, 281Bourdonnais, see La Bourdonnais boycotts and freedom movement 267 8,270 1Brahma god 133 Brahmanas texts in ancient empires 47 9, 96 under early civilisations 33 4, 38 9, 41, 46Brahmanism 132; see also Hinduism Brahmasutras text 131 Brahminsin ancient empires 48 9, 59, 67, 80;Guptas 88, 92, 94; Shatavahanas, 97, 99in early civilisations 33, 35, 39, 42, 46 in early middle ages 121, 123, 128 30, 137,141; Bhakti and 133 5, 139; ritual sovereignty of kings 128 30land grants to 87 8, 97, 99, 121, 123, 128 in late middle ages 167 theory of colonisation of Southeast Asia143 6under British 228, 246 see also Hinduism Brahmo Samaj religious association 235,258 Breakdown Plan 287 8Brezhnev, Leonid 326, 328 Brihadaranyaka Upanishad text 46 Brihadratha king of Mauryas 68 British and Mughal empire 202 23 British colonial rule 13, 224 57, 333 4Company Bahadur as trader and ruler224 39constitutional reform, pattern of 252 7imperial structure and regional impact239 52see also freedom movement British Indian Association 252 bronze 40 Budhagupta king of Guptas 90 Buddha, Gautama 49, 52 4 Buddhism 46in ancient empires 49, 51 4, 56, 68, 71, 97;Ashoka and 62 4, 67; Guptas and 88, 91; Kushanas and 75 6; rise of 51 3; Shatavahanas and 97; Shungas and 68; in South 92, 94in early middle ages 112, 114, 131 2, 141,147 50monasteries 51, 68, 78, 83, 88, 91, 97, 99,113 17, 150Buhlul Khan sultan of Delhi 167 buildings 112, 167, 191; see also temples Bukka I king of Vijayanagar 176, 178 Bulganin 320 Bundi 157 Burke, Edmund 218 Burma now Myanmar in early middle ages 147 8, 150 Japan conquers 281 Upper, conquest of 1885 250, 319 Bussy, General Charles de 206, 212 14, 220 Cabinet mission scheme, partition and288 90Calcutta 13freedom movement and 258 60 in Mughal empire 205, 213 14, 218 partition and 289 90 under British 210 14, 217, 242 3, 268;constitutional reform 252; courts and law 228, 240, 242; education 231, 234 5, 242; trade and commerce 231 4Cambodia 116 17, 146, 150 Carr, Tagore Co. 232 3, 248 Carter, J. 328 9 caste systemin early civilisations 39 43 in late middle ages 156 movements against 133, 141 see also Hinduism; social differentiation cattlecow protection movement 259, 261 in early civilisations 35 7, 45 raids 37, 93cavalry see weapons Celebes 148 censorship, newspaper 260 Census of India 14 Central Asia 147 Central Legislative Assembly 276, 283 INDEX377centralised state 61, 65, 108, 163, 169, 207;see also administration ceramics 19 23, 26, 41, 44, 51, 101Cerobothra see Cheraputra Chahamanas people 111 Chaitanya saint 140 chakravartin imperial title 6 7, 95, 115,137Chalukyas dynasties 9, 11, 92in early middle ages 104 6, 109, 113, 118in late middle ages 153, 157Chamber of Princes 276 Champa 50 Champaran 265 Chandana 146Chandellas dynasty 111, 154Chanderi 159 Chandernagar 211, 213 Chandi Jago Temple 150 Chandigarh 310 Chandragupta king of Mauryas 8, 57 60,62, 69, 79Chandragupta I king of Guptas 81 2 Chandragupta II king of Guptas 84 7 Chandrashekar 313 chandravamsa 110 Chanhu-Daro 20, 22Chapata Buddhist monk 150Charan Singh 305 7 chariots see also weapons 7, 34 Charssada 54 Chattisgarh see Dakshina Kosala Chauhans people 111, 157Chauri Chaura, arson and murder at 269,273Chedis dynasty 95 Chelmsford, Lord viceroy 255 Chennai see Madras Cheraputra 100 Cheras people 98 9, 108, 115, 119 chess 8 Chetiya 50 Chidambaram temples 117, 134 6, 179 Chidambaram, P. 316 17 China 232ancient empires and 64, 74, 80, 97, 101,104in early middle ages 116 17, 147 8republic and 319, 329; challenge from320 3; Pakistan and 323 4; Tibet and 321 2; Soviet Union and 324Chinese pilgrims, number of 147 Chingis Khan Mongol emperor 152, 154,158Chitor 159 60 Cholamandalam 9, 106 Cholas dynasty 9, 11early civilisations and 63, 92, 98 9in late middle ages 155, 175in middle ages 105 6, 108 9, 115 17, 119,124, 149Chota Nagpur 13 14, 56Chu Chan-t an king of Funan 146 Churchill, Winston 256, 273, 278 80, 287 Chwaresm 157 8 cities, temple, emergence of 134 6; see alsourbanisationcivil disobedience 271 3, 275 6civil service under British 231, 235, 242, 252,259, 333 4; see also administration classical age see Guptas Clausewitz, Karl von 117 climate, change theory of decline of ancientcivilisations 27 9, 47; invasions and 154Clive, Robert 212 17, 223 4 coal 13; trade 248 Cochin 301 Coenus Greek general 58 Coimbatore 102, 221 coinsin ancient empires 51; Greek 70 3, 75;Kushana 75 80; Roman 76 7, 102in late middle ages sultanate of Delhi 166, 169under Mughals 189Colbert, J.B. 205 6colleges and universities 147, 149, 231,234 6, 245, 248 9; see also education colonial rule see British colonial rule Communal Award 274 6 Communist Party 296, 299 300, 320Compagnie des Indes 205 6, 212 13 Company Bahadur 223economic change and Indian enterprise248 50education, uses 234 6law, British and Indian 227 9 Mutiny 1857 236 9 peasants, absconding, and permanentsettlements 229 31 regulating acts 225 7 as trader and ruler 224 55 Congress see National Congress Congress for Democracy 305 Congress Party see National Congress Congress Socialist Party 276, 299 congress system 302 3 Congress-League pact 1916 264, 282Conjeeveram see Kanchipuram Constituent Assembly 287, 289 90, 295 6 constitution 254, 256, 263, 268under British 252 7 under republic 294 7conversion to Islam 161, 167, 169Coote, E. 219copper 20, 24, 33, 38, 40, 101 INDEX378coins 86, 166, 168plates see inscriptions Cornwallis, Lord governor general 221,225, 229 31Coromandel coast 101, 106, 151 corruption 310, 317in East India Company 216 17, 231, 242Cosmas, called Indicopleustes Greekseafarer 91cotton see textiles courts see law craftsmen and artisans 38 41, 45, 60, 86, 94, 161, 209Cranganore 100, 118 Cripps, Sir Stafford 279 80, 285 8 cultureborrowings in Southeast Asia in earlymiddle ages 144 7regional growth in early middle ages130 43currency see coins Curzon, Lord viceroy 255, 260, 262 Cuttack 173, 179 Dacca 228 Daimabad 3, 18 Daivaputra Shahi Shahnushahis dynasty 79Dakshina Koshala 9, 82, 125 Dakshinapatha 4, 66, 82 Dalai Lama 320 Dandi, salt march to 272 Dareios the Great Persian Emperor 49,53 4 Dark Centuries , splendour of 79 81 Das, C.R. 264, 270 1 Dasaratha king of Magadha 68 dasyus indigenous people 34 6 Daud ruler of Multan 155 Daulatabad 11, 165, 170, 193 Dayanand Anglo Vedic College 250 Dayanand Saraswati, Swami 250 de Bussy French general 206, 212 14, 220de la Haye, M. French viceroy 206 de Rozio poet and teacher 235 de Seignelay, Marquis 206 Deccanancient empires on 91, 105 7 in early middle ages 118, 136 in late middle ages 159, 170 1, 179 in Mughal empire 191 3, 210 see also South Deccan Lava Trap 9 Delhi 10 11, 13, 57, 238in late middle ages 158, 165 in Mughal empire 185 6, 191, 194, 196 7,207, 210, 218, 220in republic 308, 315sultanate of 110 11, 158 69;administrative problems 160 5, 168 9; central and South India 158 9, 169 83Demetrios king of Indo-Greeks 70 1 Depression, Great 272 3, 277, 294 Desai, Moraji 302, 305 6, 328 9 Desh highlands 247 8 Deshmukh, Gopal Hari 258 Devagiri 159, 165 Devanagari script 244, 259 Devapala king of Palas 108, 111, 147 Devaraya I king of Vijayanagara 178 Devaraya II king of Vijayanagara 178 Dhamma-Mahamatras 63, 67, 95 Dhangars people 136 Dharapuram 221 Dharmapala king of Palas 107 8, 111 13,148Dhauli 64, 66 Dhillika see DelhiDholavira prehistoric site 3 Dhruva king of Rashtrakutas 107 Diadochi Greek rulers 58 Dilli 149 Diodotos king of Bactria 69 Dion Cassius 78 Direct Action Day 289 90 divinity see gods; religion Divodasa father of Sudasa 36 DMK see Dravida Munnetra Kazhagam Doab see Ganges area; Raichur Doab Dominion status, demand for 271 Draupadi 44 Dravida Munnetra Kazhagam DMK 316 Dravidian language 15, 92, 246, 301 Dulles, John Foster 328 Dupleix, Joseph F. 206, 211 14 Durga goddess 88 Dutch 200 6 Dvarasamudra 160 dyarchy 255 6 Dyer, General 266 early civilisations see under Northwest early middle ages, regional kingdoms in103 51 cultures, growth of 130 43 rise and fall of 103 20 Southeast Asia, impact on 143 51 structure of realms 120 30East Indiain ancient empires see Kalinga in early middle ages 106, 126 8, 136; seealso Orissa in late middle ages 172 6; see alsoOrissasee also Ganges area; South INDEX379East India Companies 202 6, 212, 216, 223,228, 231, 233, 235, 240, 243;British abolished 232, 236, 238ecology, regional, of south India in time of ancient empires 93 4economic change under British 231 4 economy, mixed , under republic education 147 50, 231, 234 6, 242 3,249 50, 252Egypt 100 1, 147, 184, 197 8, 320Eisenhower, Dwight D. 320 electorates, separate, under British 253 4 elephants 7, 100, 133, 172 3; see also underweaponselite, new, under British 242 3; freedom movement and 252, 261Ellora temples 113, 149 Elphinstone College 235 emergency under republic 304 7, 328 empires, ancient 47 102; see also Ganges area; Guptas; Mauryas; South Indiaenergy crisis 303 4English language 234 enterprise, Indian, under British 231 4 environment and history 1 16ancient empires and religious movements5 6Aryan migration, routes of 3 5chariots, elephants and warfare methods7 9maritime periphery and Europeanintrusions 12 13periods of history 6 7population density, regional pattern 13 15 regional patterns 8 12Eran 90 Erragudi 66 Eukratides king of Bactria 71Europeans 12 13in ancient empires 58, 99 100 military intervention 210 13 seapower 197 209 see also individual countriesEuthydemos king of Bactria 69external affairs under republic global andregional dimensions 318 32 Chinese challenge 320 3 Nehru as mediator 319 20 nuclear option and relations with UnitedStates 327 9Pakistan s operation Grand Slam andSoviet mediation 323 5South Asian regional co-operation330 2Soviet Union and liberation ofBangladesh 325 7Soviet Union s invasion of Afghanistan329 30Fa-hsien see Faxian Fatechand 207 Faxian Chinese pilgrim 8, 86 Fazlul Haq 285 federalism 255 7, 276, 300 22 Ferishta Muslim chronicler 180 feudalismmilitary in late middle ages 169, 176,180 3new form of 120 3Firdausi historian 154 firearms see weapons Firoz Shah sultan of Delhi 166 7, 169, 173 Fishes, law of 111 Fleury, Cardinal 207 floods 28, 45 foreign aid 298, 320, 328; see alsoinvestmentforest states 83 Fort William College 231, 235 6 fortified settlementsin ancient empires 50 1, 54, 95 6, 101 in early civilisations 34 5 under Mughals 193, 199, 208 9, 213FranceIndochina and 320 and Mughal empire 205 6, 210 17,219 21franchise 256, 276 Francis, Philip 219, 227, 229 30, 234 freedom movement 258 93Bengal, partition of 262 3 civil disobedience and Gandhi-Irwin pact271 3constitutional arena, return to 269 71 First World War and Home Rule league 263 5Liberal nationalists 259 61 neo-Hinduism and Muslim resentment258 9non-cooperation 265 7 pros and cons of office acceptance 276 8 Round Table and Communal Award 274 6Second World War, Cripps Mission and Quit India 278 81 Swaraj in one year 267 9 Vedanta, Karma yoga and national revolutionaries 261 2see also Gandhi, Mahatma Funan 146 8 gabarband 2 Gaekwar general 196 Gahadavalas people, dynasty 128 9, 157 Gajapatis kings of Orissa 107, 172 6, 178,180, 182Gandak river 4, 48 9 INDEX380Gandhara 49 50, 53, 70, 72, 81, 91, 97art 71, 76Gandharan Grave Culture 33Gandhi, Indirafirst period in power 302 5; foreignrelations 325 8; national emergency and economic plans 304 5second period in power 306 9Gandhi, Mohandas Karamchand Mahatma 52constitutional action 269 71 fasts 275, 281, 293 non-cooperation 265 7 pact with Ambedkar 276 pact with Irwin 271 5Pakistan and 286, 293radical action 267 9 and Round Table conference 274 6 Gandhi, Rajiv 309 14, 331 2 Gandhi, Sanjay 304 5, 309 Ganesha 149Ganga 2, 45, 57Ganga-Yamuna Doab see Ganges area Gangaikondacholapuram 115 16, 149 Gangas dynasty 107, 125, 172, 174 5 Ganges see Ganga Ganges area 3, 9, 18, 116, 121, 128, 335in ancient empires 47 67, 76, 81 3, 89 91; Arthashastra, political system of 60 2; Ashoka 62 7; Buddhism, rise of 51 3; origins of early state 54 7; penetration of east 48 50; urbanisation 50 1; seealso Guptas; Kushanas; Maurya empire in early civilisations 27 8, 33, 37 in early middle ages 104 13, 115 16, 121,128see also North India Ganapati god 261Ganweriwala 2, 26 7Garuda Vishnu s eagle 69, 83, 85 Gateway to India see Bombay Gautamiputra king of Shatavahanas 96 Gaya 138 geopolitics of South India in time of ancient empires 92 3George III king of England 229 Germany 281 Ghaggar river 2 3, 23 4, 27 8 Ghatotkacha 81 Ghaznavids dynasty 154, 156Ghazni 154, 156Ghiyas-ud-din Tughluq sultan of Delhi 164Ghur see Muhammad of Ghur Ghurids dynasty 156 7 Giri, V.V. 303 Girnar 66Gitagovinda text 139 Gladstone, W.E. 239, 260 Goain late middle ages 171, 179Portuguese and 179, 198, 323G bl, R. 77 gods and samantas 136 8; see also names ofindividual gods; religionsGodse, Nathuram 293 Gokhale, Gopal Krishna 261 5, 282, 334Golconda 171, 174, 191, 194, 203gold 40 Golden Ages see Guptas Gondopharnes king of Indo-Parthians 74 Gonds people 127 Gopala elected king of Palas 107, 111Goparaja general 90Goths people 90 Government College, Lahore 249 Government of India Act 1935 276, 283,292, 295 6; federalism and 255 7governor generals 225 6; see also individualnamesGovinda III king of Rashtrakutas 108 Gowda, H.D.Deve 317 18 grain trade and storage 162 3, 199, 272, 303, 306gramin gramani 40, 42 grammar 52, 98, 147Great Mughals see under Mughal empire Greater India Society 143 Greece 147 Greek, Greeks 68, 74, 77, 95, 97, 99, 103 Alexander s campaign 56 9, 69 70, 78,103coins 71 3 deification of rulers 80 mentioned on Ashokan rock edict 66 rulers of Northwest 69 72 Green Revolution 303 4, 306Grotius, Hugo 202 Guhilas dynasty 157 guilds 86, 89, 118, 144 Gujarat 9, 14, 190, 198 200, 207 in ancient empires 76, 78in early civilisations 18, 24, 29in early middle ages 149, 151 freedom movement and 263, 265, 272 in late middle ages 153, 157, 160, 166 7,170, 172Portuguese and 198 201in republic 295, 301under British 207, 247Gujarati language 247 Gujars people 237 Gujral, Inder Kumar 317 18, 332 Gulbarga 106, 170 1, 180Gunduphar king 74Gupta empire 7, 74, 126 INDEX381Guptas, classical age of 81 91, 104 5comparison with Harsha 120 3 Kalidasa and Sanskrit literature 87 8 land grants 128 Pushyamitras and Huns 89 91 religious tolerance and political consolidation88 9Shakas and Vakatakas 84 7, 97 structure of empire 83 4Gurdaspur district 292 Gurjara Pratiharas dynasty 11, 106 11,153 5Gwaliorin late middle ages 154, 157, 167 in Mughal empire 196 under British 219, 221, 238 Hadrian roman emperor 77 Haiderabad Hyderabad 9, 197freedom movement and 262, 276 Nizams of 196 7, 210, 212 13, 217, 220 1Haileybury College 234 6 Hamvira Gajapati prince and general 178 Haq, Fazlul 185 Harappa prehistoric site and period 16 27 Harihara I king of Vijayanagara 176 8 Harihara II king of Vijayanagara 178 Hariyupiya river battle 35 Harsha king of Kanauj 76, 103 5, 110,120 2, 126Haryana 308, 310 Hastinapur 44 5, 50 Hastings, Warren 214, 217 23, 225 8 Hastivarman king of Vengi 82, 98 Hegde, Dr R. 307, 309 Hegel, G.W.F. 99 Heliodorus Greek ambassador 69, 71 Hemu ruler 187 Hermaios Indo-Greek king 75 Herodotus 53 hierarchy of gods 137 highland religion 16; see also Deccan Hindi language 15, 142, 195, 239, 244, 259,261, 300, 308Hindu kingdoms see early middle ages Hindu Shahis dynasty 154 Hinduisation see Sanskritisation Hinduismin ancient empires 59, 75, 80; Guptas 88,92; Shatavahanas 97; in South 97, 99in early middle ages 112, 126 7, 130 8 and freedom movement 258 9, 261 2 in late middle ages 177, 182 3; Sultanateof Delhi and 155 6, 161 4, 169in republic 297, 300, 312, 314 15, 334 under British 235, 242, 244 5 under Mughals 186 7, 190, 194 see also Brahmins Hindush 53Hippalos seafarer 100 Hittites people 32 Hitler, A. 281, 300 Hiung-nu see Huns Hobbes, T. 111 Holkar general 196 Holkars dynasty 136 Home Rule League 263 5 Hormuz 199 200 horse sacrifice, great 4 5, 42, 68, 82, 84, 97,113, 125horses 11; see also weapons Hoysalas dynasty 9, 99, 107, 109, 160, 165,176 7Hsiuen-tsang Xuanzang, Chinese pilgrim 91, 104, 114, 122Hugli 201, 205 Humayun Mughal emperor 168, 186 7,201Huns people 72, 74, 89 91, 110 Hunter, Lord 266 Hussain Shah ruler of Bengal 147 Huvishka king of Kushanas 77 8, 80 Hyderabad see Haiderabad Ibn Battuta traveller 165 6Ibn Qasim, Muhammad MuslimConquerer 153Ibrahim Sultan of Delhi 179 Ibrahim Lodi Sultan of Delhi 185 Ikshvakus dynasty 97 8 Iltutmish Sultan of Delhi 157 9, 173 immigration to Assam 307 Imperial Legislative Council 240, 253, 276,282imperial structure and regional impactunder British 239 52 Agra and Oudh, united provinces of 243 5army, rule of 250 1 Bombay presidency 246 8 differential penetration and hybridtraditions 241 2East India as hub of economy 242 3 legislation, jurisdiction and administration240 1Madras presidency 245 6 Panjab and martial races 249 50 railway network 251 2Impey, Sir Eliah judge 228 Independence, First Indian War of see Mutiny Independence of India Act 1947 292, 295 Indian Association 252, 259 60 Indian Independence League 271 Indian National Army 281 Indian Ocean 11; see also seapower INDEX382indigo trade 232, 243Indochina Vietnam wars 320, 328 9 Indo-European languages 29 30; see alsolanguageIndo-Greeks see Greeks Indonesia 85, 109, 145 6, 150 1 Indore 136, 196, 221Indra warrior god 18, 32, 35 7, 43, 119,133Indra III king of Rashtrakutas 108Indraprastha 44, 50Indus civilisation, prehistoricAmri site 18 19, 21 2, 25 7, 29decline, climatic change theory 27 9Dholavira site 3Kalibangan site 18, 19, 22 4, 26 7, 29, 31,37Kot Diji site 18, 22 3, 26, 29Lothal site 3, 18 19, 24 7, 29, 31Mehrgarh site 2, 19 22, 25 6, 31Mohenjo Daro site 2, 3, 16 19, 21 7 Mundigak site 18Rojdi site 3Rupar site 18Shortugai site 3, 18Sutkagen Dor site 18Indus Water Treaty 323, 327 industrial centres 13, 300industrial development 297 9 inscriptionsin ancient empires Ashoka s 53, 62, 64 8,98; Guptas 83 5, 88 9; on Indo-Greeks 70; Kharavela 96, 98; Kushana75 9; South India 96 8in early middle ages 108, 110, 116 18,122, 126 7, 129, 144 6, 148in late middle ages 167, 174 5, 177, 180internal affairs of republiccongress system and Nehru s successors302 3 emergency and Janata Party regime304 6federalism and states reorganisation 300 2 Green Revolution and energy crisis303 4Indira Gandhi s comeback and end 306 9 mixed economy and planning commission297 9Nehru, Patel and making of constitution294 7political and economic development294 318political parties 299 300Rajiv Gandhi, rise of 309 14International Monetary Fund 314 international relations in republic seeexternal affairsinternational trade see trade intervention, potential of 8 investmentBritish 232 3, 239, 249, 251 2 foreign aid 298, 314, 328Iqbal, Mohammad 283 Iran see Persia Iraq 153 iron 13, 40 iron tools and weapons 38, 40, 55 irrigation 37, 93 Irwin, Lord viceroy 256, 271, 274; pactwith Gandhi 271 3, 275Ishvaragupta royal chancellor 121 Islam 6conquest of North India in late middleages 152 69; administrative penetration problems 168 9; Alauddin s reforms 160 5; Mahmud of Ghanzni 153 6; Muhammad Tughluq and 165 6; Muhammad of Ghur 156 8; see alsoDelhi, sultanate offreedom movement and 258 9, 264,267 9and partition 281 6, 289 90, 293 and republic 312 South India and see under South India; see also Mughal empire; Muslim League; Pakistanin Southeast Asia 151 under British 227 9, 243 5 Issuupu Irappan Joseph Raban 118 I-tsing Chinese Monk 147 Jacobi, Hermann 33 Jagannath deity 136, 140, 174 5; temple of129, 173Jagat Sheth 207 Jahan see Shah Jahan Jahan Khan deputy sultan 167 Jahangir Mughal emperor 191 Jainism 88, 99, 114 Jaipur 9, 187 Jalal-ud-din Khilji Turkish ruler 159 janapadas tribal kingdoms 43, 49 Janata Dal 310 Janata Party 305 7, 315, 317; regime of304 6Japan 12, 143, 278, 280 1 jatis see caste system Jats 195, 220, 236 Jaugada 64 6 Jaunpur167 Java 114, 143, 146, 148 50 Jayadeva poet 139 Jayalalitha 315 Jayavarman VII king of Angkor 150 Jayewardene, Junius 331, 332 INDEX383Jejuri 136Jewish merchants 118 Jhansi, rani of 237 8 Jinnah, Mohammed Ali 264, 266, 269, 294;and partition 281 93Johnson, Colonel 279 80 Jones, Sir William 29 30, 226, 228, 234 Junagadh 78 jungle rajas 83 jurisdiction see law Justice Party 277 jute trade 243 Kadambas dynasty 113 Kadphises I, Kujala king of Kushanas 74 Kaisar see Kanishka II Kaivartas tribe 122, 127 Kakatiyas dynasty 109, 160 Kakavarna king of Magadha 56 kala pani 12 Kalabhras people 10, 99, 114 Kalakacharyakathaka text 73 Kalachuris dynasty 111 12, 141, 173 Kalapahar general 174 Kalhana writer 163 Kali goddess 112, 261 Kalibangan prehistoric site 18, 19, 22 4,26 7, 29, 31, 37Kalidasa poet 69, 87 Kalingain ancient empires 51, 56, 62 5, 67 8, 82, 95in early middle ages 124 5, 173, 176 Kalinga Jina statue 95 Kalinganagara 95, 172 Kalsi 66 Kalyani 9, 106, 109, 115, 141 Kamara 101 Kamarupa 83, 104, 107, 121 Kamboja 49, 119 Kampila 50Kampili 165, 176 7 Kanara 113, 221Kanauj 105 6, 108 11, 121, 153 4, 157Kanchipuramin ancient empires 82, 98 9 in early middle ages 105 6, 113 14, 150 Kandahar 63, 66, 188, 191 2 Kanishka I king of Kushanas 6, 73, 75 80Kanishka II king of Kushanas 78Kannada language 246 7 Kanpur 236, 238, 244 Kanvas dynasty 69 Kapilendra king of Orissa 174 6, 178 Karachi Resolution 296Karakorum Pass 322Karikal 101 Karikala king of Cholas 98 9Karma Mimamsa philosophical system 131Karmayoga and freedom movement 261 2 Karnataka 62, 176 7in early middle ages 104, 107in republic 301, 307, 309, 315, 317Karoshthi script 51 Kashmirin ancient empires 75 6, 85, 90 1 freedom movement and 276 in middle ages 107, 140 1, 157, 163, 172in Mughal empire 188 partition and 292 3 in republic 319, 324Kashmir Shaivism 140 1 Kasi 49 50Kaspar see Gondopharnes Kasr-al-Kabir, battle of 201 Kathasaritsagara text 122 Kathiawar 3, 18, 111, 153 4 Kaundinya brahmin of 1st century 146 Kaundinya brahmin of 5th century 146Kauravas people 44 5Kausambiin ancient empires 49 51, 54 6, 66, 68, 76,82in early civilisations 29, 45Kautalya 58, 60 1, 65, 67, 98Kautilya see Kautalya Kaveri river 9, 99, 102, 106, 147; valley114 15, 178Kaveripatnam 101 2 Kavindra Parameshvara poet 172Khaljis dynasty 112, 159Kheda district 265 Kennedy, John F. 323, 328 Kerala 66, 74, 98, 299 301 Keralaputras people 63 Kesri, Sitaram 317Khaberis 102Khajuraho 154; temples at 111, 129 Khalistan 309 Khandoba god 136 Kharavela king of Orissa 68, 94 6, 98, 124 Khilafat movement 267 9, 282Khiljis see Khaljis Khinjali Mandala 125 Khrushchev, N. 320, 323 Khusru Khan sultan of Delhi 164 Kidara Hun leader 90 kingdoms, regional see middle ages kings 41 3, 190in ancient empires 56, 61, 67, 69 70, 80,98 9in early middle ages 128 30Kisan Sabha peasant movement 275 Kissinger, Henry 325 6 Koh-i-Nur diamond 160Konarak temple 173 INDEX384Kondavidu 178Kongunad 10 Korean war 320 Koshala 9, 48 50, 54, 56, 119 Kosimbazar 218 Kosygin, A.N. 324 Kot Diji prehistoric site 18, 22 3, 26, 29 Krishna god 44, 80, 110 Bhaktas and 132, 136 cult of 139 40Krishna river 1, 10, 114, 172, 178, 180 Krishna I king of Rashtrakutas 113 Krishna II king of Rashtrakutas 108 Krishna III king of Rashtrakutas 108 9 Krishna-Godavari Delta 9, 92, 97 8 Krishnadeva Raya king of Vijayanagar 174, 179 82Krittibas poet 172 Kshatrapas provincial governors 73 4, 78,83 4Kshatriya caste 39 40, 51, 56, 110theory of colonisation of Southeast Asia143Kubera god 119 Kujala Kadphises king of Kushanas 74 Kulottunga I king of Cholas andChalukyas 109, 117, 132Kumara war god 87 Kumara Ghosh Buddhist monk 149 Kumaradevi queen of Chandragupta I 81 Kumaragupta 82, 87 9 Kumarasambhava poem 87 Kumaratunge, Chandrika 332 Kundunga Indonesian ruler 145 Kurukshetra 43, 47 Kurus people 43, 49 50 Kuruvars tribe 93 Kushanas dynasty 5, 72 83, 85, 96, 102 Kyanzittha king of Burma 117 Kyros Persian emperor 53 La Bourdonnais, Admiral BertrandFran ois Mah de 206, 212 13Labour Party Britain 274, 279 Lahore 157, 167, 249, 285, 324Lakhnau see Lucknow Lakhnaur173 Lakshmana Sena king of Bengal 157 Lalitaditya king of Kashmir 105, 107,163Lally, General Thomas-Arthur Comte de 215 landgrants to Brahmins 93, 128 9; to military officers 189reform in republic 296, 298, 302 revenue under British 227, 229 30, 234, 236 7, 249 50, 272, 275see also taxation landlords under British 227, 229 30, 234,245 6, 275, 298language 15, 29 33in ancient empires 78, 81, 91 2, 98Apabhramsha 142 Arabic 195, 235 Aramaic 51 Dravidian 15, 32, 92, 246, 301 in early civilisations 29 33, 36, 38in early middle ages 142 3English 234 5 and freedom movement 259, 262 Gujarati 198, 247 Hindi 15, 142, 195, 239, 244, 259, 261, 300,308Kannada 246 7Magadhi 78 Malayalam 246, 301 Marathi 15, 142, 172, 247, 258 Oriya 142 Pali 92, 144Persian 73, 184, 195, 235Prakrit 78, 92, 142 Sanskrit 29, 32, 78, 81, 85, 87 8, 92, 114, 135 6, 142, 145 9, 235Sindhi 247 Tamil 15, 93, 98 9, 117 18, 144, 246 Telugu 15, 179, 246, 301 under British 231, 234 5, 244 6 under Mughals 195 Urdu 195, 244 5, 259, 284Las Bela prehistoric site 2late middle ages 152 84; see also Delhi, sultanate of and under Islam Law, John 206 lawCode of Manu 81, 164 Hindu, reform of 297under British, 240 1; and Indian 227 9League Against Imperialism 271 legislation see Acts Leur, J.C. van 145 Liaquat Ali Khan 290 liberal nationalists 262 3; freedommovement and 259 61Licchavis people 54, 81 Lingam phallic symbol of Shiva 129, 134 5 Lingayat sect 141 Linlithgow, Lord viceroy 278 80, 286 literaturein ancient empires 47 9, 52, 56 62, 70, 73,87 8, 91 4, 96, 98 102in early civilisations 33 4, 36 7, 42, 43 6 in early middle ages 132, 138, 141 3 in late middle ages 163, 173, 179, 181 under British 234, 242, 244, 248 see also individual texts Lodi, Ibrahim sultan of Delhi 185 INDEX385Lodis dynasty 167 8, 185Lok Dal Party 307, 310 Lok Sabha House of Commons 299,301 2, 305, 307, 309, 316, 320Lokanath god 149 Longowal, Sant Harchand 310 Lothal prehistoric site 3, 18 19, 24 7, 29,31Louis XIV king of France 205Lucknow 216; siege of 238Lytton, Lord viceroy 239, 260 Macaulay, Lord 234 5, 240, 242 Madhav Rao peshwa 216 17 Madhuban 121 Madhya Pradesh 83, 95, 112, 127 Madras now called Chennai 9, 13, 74,101 freedom movement and 258, 264, 277 in republic 301, 313 under British 205; Presidency 245 6, 275, 301Madurai 9in early middle ages 94, 98, 106, 136 in late middle ages 160, 165 6, 176, 178Magadha 5, 7 8, 10 11, 119, 121; in ancientempires 50, 53 60, 64, 67, 69, 81Magadhi language 78 Magas of Cyrene Greek ruler 64 magic 42 3, 46, 52, 112Mahabalipuram, sculptures and temples at113 14Mahabharata text 92, 133, 138, 142, 172; Aryan settlement and 43 5Mahadeva god 129, 138, 140 Mahadaji Scindia raja of Gwalior 219 20,222mahajanapadas tribal kingdoms 43, 49 Mahakshatrapas provincial governors 73 Mahalanobis, Professor 298 Mahamalla see Narasimhavarman I mahamatras officials 65, 96 Mahanadi river 124 6, 172, 175 Mahanta, Prafulla 310 Mahapadma king of Magadha 56 7 Maharashtra 261, 301 mahasamantas 121 4, 126 Mahasanghika Buddhism 53 Mahatmyas texts 134 6, 138, 142 Mahavihara monastery 150 Mahavira founder of Jainism 52 Mahayana Buddhism 53, 76, 112 14, 132,141, 147, 149 50Mahendra king of Dakshina Koshala 82 Mahendra king of Pishtapura 82 Mahendragiri mountain 125 Mahendrapala king of Gurjara Pratiharas 108Mahendravarman king of Pallavas 105,114, 132Mahinda son of Ashoka 64Mahipala king of Palas 124, 127Mahisha demon 88 Mahmud Gawan general 171 Mahmud of Ghazni Muslim conqueror 109, 153 6, 156Mahmud Shah Bahmani sultan 171Majumdar, R.C. 143 Maka king of Cyrene 64 Malabar coast 100 2, 118, 208, 246 Malacca 116, 151, 199 Malavas people 58 Malaya 109, 115, 117, 151Malayalam language 246, 301Maldive island 115, 116, 330 1 Maldives 330, 331 Malik Kafur general 160, 165 Malikarjuna king of Vijayanagar 178 Malindi 199 Malkhed 106, 170 Malloi people 58 Malthus, Thomas 236 Malwa 76, 78, 90, 167, 170, 172 Malwa Plateau 4, 9 Malwan 18Malwas people 83managing agencies 233, 243 Mandal Commission 312 Mandala 34, 108, 126, 175 Mandu 159Mangalore, peace treaty of 220Manigramam guild 118 Manikkavasagar saint 132, 134 Mansehra 66 Mansura 153 Mantra text 33 4Manu, Code of 81, 164Manyakheta 9, 170 Mao Tse Tung 321 Marathas people 130in Mughal empire 193 6, 210, 215, 218 23 under British 233, 247Marathi language 15, 142, 172, 247, 258Markandeya Purana text 88 martial races 249 50 Martin, Fran ois 206 Marwaris people 270 Marx, Karl 252Matharas dynasty 124, 126Mathava prince 48 Mathura 44in ancient empires 49, 68, 72, 74 7, 81 in early middle ages 136, 140 in late middle ages 154Maues king of Shakas 72Maukharis dynasty 121 INDEX386Maurya, Chandragupta 8, 57 60, 62, 69, 79Maurya empire 7, 13, 62, 66Arthashastra, political system of 60 2 end of 67 9, 80 1foundation of 58 60 South India and 95 6 see also Ashoka Mauryas dynasty 13, 68, 95 Meerut 244; Mutiny at see Mutiny Megasthenes 59 60, 62, 65, 86, 93Meghaduta poem 87 Meghavanna king of Sri Lanka 83 Mehrgarh prehistoric site 2, 19 22, 25 6,31Mehta, Pherozeshah 260, 263Menander king of Indo-Greeks 70 1, 76,80Menon, Krishna 320 metal trade 40, 102; under Mughals 190,197, 207, 209, 223Mewar, rana of 140, 185 middle class 248, 315Mihirakula Hun leader 90 1 Milinda see Menander Milindapanho text 71 military feudalism 12, 152 83 military fiefsin late middle ages 169, 175, 180 3see also armies; war; weapons military urbanism 12 millets 3, 93 Minakshi goddess 136Minto, Lord viceroy 153 4Mir Jaffar military commander 213 15 Mir Kasim nawab of Bengal 215 missionary activity, Ashoka s 62 4 Mitanni people 32 Mithras god 77, 80Mithridates II king 72 Mitra god 32 mixed economy under republic 297 9 Mohenjo Daro prehistoric site and period 2, 3, 16 19, 21 7monasteriesin ancient empires 51, 68, 88, 91, 94, 97, 99in early middle ages 113 17, 147, 150 in late middle ages 176 7moneylenders 241, 247, 249 Mongols people 152, 158 60, 162, 164, 186 monism 131, 138 40, 261monopoly, trade see Company Bahadur; East India Companies; peppermonsoon 2, 9 10, 12, 58, 75, 100, 154, 201,204, 248, 298Montagu, Edwin 255, 266 7 Montagu-Chelmsford reform 254 5, 264, 268Moon, royal lineage from 110 Moopanar 318Morley, John 253 5 Morley-Minto reform 253 4 Morocco 201 Mountbatten, Lord 290 2, 299 Muazzam Mughal prince 196 Mudrarakshasa play 58 Mueller, Max 239 Mughal empire 7, 13, 59, 67, 165, 184 223,244, 333 Great Mughals and adversaries 184 97;Akbar s expansion and reform 187 92; Aurangzeb and Shivaji 192 7; Baber s success 186 7Indian landpower and Europeanseapower 13, 197 209; Dutch and British, rise of 201 3; France 205 6; decline of Mughals 206 9; international maritime trade 203 5struggle for supremacy 210 23; Clive andDiwani of Bengal 213 14; European military intervention 210 13; Hastings as architect of British empire 217 23; Seven Years War and battle of Panipat 214 17see also Islam Muhammad son of Balban 159 Muhammad Ali merchant 207 8 Muhammad of Ghur Muslim conqueror 156 8, 169Muhammad Shah Bahmani sultan 170,178 9Muhammad Tughluq sultan of Delhi 165 6, 168 70Mukherjee, Shyamaprasad 300 Mulavarman king of Indonesia 145 Multan 109, 153 6, 167 Mumbai see Bombay Mumtaz wife of Shah Jahan 191 Mundigak prehistoric site 18 Munro, Hector 216, 219 Murshid Quli Khan Mughal governor 207 Murshidabad 207, 214, 218, 228 Murugan god 135 Murundas people 83 music 68, 95, 195 Muslim League and freedom movement 254 5, 264, 269 and partition 282 6, 289, 294 see also Islam Mutiny 1857 236 9, 250 Muziris 100, 102 Mysore 9, 13, 66, 216, 221; freedommovement and 262, 276mysticism see Bhakti Nadir Shah ruler of Persia 197, 207Nadiya 112 INDEX387Nagabhata king of Gurjara Pratiharas 108Nagarjunikonda monasteries 97Nagas dynasties 82 Nagas people 114, 146Nagasena Buddhist monk 71Nagda 157 Nagpur 263, 268 9Namboodiripad, E.M.S. 301Nana Phadnavis minister 216, 219 Nanadeshi traders 118Nanadeshi-Vinnagar temple 118 Nandas dynasty 56 8, 95, 124, 126 Nandivarman III king of Pallavas 116Naoroji, Dadabhai 263Napoleon 221, 231 Narain, A.K. 71Narasimha king of Guptas 90Narasimha king of Vijayanagar 178 9 Narasimha Rao, P.V. 314 17, 322, 332 Narasimhavarman I king of Orissa 173Narasimhavarman I, Mahamalla king ofPallavas 105, 114Narasimhavarman II king of Pallavas 114Narayan, Jayaprakash 305 Nastaliq script 259National Congress 252 3, 255and freedom movement 260, 262 4,266 8, 276 80and partition 282, 284 6, 288 90, 293in republic 294 7, 299 305, 308 11,313 19, 325, 334National Front 316 18, 332National Liberal Federation 264 National Planning Commission 298National Self-Help Association RSS 300nationalism 235, 245freedom movement and 258 64in Pakistan 283nayakas officers 176, 180 2 Nayanars saints 132, 141Nagapatam monasteries 116 17Nehru, Jawaharlal 261, 266, 279, 291 3, 334and Constitution 294 7and economy 297 9and freedom movement 271 3, 276, 286,289 90and international relations 300, 319 23,327 8 and political parties 299 300and states reorganisation 300 1Nehru, Motilal 266, 270 1, 273Neo-Hinduism 131, 235, 245, 250, 258 60;see also Hinduism Nepal 53, 83, 85, 97, 119, 330 1Netherlands 201 6 newspaper censorship 260Nikitin, Anastasy 171 2Nilakanta Sastri, K.A. 116Nixon, R. 325 8Nizam-ul-Mulk chief minister 196 7, 210,212 13, 217, 220 1 Non-Regulation Province 249 non-cooperation 265 7 non-violence 95, 271 North India 9 11ancient empires in 47 91; Guptas 81 91;Mauryas 58 81early civilisations in see Ganges area; Indus civilisationin early middle ages 105 7; see alsoGanges area; Harsha; Shashankafreedom movement and 258 65, 272 in late middle ages 153 6; see also Delhi sultanatepartition and 281 93 passimsee also Bengal; Bihar; Company Bahadur; Delhi; freedom movement; Indusnorthern invaders and Maurya empire67 81Northwest India 241, 244, 250 1 northwestin ancient empires 5, 49 50, 53 4, 70 81,90 1early civilisations of 16 46; see alsoAryans; Indus civilisationin middle ages 114, 154 6 see also North; West nuclear option 304; and relations withUnited States 327 9Nur Jahan wife of Jahangir 191 OBC see Other Backward Castes oil price rise 304 Oldenberg, Hermann 49 Oman 3, 17, 330 Operation Mountbatten 290 3 opium trade 232, 243, 250 1 Orissa 9in ancient empires 51, 65, 94 6 in early middle ages 103 4, 107, 111 12,124 7, 129, 140, 149freedom movement and 262 in late middle ages 166, 170, 172 6,178 9, 182 3in Mughal empire 188 207Oriya language 142 Other Backward Castes OBC 311, 313 Oudh 237and Agra, United Provinces of 243 5 in Mughal empire 210, 215 16, 218 P an-p an 146 7 Padang Lawas temple 149 Paes, Domingo 181 Pagan, temples at 118, 143, 149 50 INDEX388paintings 112, 130, 149 50; see also art Paithan 9, 66, 96 Pakistan 30, 33, 49, 282, 294 5, 330China and 324, 326conflict with 295, 302, 319 20, 325 7;operation Grand Slam 323 5 Soviet Union and 324 5 United States and 325 6, 328 9 Vietnam and 329 see also Bangladesh; partition Pakistan National Movement 283 Palam 220 Palas dynasty 106 7, 111 13, 115, 149, 172 Palembang 147, 149 Pali language 92, 144Pallavas dynasty 9, 92, 98 9, 105 6, 108,113 16, 118, 132, 146, 148Pan-Chao Chinese general 76 Panantaran temple 150 Panchalas people 44, 49 50, 82 Pandavas people 44 5Pandharpur 136Pandyamandala 9 Pandyas dynasty 9in ancient empires 63, 93 4, 98 9, 101 in middle ages 105 6, 108 9, 114 15, 119,136, 160Panguraria 65 6Panini linguist 52 Panipat, battles at 185 6, 214 16 Panjab 37in ancient empires 51, 59, 71, 78, 90freedom movement and 266 7, 276, 278in late middle ages 153, 157 9 partition and 283 7, 291 3 in republic 303, 307 8, 310 under British 222, 249 50, 254Panjab Accord 310Paramaras dynasty 110, 129, 179Paratanka king of Cholas 115 pariksha governor 175 Parsis in Bombay 248 Parthians people 69 72, 75 6, 78 80, 114 parties see political parties partitionCabinet mission scheme 288 90 Jinnah, Rahmat Ali and idea of Pakistan283 5Lahore resolution and two nations theory285 6Operation Mountbatten and PlanBalkan 290 3Simla conference 286 8Parvati goddess 136 Pataligrama 54 Pataliputra Patna 10 11, 48, 54, 56, 59, 63,66, 68, 70 1, 81 2, 95, 105 6, 112, 228, 335Patel, Vallabhbhai 265, 278, 294 7, 299 Patna see Pataliputra Patna-Bolangir 111Pauravas tribe 57 pearl trade 93, 100 1, 119peasants, absconding 229 31pepper trade 101 2, 198 200 Periplus text 70, 100 2 Periya Puranam text 132 3Persia 11, 20, 119, 152, 155, 166 7ancient empires and 53 4, 58, 69, 80, 90 1and Mughal empire 184, 186 78, 191,196 7, 201Persian language 73, 184, 195, 235Peshawar 76Peshwas 196 7, 215 17, 221, 236, 238 Pethick-Lawrence, Lord 287 8phases of developmentof early state 55 of regional kingdoms 123 4Philip II king of Spain 200philosophyemergence of 45 6new forms in early middle ages 130 2synthesis 138 9Pigot, Lord governor 217pilgrimage 63, 133 4, 137 40, 142 Pillar, Goddess of 126 piracy and robbers 199, 204, 208, 212Pires, Tome 199 Pitt, W. 214, 228, 238 Plan Balkan 290 3, 205 6, 301Plassey, battle of 213, 215 plays see literature Pliny 76, 96Plutarch 71Poduka 101 poetry see literature Polemaios, Shri 101politicalconsolidation under Guptas 88 9 parties British 259 61, 263, 265, 278 9;Indian 269, 277, 299 300system of Arthashastra 60 2 Polo, Marco 99Pondicherry 101, 206, 211, 263 population density, regional patterns of 13 15 Poros king of Pauravas 57Portuguese 151, 171, 179, 181 2Goa liberated from 323and Mughals 197 203Prabhavatigupta wife of Rudrasena II 85 Pradyota king of Ujjain 55Prakrit language 78, 92, 142Prasad, Rajendra 265, 278, 299 Prataparudra king of Orissa 174Pratihara clan 110; see also Gurjara Pratiharas INDEX389Pratishthana 66Pravarasena I II kings of Vakatakas 85 Prayotas dynasty 56 Premadasa, Ranasinghe 331 Presidency Associations 252 Presidency Colleges 235 pricesfixed 162 4 under British 234, 244, 266princelings 81, 123 4, 126, 174 5, 7; see alsosamantasPrinsep, James 62 Prithviraj Chauhan ruler of Delhi 111, 157 Prithvisena I king of Vakatakas 85 private property 229, 296 Proto-Shiva 17 provincial assemblies 276 8, 284, 287; seealso regional Ptolemaeans dynasty 62 Ptolemy 93, 96, 100, 102 Ptolomaios II king of Ptolemaeans 64 Puducceri 101 Pulakeshin I king of Calukyas of Badami 113Pulakeshin II king of Calukyas of Badami 104 5Pulindas tribe 110 Pulindasena king of Kalinga 125 Pulumavi, Shri 96 Pune 193, 215, 221, 236, 247, 259 Puranas texts 56, 67, 81, 87 8, 96, 139, 142 Puri 140; temple 129, 136, 173 5 Purnavarman king of Maukharis 121 Purugupta son of Kumaragupta 89 90 Purus tribe 35, 39, 57 Purusha mythical king 39, 135 Purushottama king of Orissa 174 Pushyagupta governor 79 Pushyamitra Shunga king of Shungas 68,70 1Pushyamitras dynasty 89 90 putra son , king as son of god 130, 175 Qaid-i-Azam see Jinnah Qtub-ud-din Aibak sultan of Delhi 152,157 8Quetta 2, 19 20, 31 Quit India Resolution 278 81 Qutlugh Khvaja Mongol ruler 160 Raban, Joseph 118 Radha goddess 139 40 Radhakantha Deb, Raja 235 Raghunath general 215 17, 219, 221 Raghuvamsha poem 87 Rahman, Zia-ur 330 Rahmat Ali and Pakistan NationalMovement 283 5, 289 90Raichur Doab 1, 9, 178railway construction, under British 233, 239,246 8; design of 251 2Rajagopalachari, C. 277, 299Rajagriha 50, 54; Buddhist council at 53 Rajamandala 61, 84, 170, 318 Rajanarayana Sambuvaraya king ofTondaimandalam 178 Rajaraja I king of Cholas 109, 115 16, 129 30Rajasthan 83, 90, 107 8, 110, 153early civilisations and 19, 24, 26, 28 nuclear test in 304, 327Rajatarangini text 91, 163 Rajatiraja Devaputra, Maharaja seeKanishkaRajendra I king of Cholas 109, 112,115 17rajgurus king s priests 4, 129, 149 Rajputs 9, 237, 313in early middle ages 91, 109 11in late middle ages 154 9in Mughal empire 184 5, 187, 194, 196,220Ram, Jagjivan 305, 307 Ram Mohan Roy, Raja 235 Rama god 87, 110, 190, 311 12Rama Raya regent of Vijayanagar 179 80 Rama Rao, N.T. 307, 315 Ramachandra ruler of Orissa 174 Ramacharitam text 127 Ramanuja philosopher 139, 141Ramapala king of Bengal 112, 127Ramayana text 142, 172, 312 Ramjanmabhumi 311 Rana Sangha ruler of Mewar 185 Ranade, Mahadev Govind 259, 334 Ranjit Singh, Maharaja 222 Ranthambor 157, 159 Rao see Narasimha Rao, P.V.; Rama Rao, N.T.; Sadashiv Rao Rashtrakutas dynasty 11, 92, 106 9, 111,113, 115, 127, 153, 170Rashtriya Swayam Sevak Sangh RSS,association 270, 300, 312Ratnadeva king of Kalachuris 173 Rau, Wilhelm 38 Rayalaseema 9, 14 Raziyyat daughter of Iltutmish 158 9 Reddis people 178Reddy, Sanjiva 303, 306 regionalcentres, rise of 67, 105 10 gods 136 7 impact under British see imperial structurekingdoms see early middle ages patterns of Indian history 9 12 INDEX390patterns of population density 13 15South Asian co-operation 330 2 see also provincial Regulating Acts 225 7 religionin early middle ages 130 43 movements 5 6 Mutiny and 237 tolerance 88 9, 190 see also Buddhism; gods; Hinduism; Islam; Jainism; Shaivismrent see land revenue reorganisation of states under republic 300 2 republic 294 332; see also external affairs; internal affairs responsible government under British254 5revenue see taxation revolutionaries, national 260 3, 271 Ricardo, David 230, 234, 244 rice see grain rights, fundamental 296 Rigveda text 31 9, 43, 46, 57, 177 Ripon, Lord viceroy 239, 248, 260 Risley, H.H. 253 4 ritual sovereignty of king in early middleages 5, 128 30rock edicts see inscriptions Rohillas clan 218, 220 Rojdi prehistoric site 3 Romans 56, 69 72, 78, 80 1, 85, 87, 90coins 10, 75 9, 102 and South India in time of ancientempires 99 102Roosevelt, F.D. 279 80, 328 Round Table Conference 256, 273 6, 283 Rowlatt, Justice and Acts 264 6 Roy, B.C. 270 Roy, M.N. 300 Roy, Raja Ram Mohan 235 royal gods 130, 136 8 RSS Rashtriya Swayam Sevak Sangh association 270, 300, 312Rudradaman king of Shakas 78 9, 81 Rudrasena I II kings of Vakatakas 85 Rudrasimha III king of Shakas 85 ruler, trading company as see Company Bahadur; see also kings Rupar prehistoric site 18 ryotwari system 245 7 SAARC South Asian Association forRegional Co-operation 330 2Sabaras tribe 110 sacrifices 110, 132, 134 6, 138, 145in early civilisations 39 40, 42 3, 46, 48, 68 great horse 4 5, 42, 68, 82, 84, 97, 113, 125Sadanira see Gandak 4 Sadashiv Rao general 215Sadashiva ruler of Vijayanagar 179 Sai Wang see Shakas Saketa 50Sakhyas tribe 53 4 salariesof East India Company workers 204, 231 for royal officials 61, 86, 122, 128, 169,189, 217Salazar 323Salbei, treaty of 219 20 Salim son of Akbar see Jahangir salt trade and tax 41, 94, 174, 250 1, 272march 271 2samantas tributary princes 84, 116 24,127 30; gods and 136 8Samapa 65 Samarkand 184, 187 8, 192 Samatata 83 Samaveda text 34 Sambandar saint 132Sambhaji son of Shivaji 194samgrama 38 9 samsara, concept of 46, 131 Samudragupta king of Guptas 79, 81 5,87, 104; inscriptions 98, 121, 124Samyukta Maharashtra Samiti 301Sanchi 66, 68, 77, 81Sangam period 93 4, 98 9, 101 3, 135 Sangama 176 Sangamas dynasty 176, 178 Sangha 5, 53, 115, 147Sankhya philosophical system 131Sanskritclassical culture 81 language 32, 78, 85, 92, 103, 142 literature 87 8, 104, 114, 141 2Sanskritisation 92, 134 5, 137Sarnath 76art 81, 148 Buddha s first sermon at 53Sarvajanik Sabha association 259 Sassanids dynasty 79 Sastri, N.K.A. see Nilakanta Sastri, K.A\n",
            "\n",
            "\n",
            "\n",
            "\n",
            "\n",
            "\n",
            "\n",
            "\n",
            "\n",
            "\n",
            "Nehru the international mediatorWhen Nehru took over the conduct of independent India s foreign policyhe was influenced by the views adopted in the years of the freedom movement. Even though Stalin paid little attention to India and initially thought of Nehru as an agent of British imperialism, Nehru made it a point to send his sister, Vijayalakshmi Pandit, who had served as a minister in the days of provincial autonomy, as India s first ambassador to Moscow in April 1947 when India was not yet independent. Nehru s sceptical attitude to the West was exacerbated by the incipient Cold War and the American policy of containment . On the other hand, he also did not share the Soviet view of the division of the world into two camps . Independent India did not want to be put into any camp . This was not properly appreciated either in Western or in Eastern Europe, but Nehru could base his foreign policy on a broad consensus in India.The conflict with Pakistan, did, of course, constitute a severe handicapfor Nehru s policy of global mediation and peaceful coexistence. At the same time it provided an opening for outside powers to interfere with the affairs of the region. The fact that Pakistan consisted of two wings separated by more than 1,000 miles of Indian territory meant that Pakistan would not be able to challenge India seriously; on the other hand, Pakistan felt that it was at the mercy of India and looked for outside support this is why it ended up as a military ally of the United States in 1954. The Kashmir conflict ruined India s relations with the United Nations, too, although India had been an ardent supporter of the idea of the United Nations all along. The United Nations, bent upon finding a political solution in Kashmir, sent several representatives among them Americans to Kashmir. From India s point of view, these delegates tried to interfere with the internal affairs of the country. Consequently, India became extremely jealous of its national sovereignty, an attitude which was at odds with Nehru s deep concern for other people s problems in his quest for world peace. THE REPUBLIC320Nehru could score his first success at international mediation when hewrote to Stalin and to the American secretary of state Dean Acheson, at the time of the Korean war. India then could play a very helpful role in solving the difficult problem of the repatriation of Korean prisoners-of- war. The next chance for international mediation came at the end of the Indochina war after France had unsuccessfully tried to re-establish colonial rule and had been beaten by the Vietminh. At the Geneva Conference of 1954 the Indian emissary, Krishna Menon, played a crucial role behind the scenes although India was not officially represented there. Both superpowers thought at that time that a neutralisation of Indochina would be in their interests and India was asked to take up the chairmanship of the International Commission which was charged with the task of controlling their neutrality. But although the United States had supported this solution, it simultaneously sponsored the SEATO Southeast Asia Treaty Organisation as a parallel force to NATO capable of holding the line against Communist expansion in the East. Pakistan promptly joined this organisation. Nehru and Menon were furious about this pact which worked against the principle of neutralising conflict not only in Indochina, but also in its immediate environs. It became obvious to them that international mediation was a thankless task whenever it conflicted with superpower interests. But in 1955 universal harmony seemed to prevail and Nehru was at the height of his political career\n",
            "\n",
            "\n",
            "\n",
            "\n",
            "\n",
            "\n",
            "\n",
            "\n",
            "\n",
            "\n",
            "With the benefit of hindsight one can state that it would have been an act of wise statesmanship if the Congress had nevertheless established coalition governments with the League, thus helping Jinnah to remain what he had been up to this point a nationalist spokesman for the Muslims in the Muslim minority provinces. But from the perspective of 1936 there were serious obstacles to such a course. The Congress initially had an ambivalent attitude towards office acceptance and the needs of the freedom movement might have called for a resignation of the ministries at any moment. Would the League as a coalition partner have gone along with all this? Moreover, the League was at this stage not yet the political force it was to become ten years later. Why should the Congress try to nurse this sectarian party rather than make an attempt to wean the Muslim masses away from it? Thus Jinnah was left out in the cold and had to turn his attention to the Muslim majority provinces. Rahmat Ali s ideas were growing upon him, whether he liked it or not. The Urdu press had spread these ideas in India Pakistan was now no longer a strange word but had already become a very familiar slogan.At the session of the Muslim League in October 1937 Jinnah underwenta fateful metamorphosis which he also expressed outwardly by abandoning his fashionable Western suit and donning, for the first time, a North Indian sherwani long coat complemented by the typical fur cap which soon became known as the Jinnah cap . In this attire he concluded a pact with the powerful chief minister of the Panjab, Sir Sikander Hyat Khan. This Sikander-Jinnah pact stipulated that the Unionist Party of the Panjab, led by Sikander, would retain full autonomy of the affairs of that province; THE FREEDOM MOVEMENT AND THE PARTITION OF INDIA 285Jinnah, however, was acknowledged as the leader at a national level. Since the League had only won two seats in the Panjab, Jinnah did not lose much by assuring Sikander that he did not intend to challenge him on his home ground. Sikander, on the other hand, interpreted the pact in his own way and thought that he had Jinnah in his pocket. At any rate, this pact marked the beginning of Jinnah s new role as spokesman for the Muslim majority provinces. He had opted for Pakistan although he did not say so as yet. It was in 1938 that he started talking about national goals for the Muslims and he gladly adopted the title Qaid-i-Azam Great Leader bestowed upon him by his followers, whose numbers were increasing rapidly\n",
            "\n",
            "\n",
            "\n",
            "\n",
            "\n",
            "\n",
            "\n",
            "\n",
            "\n",
            "\n",
            "Operation Mountbatten and Plan Balkan As a cousin of the king and former Supreme Commander of the SoutheastAsian area during the war, Mountbatten had a standing which made him generally acceptable and nobody could blame Attlee for making a partisan choice. At the same time, this standing enabled Mountbatten to dictate his terms when accepting the post which he had not solicited. He was asked whether he realised that the powers he requested would make him the superior rather than the subordinate of the secretary of state and he replied, unruffled, that this is exactly what he wanted. Moreover, his appointment was accompanied by the very declaration of the aims of the THE FREEDOM MOVEMENT AND THE PARTITION OF INDIA 291British government that Wavell had petitioned in vain. The declaration stated that the British were to quit India by June 1948; Mountbatten would be the last viceroy. Only 41 years old when he reached India, Mountbatten was dynamic and sociable and immediately established good relations with Indian leaders. His only drawback was that he did not like paperwork and rarely studied the detailed drafts of constitutional proposals which were churned out by his own staff and by Indian politicians with increasing frequency in the last few months before independence and partition.The plan which Mountbatten finally sent home for approval by thecabinet was appropriately called Plan Balkan in official circles. It was more or less a revised version of the cabinet mission scheme, but it was no longer based on the hope of preserving the unity of India. Instead, it aimed to arrive at a reasonable partition. Even Nehru was now convinced that this was the only way out of the impasse, but the version of the Plan Balkan which was shown to him before it was sent to London at least preserved the unity of the Hindu majority provinces Group B and enabled provinces which did not want to stay in Group A or Group B to opt out of them.The cabinet made some important changes in this plan, probably due to Attlee s preference for a clear statement of the principle of provincial self- determination. Independence would be granted to the provinces and to the princely states and they could then get together in whatever way they wanted. In other words, instead of providing for the exceptional possibility of opting out the plan now put all units on an equal footing and gave them the chance of opting in according to their free choice. Although certainly a more logical proposition, in practical terms it could have disastrous consequences. Plan Balkan could now, indeed, lead to a complete Balkanisation of India.Mountbatten, who did not pay attention to such details, did not seemuch of a difference between the plan sent to London and the plan as revised by the cabinet; he was completely surprised when Nehru rejected it outright. Faced with the potential consequences of this plan, Nehru now also pressed for what Jinnah had expected all along a Pakistan award made by the British. But this Pakistan was to be the moth-eaten one composed of the Muslim majority districts only and not consisting of an undivided Panjab and an undivided Bengal. Taking note of Nehru s reaction Mountbatten swung around to his point of view and worked for this kind of award. Jinnah could not object to it either, even though it meant a substantial reduction of the Pakistan he had hoped for. His hold on the Muslim majority provinces was still rather precarious. He had consolidated his position as a national leader of the Muslims but if the provincial level were now to re-emerge as the crucial arena of decision- making, his control over the course of events might be diminished. THE FREEDOM MOVEMENT AND THE PARTITION OF INDIA 292When Mountbatten saw this consensus emerging he did his best tostrike the iron while it was hot. Constitution-making was postponed and the Government of India Act of 1935 was suitably revised so as to become the Independence of India Act of 1947. The dates for the inaugurations of two new dominions were fixed for 14 and 15 August 1947. An eminent British jurist whose name had been suggested by Jinnah was commissioned to draw the boundary lines. Mountbatten saw to it that these lines were kept secret until after the inauguration of the two dominions. Perhaps he thought that by conducting the operation under anaesthetic the patient would get over it more easily, and by the time he awoke he would be reconciled to what had happened. In fact, Mountbatten was so sure of this that he took leave and went to the mountains after the inaugurations and was taken by surprise when a storm of violence swept the Panjab once the border line became known. The Sikhs in particular enraged that their region of settlement had been cut right down the middle took violent revenge on their Muslim countrymen and thus provoked another round of retribution in which many of them died, too.Mountbatten was in trouble. Initially, he had agreed to stay on as governor general of both India and Pakistan, but Jinnah had insisted on becoming governor general of Pakistan and it was only at the request of Nehru that Mountbatten changed his mind and agreed to stay on as governor general of India alone. Now he could no longer control the situation on the other side of the border line which he had disguised so ingeniously until the last minute. Violence in the Panjab was just the first challenge; the next followed immediately\n",
            "\n",
            "\n",
            "\n",
            "\n",
            "\n",
            "\n",
            "\n",
            "\n",
            "\n",
            "\n"
          ],
          "name": "stdout"
        }
      ]
    },
    {
      "cell_type": "code",
      "metadata": {
        "id": "9KBnvYDb3MDd"
      },
      "source": [
        "model.most_similar (['Bollywood'],topn=30)"
      ],
      "execution_count": null,
      "outputs": []
    },
    {
      "cell_type": "code",
      "metadata": {
        "colab": {
          "base_uri": "https://localhost:8080/"
        },
        "id": "0Oi-StCj8exF",
        "outputId": "99b0eba9-88d3-4edf-bd5f-e85356a02c1f"
      },
      "source": [
        "model.most_similar (['Mamata']+['Banerjee'])"
      ],
      "execution_count": null,
      "outputs": [
        {
          "output_type": "execute_result",
          "data": {
            "text/plain": [
              "[('Mamata_Banerjee', 0.8615977764129639),\n",
              " ('Bhattacharjee', 0.8172184228897095),\n",
              " ('Mayawati', 0.7947120666503906),\n",
              " ('Ms_Banerjee', 0.7882030606269836),\n",
              " ('Trinamool', 0.7864018678665161),\n",
              " ('Chatterjee', 0.7811701893806458),\n",
              " ('Mamta_Banerjee', 0.7778410911560059),\n",
              " ('Trinamul', 0.7742266654968262),\n",
              " ('Deshmukh', 0.7729364633560181),\n",
              " ('Chakraborty', 0.7718198299407959)]"
            ]
          },
          "metadata": {
            "tags": []
          },
          "execution_count": 9
        }
      ]
    },
    {
      "cell_type": "code",
      "metadata": {
        "id": "QUuxWuO-VPrY",
        "colab": {
          "base_uri": "https://localhost:8080/"
        },
        "outputId": "af822dc0-4c17-4205-bbca-734b40a9314a"
      },
      "source": [
        "model.most_similar (['Mamata_Banerjee'])"
      ],
      "execution_count": null,
      "outputs": [
        {
          "output_type": "execute_result",
          "data": {
            "text/plain": [
              "[('Mamata', 0.8583166599273682),\n",
              " ('Mayawati', 0.8086827993392944),\n",
              " ('Mamta_Banerjee', 0.7967199087142944),\n",
              " ('Ms_Banerjee', 0.795053243637085),\n",
              " ('chief_Mamata_Banerjee', 0.7819643020629883),\n",
              " ('Trinamool_Congress', 0.7801012992858887),\n",
              " ('Jayalalithaa', 0.7720375061035156),\n",
              " ('Buddhadeb_Bhattacharjee', 0.7658127546310425),\n",
              " ('Banerjee', 0.7628343105316162),\n",
              " ('Trinamool', 0.7548649311065674)]"
            ]
          },
          "metadata": {
            "tags": []
          },
          "execution_count": 10
        }
      ]
    },
    {
      "cell_type": "code",
      "metadata": {
        "colab": {
          "base_uri": "https://localhost:8080/"
        },
        "id": "9hm2ZHXpidPz",
        "outputId": "3aa31a51-449b-4dd8-febc-64dc1903aad9"
      },
      "source": [
        "model.most_similar (['Chief'] + ['Minister'])"
      ],
      "execution_count": null,
      "outputs": [
        {
          "output_type": "execute_result",
          "data": {
            "text/plain": [
              "[('Minsiter', 0.6639981269836426),\n",
              " ('MInister', 0.6590216159820557),\n",
              " ('Minis_ter', 0.6244001984596252),\n",
              " ('Mini_ster', 0.6225288510322571),\n",
              " ('Mnister', 0.6224889755249023),\n",
              " ('Deputy', 0.6201450228691101),\n",
              " ('Minister_Datuk_Lajim', 0.6192092299461365),\n",
              " ('Miniser', 0.6160105466842651),\n",
              " ('Mininster', 0.6013134717941284),\n",
              " ('Secretary', 0.6004642248153687)]"
            ]
          },
          "metadata": {
            "tags": []
          },
          "execution_count": 11
        }
      ]
    },
    {
      "cell_type": "code",
      "metadata": {
        "colab": {
          "base_uri": "https://localhost:8080/",
          "height": 314
        },
        "id": "dxCNJz9gij86",
        "outputId": "13a8e8e3-8091-44b1-a762-5c60a6d876ec"
      },
      "source": [
        "model.most_similar (['chief_minister'])"
      ],
      "execution_count": null,
      "outputs": [
        {
          "output_type": "error",
          "ename": "KeyError",
          "evalue": "ignored",
          "traceback": [
            "\u001b[0;31m---------------------------------------------------------------------------\u001b[0m",
            "\u001b[0;31mKeyError\u001b[0m                                  Traceback (most recent call last)",
            "\u001b[0;32m<ipython-input-13-f64e44d04510>\u001b[0m in \u001b[0;36m<module>\u001b[0;34m()\u001b[0m\n\u001b[0;32m----> 1\u001b[0;31m \u001b[0mmodel\u001b[0m\u001b[0;34m.\u001b[0m\u001b[0mmost_similar\u001b[0m \u001b[0;34m(\u001b[0m\u001b[0;34m[\u001b[0m\u001b[0;34m'chief_minister'\u001b[0m\u001b[0;34m]\u001b[0m\u001b[0;34m)\u001b[0m\u001b[0;34m\u001b[0m\u001b[0;34m\u001b[0m\u001b[0m\n\u001b[0m",
            "\u001b[0;32m/usr/local/lib/python3.7/dist-packages/gensim/models/keyedvectors.py\u001b[0m in \u001b[0;36mmost_similar\u001b[0;34m(self, positive, negative, topn, restrict_vocab, indexer)\u001b[0m\n\u001b[1;32m    529\u001b[0m                 \u001b[0mmean\u001b[0m\u001b[0;34m.\u001b[0m\u001b[0mappend\u001b[0m\u001b[0;34m(\u001b[0m\u001b[0mweight\u001b[0m \u001b[0;34m*\u001b[0m \u001b[0mword\u001b[0m\u001b[0;34m)\u001b[0m\u001b[0;34m\u001b[0m\u001b[0;34m\u001b[0m\u001b[0m\n\u001b[1;32m    530\u001b[0m             \u001b[0;32melse\u001b[0m\u001b[0;34m:\u001b[0m\u001b[0;34m\u001b[0m\u001b[0;34m\u001b[0m\u001b[0m\n\u001b[0;32m--> 531\u001b[0;31m                 \u001b[0mmean\u001b[0m\u001b[0;34m.\u001b[0m\u001b[0mappend\u001b[0m\u001b[0;34m(\u001b[0m\u001b[0mweight\u001b[0m \u001b[0;34m*\u001b[0m \u001b[0mself\u001b[0m\u001b[0;34m.\u001b[0m\u001b[0mword_vec\u001b[0m\u001b[0;34m(\u001b[0m\u001b[0mword\u001b[0m\u001b[0;34m,\u001b[0m \u001b[0muse_norm\u001b[0m\u001b[0;34m=\u001b[0m\u001b[0;32mTrue\u001b[0m\u001b[0;34m)\u001b[0m\u001b[0;34m)\u001b[0m\u001b[0;34m\u001b[0m\u001b[0;34m\u001b[0m\u001b[0m\n\u001b[0m\u001b[1;32m    532\u001b[0m                 \u001b[0;32mif\u001b[0m \u001b[0mword\u001b[0m \u001b[0;32min\u001b[0m \u001b[0mself\u001b[0m\u001b[0;34m.\u001b[0m\u001b[0mvocab\u001b[0m\u001b[0;34m:\u001b[0m\u001b[0;34m\u001b[0m\u001b[0;34m\u001b[0m\u001b[0m\n\u001b[1;32m    533\u001b[0m                     \u001b[0mall_words\u001b[0m\u001b[0;34m.\u001b[0m\u001b[0madd\u001b[0m\u001b[0;34m(\u001b[0m\u001b[0mself\u001b[0m\u001b[0;34m.\u001b[0m\u001b[0mvocab\u001b[0m\u001b[0;34m[\u001b[0m\u001b[0mword\u001b[0m\u001b[0;34m]\u001b[0m\u001b[0;34m.\u001b[0m\u001b[0mindex\u001b[0m\u001b[0;34m)\u001b[0m\u001b[0;34m\u001b[0m\u001b[0;34m\u001b[0m\u001b[0m\n",
            "\u001b[0;32m/usr/local/lib/python3.7/dist-packages/gensim/models/keyedvectors.py\u001b[0m in \u001b[0;36mword_vec\u001b[0;34m(self, word, use_norm)\u001b[0m\n\u001b[1;32m    450\u001b[0m             \u001b[0;32mreturn\u001b[0m \u001b[0mresult\u001b[0m\u001b[0;34m\u001b[0m\u001b[0;34m\u001b[0m\u001b[0m\n\u001b[1;32m    451\u001b[0m         \u001b[0;32melse\u001b[0m\u001b[0;34m:\u001b[0m\u001b[0;34m\u001b[0m\u001b[0;34m\u001b[0m\u001b[0m\n\u001b[0;32m--> 452\u001b[0;31m             \u001b[0;32mraise\u001b[0m \u001b[0mKeyError\u001b[0m\u001b[0;34m(\u001b[0m\u001b[0;34m\"word '%s' not in vocabulary\"\u001b[0m \u001b[0;34m%\u001b[0m \u001b[0mword\u001b[0m\u001b[0;34m)\u001b[0m\u001b[0;34m\u001b[0m\u001b[0;34m\u001b[0m\u001b[0m\n\u001b[0m\u001b[1;32m    453\u001b[0m \u001b[0;34m\u001b[0m\u001b[0m\n\u001b[1;32m    454\u001b[0m     \u001b[0;32mdef\u001b[0m \u001b[0mget_vector\u001b[0m\u001b[0;34m(\u001b[0m\u001b[0mself\u001b[0m\u001b[0;34m,\u001b[0m \u001b[0mword\u001b[0m\u001b[0;34m)\u001b[0m\u001b[0;34m:\u001b[0m\u001b[0;34m\u001b[0m\u001b[0;34m\u001b[0m\u001b[0m\n",
            "\u001b[0;31mKeyError\u001b[0m: \"word 'chief_minister' not in vocabulary\""
          ]
        }
      ]
    }
  ]
}