{
  "nbformat": 4,
  "nbformat_minor": 0,
  "metadata": {
    "colab": {
      "name": "Word2Vec.ipynb",
      "provenance": [],
      "authorship_tag": "ABX9TyP6p3zRBJbzEaPN+s8ZSmgm"
    },
    "kernelspec": {
      "name": "python3",
      "display_name": "Python 3"
    },
    "language_info": {
      "name": "python"
    }
  },
  "cells": [
    {
      "cell_type": "code",
      "metadata": {
        "colab": {
          "base_uri": "https://localhost:8080/"
        },
        "id": "UsgcvM9ZQ0u_",
        "outputId": "5a365426-797e-42bb-c9be-8f703c17707a"
      },
      "source": [
        "from google.colab import drive\n",
        "drive.mount('/content/drive', force_remount = True)"
      ],
      "execution_count": null,
      "outputs": [
        {
          "output_type": "stream",
          "text": [
            "Mounted at /content/drive\n"
          ],
          "name": "stdout"
        }
      ]
    },
    {
      "cell_type": "code",
      "metadata": {
        "colab": {
          "base_uri": "https://localhost:8080/"
        },
        "id": "3wKr9dUgRoOK",
        "outputId": "553f0660-8d9b-4ecc-caf4-1662dbde3f38"
      },
      "source": [
        "pip install PyPDF2"
      ],
      "execution_count": null,
      "outputs": [
        {
          "output_type": "stream",
          "text": [
            "Collecting PyPDF2\n",
            "  Downloading PyPDF2-1.26.0.tar.gz (77 kB)\n",
            "\u001b[?25l\r\u001b[K     |████▎                           | 10 kB 26.1 MB/s eta 0:00:01\r\u001b[K     |████████▌                       | 20 kB 30.3 MB/s eta 0:00:01\r\u001b[K     |████████████▊                   | 30 kB 33.1 MB/s eta 0:00:01\r\u001b[K     |█████████████████               | 40 kB 34.7 MB/s eta 0:00:01\r\u001b[K     |█████████████████████▏          | 51 kB 35.9 MB/s eta 0:00:01\r\u001b[K     |█████████████████████████▍      | 61 kB 35.5 MB/s eta 0:00:01\r\u001b[K     |█████████████████████████████▋  | 71 kB 37.3 MB/s eta 0:00:01\r\u001b[K     |████████████████████████████████| 77 kB 2.9 MB/s \n",
            "\u001b[?25hBuilding wheels for collected packages: PyPDF2\n",
            "  Building wheel for PyPDF2 (setup.py) ... \u001b[?25l\u001b[?25hdone\n",
            "  Created wheel for PyPDF2: filename=PyPDF2-1.26.0-py3-none-any.whl size=61100 sha256=093074b76e42f506dac70064ceb027bfcce541e945b62f24cdd393c5dfee07e0\n",
            "  Stored in directory: /root/.cache/pip/wheels/80/1a/24/648467ade3a77ed20f35cfd2badd32134e96dd25ca811e64b3\n",
            "Successfully built PyPDF2\n",
            "Installing collected packages: PyPDF2\n",
            "Successfully installed PyPDF2-1.26.0\n"
          ],
          "name": "stdout"
        }
      ]
    },
    {
      "cell_type": "code",
      "metadata": {
        "id": "mt-uK1kzRrKe"
      },
      "source": [
        "import PyPDF2\n",
        "import re\n",
        "from gensim.models import Word2Vec\n",
        "from gensim.models import FastText\n",
        "from gensim.models.doc2vec import Doc2Vec, TaggedDocument\n",
        "from gensim.parsing.preprocessing import STOPWORDS, RE_WHITESPACE\n",
        "from gensim.corpora.dictionary import Dictionary\n",
        "from gensim.models import KeyedVectors"
      ],
      "execution_count": null,
      "outputs": []
    },
    {
      "cell_type": "code",
      "metadata": {
        "colab": {
          "base_uri": "https://localhost:8080/"
        },
        "id": "ZVchs9u0RvfO",
        "outputId": "63cc2c19-fc06-482a-cc8a-5796fffe90be"
      },
      "source": [
        "import nltk\n",
        "nltk.download('stopwords')"
      ],
      "execution_count": null,
      "outputs": [
        {
          "output_type": "stream",
          "text": [
            "[nltk_data] Downloading package stopwords to /root/nltk_data...\n",
            "[nltk_data]   Unzipping corpora/stopwords.zip.\n"
          ],
          "name": "stdout"
        },
        {
          "output_type": "execute_result",
          "data": {
            "text/plain": [
              "True"
            ]
          },
          "metadata": {
            "tags": []
          },
          "execution_count": 4
        }
      ]
    },
    {
      "cell_type": "code",
      "metadata": {
        "colab": {
          "base_uri": "https://localhost:8080/"
        },
        "id": "p-phAOlYRwJ4",
        "outputId": "7387e460-ce54-468f-9ee6-ea9605fac627"
      },
      "source": [
        "from nltk.corpus import stopwords\n",
        "from nltk.stem.porter import PorterStemmer\n",
        "nltk.download('wordnet')\n",
        "from nltk.stem import WordNetLemmatizer"
      ],
      "execution_count": null,
      "outputs": [
        {
          "output_type": "stream",
          "text": [
            "[nltk_data] Downloading package wordnet to /root/nltk_data...\n",
            "[nltk_data]   Unzipping corpora/wordnet.zip.\n"
          ],
          "name": "stdout"
        }
      ]
    },
    {
      "cell_type": "code",
      "metadata": {
        "id": "_jF7uKPHRybg"
      },
      "source": [
        "model_w2v = KeyedVectors.load_word2vec_format('drive/My Drive/Colab Notebooks/GoogleNews-vectors-negative300.bin.gz', binary=True)"
      ],
      "execution_count": null,
      "outputs": []
    },
    {
      "cell_type": "code",
      "metadata": {
        "id": "nCyeqRzbzDMG"
      },
      "source": [
        "file = PyPDF2.PdfFileReader('drive/My Drive/Colab Notebooks/dataset.pdf')\n",
        "Numpages=file.getNumPages()\n",
        "text = \"\"\n",
        "for j in range(0,Numpages):\n",
        "    PageObj = file.getPage(j)\n",
        "    text = text + \" \" + PageObj.extractText()"
      ],
      "execution_count": null,
      "outputs": []
    },
    {
      "cell_type": "code",
      "metadata": {
        "id": "sWI0t4TwzJD-"
      },
      "source": [
        "#paragraphs = re.split ('\\.|\\?|\\!', text) # Sentence break\n",
        "paragraphs = re.split ('\\.\\n', text) # Paragraph break\n",
        "paragraphs = [re.sub('[^-\\.!\\?,;a-zA-Z0-9]+', ' ', paragraph.strip()) for paragraph in paragraphs]\n",
        "original_para = paragraphs.copy()"
      ],
      "execution_count": null,
      "outputs": []
    },
    {
      "cell_type": "code",
      "metadata": {
        "id": "Z9RRQavozLBx"
      },
      "source": [
        "lm = WordNetLemmatizer()\n",
        "#paragraphs = [re.sub('[^-a-zA-Z0-9]+', ' ', paragraph.lower()) for paragraph in paragraphs]\n",
        "for paragraph in paragraphs:\n",
        "    paragraph = [lm.lemmatize(word) for word in paragraph if not word in stopwords.words('english')]"
      ],
      "execution_count": null,
      "outputs": []
    },
    {
      "cell_type": "code",
      "metadata": {
        "id": "h3mE56TQaBUr"
      },
      "source": [
        "from IPython.display import HTML, display\n",
        "\n",
        "def set_css():\n",
        "  display(HTML('''\n",
        "  <style>\n",
        "    pre {\n",
        "        white-space: pre-wrap;\n",
        "    }\n",
        "  </style>\n",
        "  '''))\n",
        "get_ipython().events.register('pre_run_cell', set_css)\n"
      ],
      "execution_count": null,
      "outputs": []
    },
    {
      "cell_type": "code",
      "metadata": {
        "colab": {
          "base_uri": "https://localhost:8080/",
          "height": 17
        },
        "id": "qjYICM1gzf8d",
        "outputId": "e1027335-99ff-454a-9e94-6b40a83fefce"
      },
      "source": [
        "query = \"Nehru and Indian Independence\""
      ],
      "execution_count": null,
      "outputs": [
        {
          "output_type": "display_data",
          "data": {
            "text/html": [
              "\n",
              "  <style>\n",
              "    pre {\n",
              "        white-space: pre-wrap;\n",
              "    }\n",
              "  </style>\n",
              "  "
            ],
            "text/plain": [
              "<IPython.core.display.HTML object>"
            ]
          },
          "metadata": {
            "tags": []
          }
        }
      ]
    },
    {
      "cell_type": "code",
      "metadata": {
        "colab": {
          "base_uri": "https://localhost:8080/",
          "height": 17
        },
        "id": "1dkYt9pOzrur",
        "outputId": "d54bc1a8-e5d7-4b92-aa60-60e50b832a4c"
      },
      "source": [
        "# Method 1\n",
        "query = query.lower ()\n",
        "expanded_query = []\n",
        "n = 5\n",
        "for word in query:\n",
        "  word = str(word)\n",
        "  try:\n",
        "    similar_vector = model_w2v.most_similar ([word], topn = n)\n",
        "  except KeyError:\n",
        "    similar_vector = []\n",
        "  similar_vector.insert (0, (word, 1))\n",
        "  expanded_query.append (similar_vector)"
      ],
      "execution_count": null,
      "outputs": [
        {
          "output_type": "display_data",
          "data": {
            "text/html": [
              "\n",
              "  <style>\n",
              "    pre {\n",
              "        white-space: pre-wrap;\n",
              "    }\n",
              "  </style>\n",
              "  "
            ],
            "text/plain": [
              "<IPython.core.display.HTML object>"
            ]
          },
          "metadata": {
            "tags": []
          }
        }
      ]
    },
    {
      "cell_type": "code",
      "metadata": {
        "colab": {
          "base_uri": "https://localhost:8080/",
          "height": 17
        },
        "id": "H4OTxaya21H_",
        "outputId": "62cd75d8-f133-4a49-b245-e0c5e54e972e"
      },
      "source": [
        "# Method 2\n",
        "query = query.lower ()\n",
        "query = query.split (' ')\n",
        "expanded_query = []\n",
        "n = 10\n",
        "for word in query:\n",
        "  word = str(word)\n",
        "  expanded_query.append(word)\n",
        "  try:\n",
        "    similar_vector = model_w2v.most_similar ([word], topn = n)\n",
        "  except KeyError:\n",
        "    similar_vector = []\n",
        "  for element in similar_vector:\n",
        "    similar_word = str(element[0]).lower().replace('_', ' ')\n",
        "    expanded_query.append (similar_word)\n",
        "expanded_query.append ('.')"
      ],
      "execution_count": null,
      "outputs": [
        {
          "output_type": "display_data",
          "data": {
            "text/html": [
              "\n",
              "  <style>\n",
              "    pre {\n",
              "        white-space: pre-wrap;\n",
              "    }\n",
              "  </style>\n",
              "  "
            ],
            "text/plain": [
              "<IPython.core.display.HTML object>"
            ]
          },
          "metadata": {
            "tags": []
          }
        }
      ]
    },
    {
      "cell_type": "code",
      "metadata": {
        "colab": {
          "base_uri": "https://localhost:8080/",
          "height": 87
        },
        "id": "hI1aMJUUZY_X",
        "outputId": "688ee1f6-b115-4fb9-85ea-51f15f80b491"
      },
      "source": [
        "print (expanded_query)\n",
        "print (query)"
      ],
      "execution_count": null,
      "outputs": [
        {
          "output_type": "display_data",
          "data": {
            "text/html": [
              "\n",
              "  <style>\n",
              "    pre {\n",
              "        white-space: pre-wrap;\n",
              "    }\n",
              "  </style>\n",
              "  "
            ],
            "text/plain": [
              "<IPython.core.display.HTML object>"
            ]
          },
          "metadata": {
            "tags": []
          }
        },
        {
          "output_type": "stream",
          "text": [
            "['nehru', 'gandhi', 'thakur', 'sonia', 'manmohan', 'aurangazeb', 'srk', 'mohan', 'anti hindu', 'sikh', 'chamcha', 'and', 'indian', 'india', 'american', 'indians', 'pakistani', 'british', 'chinese', 'sri lankan', 'pakistan', 'malaysian', 'tamil', 'independence', 'indepedence', 'autonomy', 'statehood', 'independance', 'independency', 'indepence', 'nationhood', 'de facto independence', 'secession', 'sovereignty', '.']\n",
            "['nehru', 'and', 'indian', 'independence']\n"
          ],
          "name": "stdout"
        }
      ]
    },
    {
      "cell_type": "code",
      "metadata": {
        "colab": {
          "base_uri": "https://localhost:8080/",
          "height": 17
        },
        "id": "hTnORyWVz3OY",
        "outputId": "8d8fb394-80a4-4006-a612-a33e259b7047"
      },
      "source": [
        "import numpy as np\n",
        "para_vectors = []\n",
        "for paragraph in paragraphs:\n",
        "  para_vector = np.array([0.0] * 300)\n",
        "  para = paragraph.split()\n",
        "  for word in para:\n",
        "    word = str (word)\n",
        "    try:\n",
        "      word_vector = model_w2v[word]\n",
        "    except KeyError:\n",
        "      word_vector = [0.0] * 300\n",
        "    para_vector += word_vector\n",
        "  para_vector /= len(para) \n",
        "  para_vectors.append (para_vector)"
      ],
      "execution_count": null,
      "outputs": [
        {
          "output_type": "display_data",
          "data": {
            "text/html": [
              "\n",
              "  <style>\n",
              "    pre {\n",
              "        white-space: pre-wrap;\n",
              "    }\n",
              "  </style>\n",
              "  "
            ],
            "text/plain": [
              "<IPython.core.display.HTML object>"
            ]
          },
          "metadata": {
            "tags": []
          }
        }
      ]
    },
    {
      "cell_type": "code",
      "metadata": {
        "colab": {
          "base_uri": "https://localhost:8080/",
          "height": 17
        },
        "id": "Zov4Dnq2m2hm",
        "outputId": "bd664ed1-1abd-45a4-c703-944b24ee5c08"
      },
      "source": [
        "query_vector = np.array([0.0]*300)\n",
        "for word in expanded_query:\n",
        "  word = str (word)\n",
        "  try:\n",
        "    word_vector = model_w2v[word]\n",
        "  except KeyError:\n",
        "    word_vector = [0.0] * 300\n",
        "  query_vector += word_vector\n",
        "  query_vector /= len(expanded_query) "
      ],
      "execution_count": null,
      "outputs": [
        {
          "output_type": "display_data",
          "data": {
            "text/html": [
              "\n",
              "  <style>\n",
              "    pre {\n",
              "        white-space: pre-wrap;\n",
              "    }\n",
              "  </style>\n",
              "  "
            ],
            "text/plain": [
              "<IPython.core.display.HTML object>"
            ]
          },
          "metadata": {
            "tags": []
          }
        }
      ]
    },
    {
      "cell_type": "code",
      "metadata": {
        "colab": {
          "base_uri": "https://localhost:8080/",
          "height": 17
        },
        "id": "3dJJ7y4HplQF",
        "outputId": "44678b40-f585-4375-806a-f4cc83b8e00e"
      },
      "source": [
        "def cosine(u, v):\n",
        "    return np.dot(u, v) / (np.linalg.norm(u) * np.linalg.norm(v))"
      ],
      "execution_count": null,
      "outputs": [
        {
          "output_type": "display_data",
          "data": {
            "text/html": [
              "\n",
              "  <style>\n",
              "    pre {\n",
              "        white-space: pre-wrap;\n",
              "    }\n",
              "  </style>\n",
              "  "
            ],
            "text/plain": [
              "<IPython.core.display.HTML object>"
            ]
          },
          "metadata": {
            "tags": []
          }
        }
      ]
    },
    {
      "cell_type": "code",
      "metadata": {
        "id": "m1gUla29mj4K"
      },
      "source": [
        "similarity_vec = []\n",
        "for i in range (len(paragraphs)):\n",
        "  #similarity = cosine(query_vec, sbert_model.encode([paragraphs[i]])[0])\n",
        "  similarity = cosine(query_vector, para_vectors[i])\n",
        "  similarity_vec.append((i, similarity))\n",
        "similarity_vec.sort (key = lambda x: -x[1])"
      ],
      "execution_count": null,
      "outputs": []
    },
    {
      "cell_type": "code",
      "metadata": {
        "colab": {
          "base_uri": "https://localhost:8080/",
          "height": 52
        },
        "id": "wb729hx6nblq",
        "outputId": "2f92c39f-ee7f-427d-b8a5-574273aaa4ea"
      },
      "source": [
        "print (similarity_vec[:10])"
      ],
      "execution_count": null,
      "outputs": [
        {
          "output_type": "display_data",
          "data": {
            "text/html": [
              "\n",
              "  <style>\n",
              "    pre {\n",
              "        white-space: pre-wrap;\n",
              "    }\n",
              "  </style>\n",
              "  "
            ],
            "text/plain": [
              "<IPython.core.display.HTML object>"
            ]
          },
          "metadata": {
            "tags": []
          }
        },
        {
          "output_type": "stream",
          "text": [
            "[(697, 0.3493642454234973), (290, 0.3365584444908441), (287, 0.33554686057984073), (410, 0.3337287938418401), (644, 0.32617832425231), (567, 0.3243500587105559), (698, 0.32299826329795256), (636, 0.32141031622101324), (724, 0.314217199586565), (768, 0.3127424701175319)]\n"
          ],
          "name": "stdout"
        }
      ]
    },
    {
      "cell_type": "code",
      "metadata": {
        "colab": {
          "base_uri": "https://localhost:8080/",
          "height": 17
        },
        "id": "EJnBL07kPz1B",
        "outputId": "42a9d397-72b7-4a83-87f9-aac574f91ba5"
      },
      "source": [
        "max_relevant_para = 5"
      ],
      "execution_count": null,
      "outputs": [
        {
          "output_type": "display_data",
          "data": {
            "text/html": [
              "\n",
              "  <style>\n",
              "    pre {\n",
              "        white-space: pre-wrap;\n",
              "    }\n",
              "  </style>\n",
              "  "
            ],
            "text/plain": [
              "<IPython.core.display.HTML object>"
            ]
          },
          "metadata": {
            "tags": []
          }
        }
      ]
    },
    {
      "cell_type": "code",
      "metadata": {
        "colab": {
          "base_uri": "https://localhost:8080/",
          "height": 1000
        },
        "id": "jD8qetsEP2aJ",
        "outputId": "3e844c9e-64db-4c96-b1c0-4288f7afed55"
      },
      "source": [
        "for i in range (max_relevant_para):\n",
        "  print (paragraphs [similarity_vec [i][0]])\n",
        "  for i in range (5):\n",
        "    print ()"
      ],
      "execution_count": null,
      "outputs": [
        {
          "output_type": "display_data",
          "data": {
            "text/html": [
              "\n",
              "  <style>\n",
              "    pre {\n",
              "        white-space: pre-wrap;\n",
              "    }\n",
              "  </style>\n",
              "  "
            ],
            "text/plain": [
              "<IPython.core.display.HTML object>"
            ]
          },
          "metadata": {
            "tags": []
          }
        },
        {
          "output_type": "stream",
          "text": [
            "He had been in touch with the Chinese nationalists in the course of the Indian freedom movement and he had great sympathy for the aspirations of the Chinese nation. In his first foreign policy speeches after India attained independence he had referred to Asia as a zone of peace conflict had started only with the intrusion of imperialism. With the emancipation of Asia peace was bound to be restored. In this optimistic spirit of antiimperialism he had also welcomed the victory of Mao Tse Tung and had hoped for peace and harmony with the great neighbour. When in 1950 the Chinese occupied Tibet which had long enjoyed a quasi-independent status Nehru quickly gave up those Tibetan outposts which India had inherited from the British. These outposts were imperialistic relics to him\n",
            "\n",
            "\n",
            "\n",
            "\n",
            "\n",
            "The Brahmins and the ritual sovereignty of the kingThe precarious position of the king with regard to both the control of hiscentral area and his relations with his samantas called for a specific emphasis on the legitimacy of kingship to enhance his personal power. This was done by means of highlighting his divine mission and his ritual sovereignty. The Brahmins were instrumental in providing the necessary ideology for this purpose. Many documents recording land grants to Brahmins show this very clearly. In the Gupta empire such land grants had often been made in distant, uncultivated areas where the Brahmins were obviously meant to act as missionaries of Hindu culture. But from the tenth century onwards land grants followed a rather different pattern\n",
            "\n",
            "\n",
            "\n",
            "\n",
            "\n",
            "The mandala lords strong position was due to the fact that theyrepresented important tribal units with their own distinct territorial base\n",
            "\n",
            "\n",
            "\n",
            "\n",
            "\n",
            "There was another aspect of this policy of utilising religious prestige andloyalties for the strengthening of the imperial system the rulers appointed many Telugu Brahmins from their own homelands as commanders of fortresses durga dandanayaka in all parts of the empire. The traditional symbiotic relationship between Hindu rajas and Brahmins became an additional element of the loyalty which bound an officer to his king. The fortresses commanded by Brahmins were veritable pillars of the realm. The policy of ritual sovereignty which was so important for the consolidation of Hindu kingdoms was clearly demonstrated in this way. As we have seen, the late medieval Hindu realms of Orissa and Vijayanagar were trying to meet the Muslim challenge by a militarisation of their whole structure and by a stronger emphasis on the religious legitimation of the ruler as a representative of god. The Brahmin-commanded forts symbolised this process in a very striking manner indeed\n",
            "\n",
            "\n",
            "\n",
            "\n",
            "\n",
            "The only heritage of the freedom movement which was subsequentlyenshrined in the constitution is the catalogue of fundamental rights. The Government of India Act of 1935 made no mention of fundamental rights because, according to the British tradition, the protection of such rights is left to the due process of law. The draft constitution of the Nehru Report of 1928 did contain a catalogue of fundamental rights, as the secular nationalists held that such rights guarantee a better protection of minorities than the grant of political privileges which only enhances sectarianism. In the Karachi Resolution of 1931 the Congress had extended this catalogue of fundamental rights to include many items of the social and economic programme of the party. The right to work or the right to a living wage had thus been included among the fundamental rights. The Government of India would have had a hard time if it could have been sued in a court of law to guarantee such rights to every Indian citizen. Therefore the Constituent Assembly divided the catalogue of fundamental rights into a list of justiciable rights and a list of non- justiciable rights Directive Principles of State Policy . But even the justiciable fundamental rights were so carefully defined and hedged about by emergency provisions which permitted their suspension that a Communist Party member of the Constituent Assembly complained that this part of the constitution looked as if it had been drafted by a policeman. He was not too far off the mark with this statement, because Home Minister Patel the supreme chief of all policemen was the main architect of this constitution. Law Minister Dr Ambedkar, who had been given this portfolio although he was not a member of the Congress, did not have the sort of political power that would have enabled him to do more than act as the chief draftsman and spokesman a fact which he himself deplored.Nehru was drawn into this process of constitution-making onlyoccasionally, when controversial matters were at stake. The persuasive rhetoric with which he could reconcile conservative practice with radical aspirations was in great demand at such times. Thus he made a great speech in order to assuage leftist disappointment at the paragraph which guaranteed due compensation for private property when it was acquired by the state. This paragraph would prevent all measures of working towards a socialist state, as well as a radical land reform. The right wing of the Congress insisted on this and Nehru diverted the attention of the left by assuring it that the Indian Parliament would not tolerate any move by the courts to set themselves up as supreme umpires whose verdict could not be superseded by the people. In fact, most land reform acts were later THE REPUBLIC297introduced as constitutional amendments, as they were incompatible with the paragraph guaranteeing due compensation. In this respect, Nehru s prediction was right\n",
            "\n",
            "\n",
            "\n",
            "\n",
            "\n"
          ],
          "name": "stdout"
        }
      ]
    },
    {
      "cell_type": "code",
      "metadata": {
        "id": "FxeSCuedaqMI",
        "colab": {
          "base_uri": "https://localhost:8080/",
          "height": 1000
        },
        "outputId": "8e2301ea-3337-4236-f51d-c07f095d0653"
      },
      "source": [
        ""
      ],
      "execution_count": null,
      "outputs": [
        {
          "output_type": "display_data",
          "data": {
            "text/html": [
              "\n",
              "  <style>\n",
              "    pre {\n",
              "        white-space: pre-wrap;\n",
              "    }\n",
              "  </style>\n",
              "  "
            ],
            "text/plain": [
              "<IPython.core.display.HTML object>"
            ]
          },
          "metadata": {
            "tags": []
          }
        },
        {
          "output_type": "execute_result",
          "data": {
            "text/plain": [
              "array([ 1.15722656e-01, -1.29882812e-01,  6.59179688e-02,  1.75781250e-01,\n",
              "       -1.43554688e-01,  6.88476562e-02,  4.88281250e-02, -1.26953125e-01,\n",
              "        9.37500000e-02,  2.11914062e-01, -2.73437500e-01, -1.08398438e-01,\n",
              "       -1.90429688e-01,  8.83789062e-02, -1.02539062e-01,  3.47656250e-01,\n",
              "        2.04101562e-01, -4.85839844e-02, -2.07519531e-02,  9.32617188e-02,\n",
              "        3.03955078e-02,  4.94384766e-03,  3.30078125e-01, -7.37304688e-02,\n",
              "       -7.42187500e-02,  3.05175781e-02, -2.67578125e-01,  1.59179688e-01,\n",
              "        8.00781250e-02,  1.97265625e-01,  6.98242188e-02,  1.24511719e-01,\n",
              "       -1.51367188e-01,  2.35595703e-02,  5.90820312e-02,  3.61328125e-02,\n",
              "        1.01074219e-01,  2.57812500e-01,  3.27148438e-02,  1.06445312e-01,\n",
              "        1.80664062e-01,  5.76171875e-02,  2.51953125e-01,  3.58886719e-02,\n",
              "        5.15136719e-02,  1.28906250e-01,  2.14843750e-02, -2.74658203e-02,\n",
              "       -1.25976562e-01,  7.66601562e-02, -2.37304688e-01, -1.55029297e-02,\n",
              "       -6.43920898e-03, -4.15039062e-02,  8.34960938e-02, -5.83496094e-02,\n",
              "        4.51660156e-02, -1.83105469e-02, -1.00585938e-01, -8.05664062e-02,\n",
              "       -7.38525391e-03,  1.56250000e-01,  2.41699219e-02, -2.29492188e-02,\n",
              "        6.17675781e-02, -1.90429688e-01, -1.21093750e-01,  1.32812500e-01,\n",
              "       -2.05078125e-01,  3.05175781e-02,  3.08593750e-01,  1.10351562e-01,\n",
              "       -1.50756836e-02,  1.07910156e-01, -2.17773438e-01, -1.34765625e-01,\n",
              "        7.32421875e-02,  2.19726562e-01,  5.81054688e-02,  3.14453125e-01,\n",
              "       -5.95703125e-02, -1.80664062e-01,  7.47070312e-02, -6.93359375e-02,\n",
              "       -1.49414062e-01, -5.78613281e-02, -1.23535156e-01,  3.30078125e-01,\n",
              "        2.73437500e-01,  5.46875000e-02, -1.24511719e-01,  1.66015625e-01,\n",
              "       -2.81250000e-01,  1.57226562e-01, -2.77099609e-02,  3.36914062e-02,\n",
              "        6.49414062e-02,  1.24023438e-01,  1.03759766e-02,  5.29785156e-02,\n",
              "       -1.50390625e-01, -6.88476562e-02,  1.11816406e-01,  4.49218750e-02,\n",
              "       -4.90722656e-02, -3.95507812e-02, -2.66113281e-02, -1.11816406e-01,\n",
              "       -2.51464844e-02, -2.06054688e-01, -9.03320312e-02, -1.48437500e-01,\n",
              "       -9.88769531e-03,  4.05273438e-02,  2.07031250e-01, -1.10626221e-03,\n",
              "        6.98242188e-02, -8.25195312e-02,  9.37500000e-02, -4.07714844e-02,\n",
              "       -2.35595703e-02,  1.11328125e-01, -1.66015625e-01,  1.16210938e-01,\n",
              "        3.41796875e-02,  1.04370117e-02, -5.83496094e-02, -1.75781250e-02,\n",
              "        9.08203125e-02,  1.41601562e-01, -1.74804688e-01, -2.00195312e-01,\n",
              "       -1.07421875e-01, -1.40625000e-01,  9.09423828e-03,  7.91015625e-02,\n",
              "       -1.31835938e-02,  7.12890625e-02,  1.27929688e-01,  1.49536133e-03,\n",
              "        8.20312500e-02, -1.81640625e-01,  4.19921875e-02, -5.44433594e-02,\n",
              "        3.64303589e-04, -1.79443359e-02, -2.51953125e-01, -1.57226562e-01,\n",
              "        3.41796875e-02, -4.22363281e-02, -8.20312500e-02,  7.81250000e-02,\n",
              "       -1.32812500e-01, -1.05957031e-01,  1.56250000e-02,  2.55126953e-02,\n",
              "       -4.44335938e-02, -5.63964844e-02, -3.95507812e-02,  5.15136719e-02,\n",
              "       -1.44531250e-01, -7.86132812e-02,  1.65039062e-01,  7.47070312e-02,\n",
              "        4.54101562e-02, -2.57812500e-01, -7.95898438e-02,  1.63085938e-01,\n",
              "       -1.33789062e-01,  2.02636719e-02,  1.90429688e-02,  7.32421875e-02,\n",
              "        4.83398438e-02, -3.61328125e-02, -2.97851562e-02,  7.56835938e-02,\n",
              "       -5.56640625e-02, -1.26953125e-01, -1.44531250e-01, -5.68847656e-02,\n",
              "       -1.63085938e-01, -6.68945312e-02,  1.50146484e-02, -8.23974609e-04,\n",
              "        1.75781250e-01,  4.24804688e-02, -1.39648438e-01,  3.67736816e-03,\n",
              "       -5.07812500e-02,  9.94873047e-03,  2.08007812e-01,  7.08007812e-02,\n",
              "        4.02832031e-02, -3.41796875e-02,  1.13525391e-02, -2.81982422e-02,\n",
              "       -4.49218750e-02, -1.53320312e-01, -2.67333984e-02, -1.34765625e-01,\n",
              "        2.50244141e-03,  1.65039062e-01,  6.28662109e-03, -2.57568359e-02,\n",
              "       -2.11181641e-02,  4.39453125e-02, -1.62109375e-01, -3.89099121e-03,\n",
              "        5.61523438e-02,  6.88476562e-02,  2.08007812e-01,  8.74023438e-02,\n",
              "       -1.34765625e-01, -1.84570312e-01, -2.50000000e-01, -3.61328125e-02,\n",
              "        1.72851562e-01, -3.78417969e-02, -4.56542969e-02,  5.05371094e-02,\n",
              "       -1.74804688e-01,  3.84521484e-03, -1.40625000e-01, -9.82666016e-03,\n",
              "        2.25585938e-01, -7.47680664e-03,  2.12890625e-01, -1.18408203e-02,\n",
              "       -1.55273438e-01,  2.34985352e-03, -5.51757812e-02,  1.24023438e-01,\n",
              "       -2.67333984e-02,  4.37011719e-02,  1.10351562e-01,  2.51953125e-01,\n",
              "        5.44433594e-02, -1.31835938e-01,  3.02734375e-01, -1.32812500e-01,\n",
              "        5.41992188e-02,  1.49414062e-01, -1.08886719e-01,  1.01074219e-01,\n",
              "       -8.54492188e-02,  1.68609619e-03,  1.21093750e-01,  2.14843750e-01,\n",
              "       -1.30859375e-01,  9.66796875e-02, -1.10839844e-01,  1.27929688e-01,\n",
              "        2.01171875e-01,  2.57812500e-01, -2.69775391e-02, -1.06445312e-01,\n",
              "        7.76367188e-02, -5.51757812e-02, -1.59179688e-01, -1.89453125e-01,\n",
              "       -1.11816406e-01, -1.25000000e-01,  8.69140625e-02, -6.39648438e-02,\n",
              "       -8.15429688e-02, -9.81445312e-02, -1.38671875e-01,  4.56542969e-02,\n",
              "       -3.06396484e-02, -1.13769531e-01, -8.25195312e-02,  7.12890625e-02,\n",
              "        1.15234375e-01, -1.67968750e-01,  1.16210938e-01, -1.41601562e-01,\n",
              "       -1.45507812e-01, -1.96289062e-01, -3.49121094e-02,  2.18750000e-01,\n",
              "        1.15234375e-01,  4.24804688e-02, -1.26953125e-01,  3.46679688e-02,\n",
              "        1.91497803e-03, -1.30859375e-01, -2.28271484e-02, -1.36718750e-01,\n",
              "        6.44531250e-02,  4.00390625e-01,  9.33837891e-03,  9.37500000e-02,\n",
              "       -7.75146484e-03, -5.73730469e-03, -8.78906250e-02, -3.11279297e-02,\n",
              "       -2.55126953e-02, -1.92382812e-01,  7.71484375e-02, -5.88378906e-02],\n",
              "      dtype=float32)"
            ]
          },
          "metadata": {
            "tags": []
          },
          "execution_count": 26
        }
      ]
    }
  ]
}