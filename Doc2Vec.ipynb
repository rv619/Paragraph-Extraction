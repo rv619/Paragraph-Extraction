{
  "nbformat": 4,
  "nbformat_minor": 0,
  "metadata": {
    "colab": {
      "name": "Doc2Vec.ipynb",
      "provenance": [],
      "authorship_tag": "ABX9TyPeGi8/yHB5MfJMqqBWvjmg"
    },
    "kernelspec": {
      "name": "python3",
      "display_name": "Python 3"
    },
    "language_info": {
      "name": "python"
    }
  },
  "cells": [
    {
      "cell_type": "code",
      "metadata": {
        "colab": {
          "base_uri": "https://localhost:8080/"
        },
        "id": "UsgcvM9ZQ0u_",
        "outputId": "78ed631e-979f-4c56-c40b-60cc1597e021"
      },
      "source": [
        "from google.colab import drive\n",
        "drive.mount('/content/drive', force_remount = True)"
      ],
      "execution_count": null,
      "outputs": [
        {
          "output_type": "stream",
          "text": [
            "Mounted at /content/drive\n"
          ],
          "name": "stdout"
        }
      ]
    },
    {
      "cell_type": "code",
      "metadata": {
        "colab": {
          "base_uri": "https://localhost:8080/"
        },
        "id": "3wKr9dUgRoOK",
        "outputId": "7fa0943a-6954-4831-ce60-31c88dd98e97"
      },
      "source": [
        "pip install PyPDF2"
      ],
      "execution_count": null,
      "outputs": [
        {
          "output_type": "stream",
          "text": [
            "Requirement already satisfied: PyPDF2 in /usr/local/lib/python3.7/dist-packages (1.26.0)\n"
          ],
          "name": "stdout"
        }
      ]
    },
    {
      "cell_type": "code",
      "metadata": {
        "id": "mt-uK1kzRrKe"
      },
      "source": [
        "import PyPDF2\n",
        "import re\n",
        "from gensim.models import Word2Vec\n",
        "from gensim.models import FastText\n",
        "from gensim.models.doc2vec import Doc2Vec, TaggedDocument\n",
        "from gensim.parsing.preprocessing import STOPWORDS, RE_WHITESPACE\n",
        "from gensim.corpora.dictionary import Dictionary\n",
        "from gensim.models import KeyedVectors"
      ],
      "execution_count": null,
      "outputs": []
    },
    {
      "cell_type": "code",
      "metadata": {
        "colab": {
          "base_uri": "https://localhost:8080/"
        },
        "id": "ZVchs9u0RvfO",
        "outputId": "3a3cd55f-2b66-48f3-dfdf-197d4363f216"
      },
      "source": [
        "import nltk\n",
        "nltk.download('stopwords')"
      ],
      "execution_count": null,
      "outputs": [
        {
          "output_type": "stream",
          "text": [
            "[nltk_data] Downloading package stopwords to /root/nltk_data...\n",
            "[nltk_data]   Package stopwords is already up-to-date!\n"
          ],
          "name": "stdout"
        },
        {
          "output_type": "execute_result",
          "data": {
            "text/plain": [
              "True"
            ]
          },
          "metadata": {
            "tags": []
          },
          "execution_count": 12
        }
      ]
    },
    {
      "cell_type": "code",
      "metadata": {
        "colab": {
          "base_uri": "https://localhost:8080/"
        },
        "id": "p-phAOlYRwJ4",
        "outputId": "8e22aa00-29f1-4a55-afab-3d94af80996d"
      },
      "source": [
        "from nltk.corpus import stopwords\n",
        "from nltk.stem.porter import PorterStemmer\n",
        "nltk.download('wordnet')\n",
        "from nltk.stem import WordNetLemmatizer"
      ],
      "execution_count": null,
      "outputs": [
        {
          "output_type": "stream",
          "text": [
            "[nltk_data] Downloading package wordnet to /root/nltk_data...\n",
            "[nltk_data]   Package wordnet is already up-to-date!\n"
          ],
          "name": "stdout"
        }
      ]
    },
    {
      "cell_type": "code",
      "metadata": {
        "id": "_jF7uKPHRybg"
      },
      "source": [
        "model_w2v = KeyedVectors.load_word2vec_format('drive/My Drive/Colab Notebooks/GoogleNews-vectors-negative300.bin.gz', binary=True)"
      ],
      "execution_count": null,
      "outputs": []
    },
    {
      "cell_type": "code",
      "metadata": {
        "id": "nCyeqRzbzDMG"
      },
      "source": [
        "file = PyPDF2.PdfFileReader('drive/My Drive/Colab Notebooks/dataset.pdf')\n",
        "Numpages=file.getNumPages()\n",
        "text = \"\"\n",
        "for j in range(0,Numpages):\n",
        "    PageObj = file.getPage(j)\n",
        "    text = text + \" \" + PageObj.extractText()"
      ],
      "execution_count": null,
      "outputs": []
    },
    {
      "cell_type": "code",
      "metadata": {
        "id": "sWI0t4TwzJD-"
      },
      "source": [
        "#paragraphs = re.split ('\\.|\\?|\\!', text) # Sentence break\n",
        "paragraphs = re.split ('\\.\\n', text) # Paragraph break\n",
        "paragraphs = [re.sub('[^-\\.!\\?,;a-zA-Z0-9]+', ' ', paragraph.strip()) for paragraph in paragraphs]\n",
        "original_para = paragraphs.copy()"
      ],
      "execution_count": null,
      "outputs": []
    },
    {
      "cell_type": "code",
      "metadata": {
        "id": "Z9RRQavozLBx"
      },
      "source": [
        "lm = WordNetLemmatizer()\n",
        "#paragraphs = [re.sub('[^-a-zA-Z0-9]+', ' ', paragraph.lower()) for paragraph in paragraphs]\n",
        "for paragraph in paragraphs:\n",
        "    paragraph = [lm.lemmatize(word) for word in paragraph if not word in stopwords.words('english')]"
      ],
      "execution_count": null,
      "outputs": []
    },
    {
      "cell_type": "code",
      "metadata": {
        "id": "XRx1r9QUzMZ-"
      },
      "source": [
        "paragraphs = [TaggedDocument(para, [i]) for i, para in enumerate(paragraphs)]"
      ],
      "execution_count": null,
      "outputs": []
    },
    {
      "cell_type": "code",
      "metadata": {
        "colab": {
          "base_uri": "https://localhost:8080/"
        },
        "id": "kbiNmW04zVdm",
        "outputId": "7456ca28-02d3-4451-fba6-78f2e2b308b4"
      },
      "source": [
        "model = Doc2Vec(paragraphs, corpus_file=None, vector_size=300, dm_mean=None, dm=1, dbow_words=0, dm_concat=0,\n",
        "                dm_tag_count=1, dv=None, dv_mapfile=None, comment=None, trim_rule=None, callbacks=(),\n",
        "                window=5, epochs=1000)\n",
        "print (\"Training completed...\")"
      ],
      "execution_count": null,
      "outputs": [
        {
          "output_type": "stream",
          "text": [
            "Training completed...\n"
          ],
          "name": "stdout"
        }
      ]
    },
    {
      "cell_type": "code",
      "metadata": {
        "id": "WJ4xGOESQo89"
      },
      "source": [
        "model.save(\"d2v.model\")"
      ],
      "execution_count": null,
      "outputs": []
    },
    {
      "cell_type": "code",
      "metadata": {
        "id": "_WBrTpHWzeV5"
      },
      "source": [
        "model = Doc2Vec.load(\"d2v.model\")"
      ],
      "execution_count": null,
      "outputs": []
    },
    {
      "cell_type": "code",
      "metadata": {
        "id": "h3mE56TQaBUr"
      },
      "source": [
        "from IPython.display import HTML, display\n",
        "\n",
        "def set_css():\n",
        "  display(HTML('''\n",
        "  <style>\n",
        "    pre {\n",
        "        white-space: pre-wrap;\n",
        "    }\n",
        "  </style>\n",
        "  '''))\n",
        "get_ipython().events.register('pre_run_cell', set_css)\n"
      ],
      "execution_count": null,
      "outputs": []
    },
    {
      "cell_type": "code",
      "metadata": {
        "colab": {
          "base_uri": "https://localhost:8080/",
          "height": 17
        },
        "id": "qjYICM1gzf8d",
        "outputId": "ae7e662c-487b-46a4-dc98-de24834edc18"
      },
      "source": [
        "query = \"Nehru and Indian Independence\""
      ],
      "execution_count": null,
      "outputs": [
        {
          "output_type": "display_data",
          "data": {
            "text/html": [
              "\n",
              "  <style>\n",
              "    pre {\n",
              "        white-space: pre-wrap;\n",
              "    }\n",
              "  </style>\n",
              "  "
            ],
            "text/plain": [
              "<IPython.core.display.HTML object>"
            ]
          },
          "metadata": {
            "tags": []
          }
        }
      ]
    },
    {
      "cell_type": "code",
      "metadata": {
        "colab": {
          "base_uri": "https://localhost:8080/",
          "height": 17
        },
        "id": "1dkYt9pOzrur",
        "outputId": "d54bc1a8-e5d7-4b92-aa60-60e50b832a4c"
      },
      "source": [
        "# Method 1\n",
        "query = query.lower ()\n",
        "expanded_query = []\n",
        "n = 5\n",
        "for word in query:\n",
        "  word = str(word)\n",
        "  try:\n",
        "    similar_vector = model_w2v.most_similar ([word], topn = n)\n",
        "  except KeyError:\n",
        "    similar_vector = []\n",
        "  similar_vector.insert (0, (word, 1))\n",
        "  expanded_query.append (similar_vector)"
      ],
      "execution_count": null,
      "outputs": [
        {
          "output_type": "display_data",
          "data": {
            "text/html": [
              "\n",
              "  <style>\n",
              "    pre {\n",
              "        white-space: pre-wrap;\n",
              "    }\n",
              "  </style>\n",
              "  "
            ],
            "text/plain": [
              "<IPython.core.display.HTML object>"
            ]
          },
          "metadata": {
            "tags": []
          }
        }
      ]
    },
    {
      "cell_type": "code",
      "metadata": {
        "colab": {
          "base_uri": "https://localhost:8080/",
          "height": 17
        },
        "id": "H4OTxaya21H_",
        "outputId": "8cb2f61a-3aae-47af-b04e-bcc5a08f636e"
      },
      "source": [
        "# Method 2\n",
        "query = query.lower ()\n",
        "query = query.split (' ')\n",
        "expanded_query = []\n",
        "n = 10\n",
        "for word in query:\n",
        "  word = str(word)\n",
        "  expanded_query.append(word)\n",
        "  try:\n",
        "    similar_vector = model_w2v.most_similar ([word], topn = n)\n",
        "  except KeyError:\n",
        "    similar_vector = []\n",
        "  for element in similar_vector:\n",
        "    similar_word = str(element[0]).lower().replace('_', ' ')\n",
        "    expanded_query.append (similar_word)\n",
        "expanded_query.append ('.')"
      ],
      "execution_count": null,
      "outputs": [
        {
          "output_type": "display_data",
          "data": {
            "text/html": [
              "\n",
              "  <style>\n",
              "    pre {\n",
              "        white-space: pre-wrap;\n",
              "    }\n",
              "  </style>\n",
              "  "
            ],
            "text/plain": [
              "<IPython.core.display.HTML object>"
            ]
          },
          "metadata": {
            "tags": []
          }
        }
      ]
    },
    {
      "cell_type": "code",
      "metadata": {
        "colab": {
          "base_uri": "https://localhost:8080/",
          "height": 87
        },
        "id": "hI1aMJUUZY_X",
        "outputId": "7f5f0a7a-a57c-4b62-9316-6fda4e49dfe5"
      },
      "source": [
        "print (expanded_query)\n",
        "print (query)"
      ],
      "execution_count": null,
      "outputs": [
        {
          "output_type": "display_data",
          "data": {
            "text/html": [
              "\n",
              "  <style>\n",
              "    pre {\n",
              "        white-space: pre-wrap;\n",
              "    }\n",
              "  </style>\n",
              "  "
            ],
            "text/plain": [
              "<IPython.core.display.HTML object>"
            ]
          },
          "metadata": {
            "tags": []
          }
        },
        {
          "output_type": "stream",
          "text": [
            "['nehru', 'gandhi', 'thakur', 'sonia', 'manmohan', 'aurangazeb', 'srk', 'mohan', 'anti hindu', 'sikh', 'chamcha', 'and', 'indian', 'india', 'american', 'indians', 'pakistani', 'british', 'chinese', 'sri lankan', 'pakistan', 'malaysian', 'tamil', 'independence', 'indepedence', 'autonomy', 'statehood', 'independance', 'independency', 'indepence', 'nationhood', 'de facto independence', 'secession', 'sovereignty', '.']\n",
            "['nehru', 'and', 'indian', 'independence']\n"
          ],
          "name": "stdout"
        }
      ]
    },
    {
      "cell_type": "code",
      "metadata": {
        "colab": {
          "base_uri": "https://localhost:8080/",
          "height": 17
        },
        "id": "hTnORyWVz3OY",
        "outputId": "7ab36a12-a797-4a8d-dc8a-dbc433c76a26"
      },
      "source": [
        "result_vec = model.infer_vector (expanded_query)\n",
        "similar_paragraphs = model.__dict__['docvecs'].most_similar([result_vec])"
      ],
      "execution_count": null,
      "outputs": [
        {
          "output_type": "display_data",
          "data": {
            "text/html": [
              "\n",
              "  <style>\n",
              "    pre {\n",
              "        white-space: pre-wrap;\n",
              "    }\n",
              "  </style>\n",
              "  "
            ],
            "text/plain": [
              "<IPython.core.display.HTML object>"
            ]
          },
          "metadata": {
            "tags": []
          }
        }
      ]
    },
    {
      "cell_type": "code",
      "metadata": {
        "colab": {
          "base_uri": "https://localhost:8080/",
          "height": 52
        },
        "id": "hlc6das3QIMT",
        "outputId": "b0bfe6ce-a7ab-4376-991b-e049155e2977"
      },
      "source": [
        "print (similar_paragraphs)"
      ],
      "execution_count": null,
      "outputs": [
        {
          "output_type": "display_data",
          "data": {
            "text/html": [
              "\n",
              "  <style>\n",
              "    pre {\n",
              "        white-space: pre-wrap;\n",
              "    }\n",
              "  </style>\n",
              "  "
            ],
            "text/plain": [
              "<IPython.core.display.HTML object>"
            ]
          },
          "metadata": {
            "tags": []
          }
        },
        {
          "output_type": "stream",
          "text": [
            "[(319, 0.24655166268348694), (731, 0.21353957056999207), (30, 0.21273267269134521), (299, 0.20978717505931854), (158, 0.20212069153785706), (161, 0.19536463916301727), (21, 0.19455492496490479), (302, 0.19249460101127625), (18, 0.18917244672775269), (316, 0.1867251694202423)]\n"
          ],
          "name": "stdout"
        }
      ]
    },
    {
      "cell_type": "code",
      "metadata": {
        "colab": {
          "base_uri": "https://localhost:8080/",
          "height": 17
        },
        "id": "EJnBL07kPz1B",
        "outputId": "ca97d199-b889-4b54-a6e4-ea4eb08dee45"
      },
      "source": [
        "max_relevant_para = 5"
      ],
      "execution_count": null,
      "outputs": [
        {
          "output_type": "display_data",
          "data": {
            "text/html": [
              "\n",
              "  <style>\n",
              "    pre {\n",
              "        white-space: pre-wrap;\n",
              "    }\n",
              "  </style>\n",
              "  "
            ],
            "text/plain": [
              "<IPython.core.display.HTML object>"
            ]
          },
          "metadata": {
            "tags": []
          }
        }
      ]
    },
    {
      "cell_type": "code",
      "metadata": {
        "colab": {
          "base_uri": "https://localhost:8080/",
          "height": 1000
        },
        "id": "jD8qetsEP2aJ",
        "outputId": "17fb872a-6617-4d7b-d31a-909bc0d7e33c"
      },
      "source": [
        "for i in range (max_relevant_para):\n",
        "  print (original_para [similar_paragraphs [i][0]])\n",
        "  for i in range (10):\n",
        "    print ()"
      ],
      "execution_count": null,
      "outputs": [
        {
          "output_type": "display_data",
          "data": {
            "text/html": [
              "\n",
              "  <style>\n",
              "    pre {\n",
              "        white-space: pre-wrap;\n",
              "    }\n",
              "  </style>\n",
              "  "
            ],
            "text/plain": [
              "<IPython.core.display.HTML object>"
            ]
          },
          "metadata": {
            "tags": []
          }
        },
        {
          "output_type": "stream",
          "text": [
            "Ramanuja advocated a qualified monism vishishthadvaita , according to which god is all-encompassing and eternal but not undifferentiated. The individual souls cit and inanimate matter acit are his divine qualities vishishtha and thus both real and divine. The individual souls are at once one with god and separate from him. Salvation consists of a unification sayujya of the soul with god. This can be achieved only by leading a virtuous life and acquiring knowledge of the secret of differentiation by which the individual soul is kept apart from god. The final consummation of this spiritual marriage is possible only by means of devotion bhakti and by the grace of god\n",
            "\n",
            "\n",
            "\n",
            "\n",
            "\n",
            "\n",
            "\n",
            "\n",
            "\n",
            "\n",
            "Chr\n",
            "\n",
            "\n",
            "\n",
            "\n",
            "\n",
            "\n",
            "\n",
            "\n",
            "\n",
            "\n",
            "The likelihood of conflict between rulers of two major regions was dependent on these domestic struggles. For instance, if the ruler of a southern centre of the highlands was in power and a ruler of the Delhi- Agra region had attained hegemony in the North, there was hardly a chance of their clashing. But if the foremost ruler of the southern highlands was located in the north of this region and the North was in the hands of a ruler of the middle Gangetic basin, a clash was much more likely for example, the Rashtrakuta encounter with the Gurjara Pratiharas .The potential for long-distance intervention and conquest grew onlywhen the Islamic invaders of the North introduced the new method of swift cavalry warfare. However, it did not, at first, change the pattern of regional dominance. All rulers quickly adopted the new strategy and thus there was once more a uniform standard of warfare throughout the subcontinent. However, the new strategy had important internal consequences for the political structure of the regional realms. Horse breeding was always a problem in India and good warhorses had to be imported from Arabia and Persia at a high price. This made the maintenance of the military machine more expensive. At the same time the INTRODUCTION12man on horseback was an awe-inspiring collector of land revenue and thus the appropriation of surplus could be intensified. A new military feudalism, hand-in-hand with a military urbanism, arose in this way. Cavalry garrisons were established in the countryside and their commanding officers became local administrators making their headquarters focal points for their respective neighbourhoods. The extraction of surplus from the countryside was delegated to a large extent. These cavalry officers were rarely local notables. They were usually strangers who owed their appointment to the regional ruler, and if they thought of rebellion at all they thought in terms of replacing the ruler himself rather than gaining autonomy over the area which they happened to control.THE MARITIME PERIPHERY AND THE INTRUSION OF EUROPEAN POWERSThe preoccupation with the cavalry warfare blinded the Indian rulers to the maritime challenge of European powers. They would only take an enemy seriously if he confronted them with large contingents of cavalry\n",
            "\n",
            "\n",
            "\n",
            "\n",
            "\n",
            "\n",
            "\n",
            "\n",
            "\n",
            "\n",
            "Paintings in the temple and sculptures outside it showed the king depicted like a god and the gods in turn were decorated with royal attributes. In order to gain additional legitimation some kings even solemnly transferred their realm to the royal god and ruled it as the god s representative or son putra . In this way they could use the royal temple and its staff asinstruments of government and could threaten disobedient samantas with the wrath of the royal god if they did not obey the king s orders.The settlement of Brahmins and the establishment of royal templesserved the purpose of creating a new network of ritual, political and economic relations. This network was centred on the king and was thus an antidote to the centrifugal tendencies of the samantachakra. But in the long run this policy did not solve the problems of the constant power struggles in medieval regional kingdoms. More and more resources were diverted to the Brahmins and temples and thus were not available for other urgent tasks of the state such as infrastructure, agrarian extension, administration and defence. This was particularly true of kingdoms where one king after another established a great temple of his own and more and more land and wealth passed into the hands of the managers of temple trusts. The people were pressed by the burden of taxation and the samantas were driven to rebellion by the very measures which were designed to keep them in check\n",
            "\n",
            "\n",
            "\n",
            "\n",
            "\n",
            "\n",
            "\n",
            "\n",
            "\n",
            "\n",
            "As a newly discovered minor rock inscription at Panguraria in Madhya Pradesh is addressed by Ashoka to a kumara, this inscription is interpreted as an indication of the existence of a fifth province. But as the site of this inscription is only about a hundred kilometres away from Ujjain, the famous capital of the western province, the kumara addressed in this inscription may well have been the viceroy of Ujjain.The large provinces were divided into fairly extensive districts, headed bymahamatras. The mahamatras were probably the high officers mentioned byMegasthenes. They were responsible for the relation between the centre and the provinces. In provincial towns they also were appointed as judges nagara-viyohalaka . In addition to the mahamatras the inscriptions mentionthe following ranks of officers pradeshika, rajuka and yukta. The latter were petty officers, probably scribes and revenue collectors. The pradeshikas were in charge of administrative units which could be compared to the divisions of British India which included several districts. Whether the rajuka was a district officer is not quite clear. The fourth pillar inscription belonging to the twenty-sixth year of Ashoka s reign mentions that the rajuka is appointed over many hundred thousands of people and was given special powers of penal jurisdiction, but the same inscription also states that the rajukas had to obey orders conveyed by royal emissaries pulisani who, as Ashoka emphasised, knew exactly what he wanted done.References of this kind have often been used to show that Ashoka wasrunning a highly centralised direct administration of his whole empire. But the pillar inscriptions which contain these latter references have so far been found only in central Gangetic region and the Ganga-Yamuna Doab\n",
            "\n",
            "\n",
            "\n",
            "\n",
            "\n",
            "\n",
            "\n",
            "\n",
            "\n",
            "\n"
          ],
          "name": "stdout"
        }
      ]
    },
    {
      "cell_type": "code",
      "metadata": {
        "id": "FxeSCuedaqMI"
      },
      "source": [
        "\n",
        "\n"
      ],
      "execution_count": null,
      "outputs": []
    }
  ]
}