{
  "nbformat": 4,
  "nbformat_minor": 0,
  "metadata": {
    "colab": {
      "name": "BERT.ipynb",
      "provenance": [],
      "authorship_tag": "ABX9TyP0C/EZ6AM5yrkmNtClnh2m"
    },
    "kernelspec": {
      "name": "python3",
      "display_name": "Python 3"
    },
    "language_info": {
      "name": "python"
    },
    "accelerator": "TPU",
    "widgets": {
      "application/vnd.jupyter.widget-state+json": {
        "4d6d691c766e4c4c84b84e91da7d46fb": {
          "model_module": "@jupyter-widgets/controls",
          "model_name": "HBoxModel",
          "state": {
            "_view_name": "HBoxView",
            "_dom_classes": [],
            "_model_name": "HBoxModel",
            "_view_module": "@jupyter-widgets/controls",
            "_model_module_version": "1.5.0",
            "_view_count": null,
            "_view_module_version": "1.5.0",
            "box_style": "",
            "layout": "IPY_MODEL_d00f838fbafb4933882ce31769b1d207",
            "_model_module": "@jupyter-widgets/controls",
            "children": [
              "IPY_MODEL_897b70b087e84f3f88a80c876b48b19e",
              "IPY_MODEL_5bf41b28438c40e18805518e816b64a7"
            ]
          },
          "model_module_version": "1.5.0"
        },
        "d00f838fbafb4933882ce31769b1d207": {
          "model_module": "@jupyter-widgets/base",
          "model_name": "LayoutModel",
          "state": {
            "_view_name": "LayoutView",
            "grid_template_rows": null,
            "right": null,
            "justify_content": null,
            "_view_module": "@jupyter-widgets/base",
            "overflow": null,
            "_model_module_version": "1.2.0",
            "_view_count": null,
            "flex_flow": null,
            "width": null,
            "min_width": null,
            "border": null,
            "align_items": null,
            "bottom": null,
            "_model_module": "@jupyter-widgets/base",
            "top": null,
            "grid_column": null,
            "overflow_y": null,
            "overflow_x": null,
            "grid_auto_flow": null,
            "grid_area": null,
            "grid_template_columns": null,
            "flex": null,
            "_model_name": "LayoutModel",
            "justify_items": null,
            "grid_row": null,
            "max_height": null,
            "align_content": null,
            "visibility": null,
            "align_self": null,
            "height": null,
            "min_height": null,
            "padding": null,
            "grid_auto_rows": null,
            "grid_gap": null,
            "max_width": null,
            "order": null,
            "_view_module_version": "1.2.0",
            "grid_template_areas": null,
            "object_position": null,
            "object_fit": null,
            "grid_auto_columns": null,
            "margin": null,
            "display": null,
            "left": null
          },
          "model_module_version": "1.2.0"
        },
        "897b70b087e84f3f88a80c876b48b19e": {
          "model_module": "@jupyter-widgets/controls",
          "model_name": "FloatProgressModel",
          "state": {
            "_view_name": "ProgressView",
            "style": "IPY_MODEL_2c1ae820b57b43b887fd77cc97ed0875",
            "_dom_classes": [],
            "description": "Downloading: 100%",
            "_model_name": "FloatProgressModel",
            "bar_style": "success",
            "max": 391,
            "_view_module": "@jupyter-widgets/controls",
            "_model_module_version": "1.5.0",
            "value": 391,
            "_view_count": null,
            "_view_module_version": "1.5.0",
            "orientation": "horizontal",
            "min": 0,
            "description_tooltip": null,
            "_model_module": "@jupyter-widgets/controls",
            "layout": "IPY_MODEL_4e7670e4e6804238b78a302989117467"
          },
          "model_module_version": "1.5.0"
        },
        "5bf41b28438c40e18805518e816b64a7": {
          "model_module": "@jupyter-widgets/controls",
          "model_name": "HTMLModel",
          "state": {
            "_view_name": "HTMLView",
            "style": "IPY_MODEL_ca95e79c3f4246619437d1fd77105c15",
            "_dom_classes": [],
            "description": "",
            "_model_name": "HTMLModel",
            "placeholder": "​",
            "_view_module": "@jupyter-widgets/controls",
            "_model_module_version": "1.5.0",
            "value": " 391/391 [00:00&lt;00:00, 829B/s]",
            "_view_count": null,
            "_view_module_version": "1.5.0",
            "description_tooltip": null,
            "_model_module": "@jupyter-widgets/controls",
            "layout": "IPY_MODEL_00865533cea14136b7aed0f54ec891fb"
          },
          "model_module_version": "1.5.0"
        },
        "2c1ae820b57b43b887fd77cc97ed0875": {
          "model_module": "@jupyter-widgets/controls",
          "model_name": "ProgressStyleModel",
          "state": {
            "_view_name": "StyleView",
            "_model_name": "ProgressStyleModel",
            "description_width": "initial",
            "_view_module": "@jupyter-widgets/base",
            "_model_module_version": "1.5.0",
            "_view_count": null,
            "_view_module_version": "1.2.0",
            "bar_color": null,
            "_model_module": "@jupyter-widgets/controls"
          },
          "model_module_version": "1.5.0"
        },
        "4e7670e4e6804238b78a302989117467": {
          "model_module": "@jupyter-widgets/base",
          "model_name": "LayoutModel",
          "state": {
            "_view_name": "LayoutView",
            "grid_template_rows": null,
            "right": null,
            "justify_content": null,
            "_view_module": "@jupyter-widgets/base",
            "overflow": null,
            "_model_module_version": "1.2.0",
            "_view_count": null,
            "flex_flow": null,
            "width": null,
            "min_width": null,
            "border": null,
            "align_items": null,
            "bottom": null,
            "_model_module": "@jupyter-widgets/base",
            "top": null,
            "grid_column": null,
            "overflow_y": null,
            "overflow_x": null,
            "grid_auto_flow": null,
            "grid_area": null,
            "grid_template_columns": null,
            "flex": null,
            "_model_name": "LayoutModel",
            "justify_items": null,
            "grid_row": null,
            "max_height": null,
            "align_content": null,
            "visibility": null,
            "align_self": null,
            "height": null,
            "min_height": null,
            "padding": null,
            "grid_auto_rows": null,
            "grid_gap": null,
            "max_width": null,
            "order": null,
            "_view_module_version": "1.2.0",
            "grid_template_areas": null,
            "object_position": null,
            "object_fit": null,
            "grid_auto_columns": null,
            "margin": null,
            "display": null,
            "left": null
          },
          "model_module_version": "1.2.0"
        },
        "ca95e79c3f4246619437d1fd77105c15": {
          "model_module": "@jupyter-widgets/controls",
          "model_name": "DescriptionStyleModel",
          "state": {
            "_view_name": "StyleView",
            "_model_name": "DescriptionStyleModel",
            "description_width": "",
            "_view_module": "@jupyter-widgets/base",
            "_model_module_version": "1.5.0",
            "_view_count": null,
            "_view_module_version": "1.2.0",
            "_model_module": "@jupyter-widgets/controls"
          },
          "model_module_version": "1.5.0"
        },
        "00865533cea14136b7aed0f54ec891fb": {
          "model_module": "@jupyter-widgets/base",
          "model_name": "LayoutModel",
          "state": {
            "_view_name": "LayoutView",
            "grid_template_rows": null,
            "right": null,
            "justify_content": null,
            "_view_module": "@jupyter-widgets/base",
            "overflow": null,
            "_model_module_version": "1.2.0",
            "_view_count": null,
            "flex_flow": null,
            "width": null,
            "min_width": null,
            "border": null,
            "align_items": null,
            "bottom": null,
            "_model_module": "@jupyter-widgets/base",
            "top": null,
            "grid_column": null,
            "overflow_y": null,
            "overflow_x": null,
            "grid_auto_flow": null,
            "grid_area": null,
            "grid_template_columns": null,
            "flex": null,
            "_model_name": "LayoutModel",
            "justify_items": null,
            "grid_row": null,
            "max_height": null,
            "align_content": null,
            "visibility": null,
            "align_self": null,
            "height": null,
            "min_height": null,
            "padding": null,
            "grid_auto_rows": null,
            "grid_gap": null,
            "max_width": null,
            "order": null,
            "_view_module_version": "1.2.0",
            "grid_template_areas": null,
            "object_position": null,
            "object_fit": null,
            "grid_auto_columns": null,
            "margin": null,
            "display": null,
            "left": null
          },
          "model_module_version": "1.2.0"
        },
        "2a1c28dc851449609e019a3c97990f5f": {
          "model_module": "@jupyter-widgets/controls",
          "model_name": "HBoxModel",
          "state": {
            "_view_name": "HBoxView",
            "_dom_classes": [],
            "_model_name": "HBoxModel",
            "_view_module": "@jupyter-widgets/controls",
            "_model_module_version": "1.5.0",
            "_view_count": null,
            "_view_module_version": "1.5.0",
            "box_style": "",
            "layout": "IPY_MODEL_2aad2f26727d48aa87d066bb318b5641",
            "_model_module": "@jupyter-widgets/controls",
            "children": [
              "IPY_MODEL_48842a54445b47f497db385fd72d1f49",
              "IPY_MODEL_d8dabc7bf6764ae285a007bd6686dd42"
            ]
          },
          "model_module_version": "1.5.0"
        },
        "2aad2f26727d48aa87d066bb318b5641": {
          "model_module": "@jupyter-widgets/base",
          "model_name": "LayoutModel",
          "state": {
            "_view_name": "LayoutView",
            "grid_template_rows": null,
            "right": null,
            "justify_content": null,
            "_view_module": "@jupyter-widgets/base",
            "overflow": null,
            "_model_module_version": "1.2.0",
            "_view_count": null,
            "flex_flow": null,
            "width": null,
            "min_width": null,
            "border": null,
            "align_items": null,
            "bottom": null,
            "_model_module": "@jupyter-widgets/base",
            "top": null,
            "grid_column": null,
            "overflow_y": null,
            "overflow_x": null,
            "grid_auto_flow": null,
            "grid_area": null,
            "grid_template_columns": null,
            "flex": null,
            "_model_name": "LayoutModel",
            "justify_items": null,
            "grid_row": null,
            "max_height": null,
            "align_content": null,
            "visibility": null,
            "align_self": null,
            "height": null,
            "min_height": null,
            "padding": null,
            "grid_auto_rows": null,
            "grid_gap": null,
            "max_width": null,
            "order": null,
            "_view_module_version": "1.2.0",
            "grid_template_areas": null,
            "object_position": null,
            "object_fit": null,
            "grid_auto_columns": null,
            "margin": null,
            "display": null,
            "left": null
          },
          "model_module_version": "1.2.0"
        },
        "48842a54445b47f497db385fd72d1f49": {
          "model_module": "@jupyter-widgets/controls",
          "model_name": "FloatProgressModel",
          "state": {
            "_view_name": "ProgressView",
            "style": "IPY_MODEL_54c429f089f94547b09fe05099481cbd",
            "_dom_classes": [],
            "description": "Downloading: 100%",
            "_model_name": "FloatProgressModel",
            "bar_style": "success",
            "max": 3931,
            "_view_module": "@jupyter-widgets/controls",
            "_model_module_version": "1.5.0",
            "value": 3931,
            "_view_count": null,
            "_view_module_version": "1.5.0",
            "orientation": "horizontal",
            "min": 0,
            "description_tooltip": null,
            "_model_module": "@jupyter-widgets/controls",
            "layout": "IPY_MODEL_5cbab60f1e584653ba61c6ebe1df3d6c"
          },
          "model_module_version": "1.5.0"
        },
        "d8dabc7bf6764ae285a007bd6686dd42": {
          "model_module": "@jupyter-widgets/controls",
          "model_name": "HTMLModel",
          "state": {
            "_view_name": "HTMLView",
            "style": "IPY_MODEL_b36a66b4338f4086bef174c978753c8e",
            "_dom_classes": [],
            "description": "",
            "_model_name": "HTMLModel",
            "placeholder": "​",
            "_view_module": "@jupyter-widgets/controls",
            "_model_module_version": "1.5.0",
            "value": " 3.93k/3.93k [03:12&lt;00:00, 20.4B/s]",
            "_view_count": null,
            "_view_module_version": "1.5.0",
            "description_tooltip": null,
            "_model_module": "@jupyter-widgets/controls",
            "layout": "IPY_MODEL_7e4a17cd9a4d4b8a8a1adf1dd78755ed"
          },
          "model_module_version": "1.5.0"
        },
        "54c429f089f94547b09fe05099481cbd": {
          "model_module": "@jupyter-widgets/controls",
          "model_name": "ProgressStyleModel",
          "state": {
            "_view_name": "StyleView",
            "_model_name": "ProgressStyleModel",
            "description_width": "initial",
            "_view_module": "@jupyter-widgets/base",
            "_model_module_version": "1.5.0",
            "_view_count": null,
            "_view_module_version": "1.2.0",
            "bar_color": null,
            "_model_module": "@jupyter-widgets/controls"
          },
          "model_module_version": "1.5.0"
        },
        "5cbab60f1e584653ba61c6ebe1df3d6c": {
          "model_module": "@jupyter-widgets/base",
          "model_name": "LayoutModel",
          "state": {
            "_view_name": "LayoutView",
            "grid_template_rows": null,
            "right": null,
            "justify_content": null,
            "_view_module": "@jupyter-widgets/base",
            "overflow": null,
            "_model_module_version": "1.2.0",
            "_view_count": null,
            "flex_flow": null,
            "width": null,
            "min_width": null,
            "border": null,
            "align_items": null,
            "bottom": null,
            "_model_module": "@jupyter-widgets/base",
            "top": null,
            "grid_column": null,
            "overflow_y": null,
            "overflow_x": null,
            "grid_auto_flow": null,
            "grid_area": null,
            "grid_template_columns": null,
            "flex": null,
            "_model_name": "LayoutModel",
            "justify_items": null,
            "grid_row": null,
            "max_height": null,
            "align_content": null,
            "visibility": null,
            "align_self": null,
            "height": null,
            "min_height": null,
            "padding": null,
            "grid_auto_rows": null,
            "grid_gap": null,
            "max_width": null,
            "order": null,
            "_view_module_version": "1.2.0",
            "grid_template_areas": null,
            "object_position": null,
            "object_fit": null,
            "grid_auto_columns": null,
            "margin": null,
            "display": null,
            "left": null
          },
          "model_module_version": "1.2.0"
        },
        "b36a66b4338f4086bef174c978753c8e": {
          "model_module": "@jupyter-widgets/controls",
          "model_name": "DescriptionStyleModel",
          "state": {
            "_view_name": "StyleView",
            "_model_name": "DescriptionStyleModel",
            "description_width": "",
            "_view_module": "@jupyter-widgets/base",
            "_model_module_version": "1.5.0",
            "_view_count": null,
            "_view_module_version": "1.2.0",
            "_model_module": "@jupyter-widgets/controls"
          },
          "model_module_version": "1.5.0"
        },
        "7e4a17cd9a4d4b8a8a1adf1dd78755ed": {
          "model_module": "@jupyter-widgets/base",
          "model_name": "LayoutModel",
          "state": {
            "_view_name": "LayoutView",
            "grid_template_rows": null,
            "right": null,
            "justify_content": null,
            "_view_module": "@jupyter-widgets/base",
            "overflow": null,
            "_model_module_version": "1.2.0",
            "_view_count": null,
            "flex_flow": null,
            "width": null,
            "min_width": null,
            "border": null,
            "align_items": null,
            "bottom": null,
            "_model_module": "@jupyter-widgets/base",
            "top": null,
            "grid_column": null,
            "overflow_y": null,
            "overflow_x": null,
            "grid_auto_flow": null,
            "grid_area": null,
            "grid_template_columns": null,
            "flex": null,
            "_model_name": "LayoutModel",
            "justify_items": null,
            "grid_row": null,
            "max_height": null,
            "align_content": null,
            "visibility": null,
            "align_self": null,
            "height": null,
            "min_height": null,
            "padding": null,
            "grid_auto_rows": null,
            "grid_gap": null,
            "max_width": null,
            "order": null,
            "_view_module_version": "1.2.0",
            "grid_template_areas": null,
            "object_position": null,
            "object_fit": null,
            "grid_auto_columns": null,
            "margin": null,
            "display": null,
            "left": null
          },
          "model_module_version": "1.2.0"
        },
        "1a75a8710e8f4fdab914698e34a4c179": {
          "model_module": "@jupyter-widgets/controls",
          "model_name": "HBoxModel",
          "state": {
            "_view_name": "HBoxView",
            "_dom_classes": [],
            "_model_name": "HBoxModel",
            "_view_module": "@jupyter-widgets/controls",
            "_model_module_version": "1.5.0",
            "_view_count": null,
            "_view_module_version": "1.5.0",
            "box_style": "",
            "layout": "IPY_MODEL_b1608c9084754e129cb0549a068808a2",
            "_model_module": "@jupyter-widgets/controls",
            "children": [
              "IPY_MODEL_816053cad10b45049a3de4f86b80906e",
              "IPY_MODEL_a1fc6e5efd6c499aad341015f06c33c1"
            ]
          },
          "model_module_version": "1.5.0"
        },
        "b1608c9084754e129cb0549a068808a2": {
          "model_module": "@jupyter-widgets/base",
          "model_name": "LayoutModel",
          "state": {
            "_view_name": "LayoutView",
            "grid_template_rows": null,
            "right": null,
            "justify_content": null,
            "_view_module": "@jupyter-widgets/base",
            "overflow": null,
            "_model_module_version": "1.2.0",
            "_view_count": null,
            "flex_flow": null,
            "width": null,
            "min_width": null,
            "border": null,
            "align_items": null,
            "bottom": null,
            "_model_module": "@jupyter-widgets/base",
            "top": null,
            "grid_column": null,
            "overflow_y": null,
            "overflow_x": null,
            "grid_auto_flow": null,
            "grid_area": null,
            "grid_template_columns": null,
            "flex": null,
            "_model_name": "LayoutModel",
            "justify_items": null,
            "grid_row": null,
            "max_height": null,
            "align_content": null,
            "visibility": null,
            "align_self": null,
            "height": null,
            "min_height": null,
            "padding": null,
            "grid_auto_rows": null,
            "grid_gap": null,
            "max_width": null,
            "order": null,
            "_view_module_version": "1.2.0",
            "grid_template_areas": null,
            "object_position": null,
            "object_fit": null,
            "grid_auto_columns": null,
            "margin": null,
            "display": null,
            "left": null
          },
          "model_module_version": "1.2.0"
        },
        "816053cad10b45049a3de4f86b80906e": {
          "model_module": "@jupyter-widgets/controls",
          "model_name": "FloatProgressModel",
          "state": {
            "_view_name": "ProgressView",
            "style": "IPY_MODEL_313849525b25429893b74008581345ef",
            "_dom_classes": [],
            "description": "Downloading: 100%",
            "_model_name": "FloatProgressModel",
            "bar_style": "success",
            "max": 2,
            "_view_module": "@jupyter-widgets/controls",
            "_model_module_version": "1.5.0",
            "value": 2,
            "_view_count": null,
            "_view_module_version": "1.5.0",
            "orientation": "horizontal",
            "min": 0,
            "description_tooltip": null,
            "_model_module": "@jupyter-widgets/controls",
            "layout": "IPY_MODEL_59057185d8cc4816bb5ecebddde93292"
          },
          "model_module_version": "1.5.0"
        },
        "a1fc6e5efd6c499aad341015f06c33c1": {
          "model_module": "@jupyter-widgets/controls",
          "model_name": "HTMLModel",
          "state": {
            "_view_name": "HTMLView",
            "style": "IPY_MODEL_7e9c55aa335643b882b821adb44ec570",
            "_dom_classes": [],
            "description": "",
            "_model_name": "HTMLModel",
            "placeholder": "​",
            "_view_module": "@jupyter-widgets/controls",
            "_model_module_version": "1.5.0",
            "value": " 2.00/2.00 [00:00&lt;00:00, 3.41B/s]",
            "_view_count": null,
            "_view_module_version": "1.5.0",
            "description_tooltip": null,
            "_model_module": "@jupyter-widgets/controls",
            "layout": "IPY_MODEL_6ea079a3425c43c7a63f803aa76010cf"
          },
          "model_module_version": "1.5.0"
        },
        "313849525b25429893b74008581345ef": {
          "model_module": "@jupyter-widgets/controls",
          "model_name": "ProgressStyleModel",
          "state": {
            "_view_name": "StyleView",
            "_model_name": "ProgressStyleModel",
            "description_width": "initial",
            "_view_module": "@jupyter-widgets/base",
            "_model_module_version": "1.5.0",
            "_view_count": null,
            "_view_module_version": "1.2.0",
            "bar_color": null,
            "_model_module": "@jupyter-widgets/controls"
          },
          "model_module_version": "1.5.0"
        },
        "59057185d8cc4816bb5ecebddde93292": {
          "model_module": "@jupyter-widgets/base",
          "model_name": "LayoutModel",
          "state": {
            "_view_name": "LayoutView",
            "grid_template_rows": null,
            "right": null,
            "justify_content": null,
            "_view_module": "@jupyter-widgets/base",
            "overflow": null,
            "_model_module_version": "1.2.0",
            "_view_count": null,
            "flex_flow": null,
            "width": null,
            "min_width": null,
            "border": null,
            "align_items": null,
            "bottom": null,
            "_model_module": "@jupyter-widgets/base",
            "top": null,
            "grid_column": null,
            "overflow_y": null,
            "overflow_x": null,
            "grid_auto_flow": null,
            "grid_area": null,
            "grid_template_columns": null,
            "flex": null,
            "_model_name": "LayoutModel",
            "justify_items": null,
            "grid_row": null,
            "max_height": null,
            "align_content": null,
            "visibility": null,
            "align_self": null,
            "height": null,
            "min_height": null,
            "padding": null,
            "grid_auto_rows": null,
            "grid_gap": null,
            "max_width": null,
            "order": null,
            "_view_module_version": "1.2.0",
            "grid_template_areas": null,
            "object_position": null,
            "object_fit": null,
            "grid_auto_columns": null,
            "margin": null,
            "display": null,
            "left": null
          },
          "model_module_version": "1.2.0"
        },
        "7e9c55aa335643b882b821adb44ec570": {
          "model_module": "@jupyter-widgets/controls",
          "model_name": "DescriptionStyleModel",
          "state": {
            "_view_name": "StyleView",
            "_model_name": "DescriptionStyleModel",
            "description_width": "",
            "_view_module": "@jupyter-widgets/base",
            "_model_module_version": "1.5.0",
            "_view_count": null,
            "_view_module_version": "1.2.0",
            "_model_module": "@jupyter-widgets/controls"
          },
          "model_module_version": "1.5.0"
        },
        "6ea079a3425c43c7a63f803aa76010cf": {
          "model_module": "@jupyter-widgets/base",
          "model_name": "LayoutModel",
          "state": {
            "_view_name": "LayoutView",
            "grid_template_rows": null,
            "right": null,
            "justify_content": null,
            "_view_module": "@jupyter-widgets/base",
            "overflow": null,
            "_model_module_version": "1.2.0",
            "_view_count": null,
            "flex_flow": null,
            "width": null,
            "min_width": null,
            "border": null,
            "align_items": null,
            "bottom": null,
            "_model_module": "@jupyter-widgets/base",
            "top": null,
            "grid_column": null,
            "overflow_y": null,
            "overflow_x": null,
            "grid_auto_flow": null,
            "grid_area": null,
            "grid_template_columns": null,
            "flex": null,
            "_model_name": "LayoutModel",
            "justify_items": null,
            "grid_row": null,
            "max_height": null,
            "align_content": null,
            "visibility": null,
            "align_self": null,
            "height": null,
            "min_height": null,
            "padding": null,
            "grid_auto_rows": null,
            "grid_gap": null,
            "max_width": null,
            "order": null,
            "_view_module_version": "1.2.0",
            "grid_template_areas": null,
            "object_position": null,
            "object_fit": null,
            "grid_auto_columns": null,
            "margin": null,
            "display": null,
            "left": null
          },
          "model_module_version": "1.2.0"
        },
        "807ab786ae994e82a4349735ce6b9bd7": {
          "model_module": "@jupyter-widgets/controls",
          "model_name": "HBoxModel",
          "state": {
            "_view_name": "HBoxView",
            "_dom_classes": [],
            "_model_name": "HBoxModel",
            "_view_module": "@jupyter-widgets/controls",
            "_model_module_version": "1.5.0",
            "_view_count": null,
            "_view_module_version": "1.5.0",
            "box_style": "",
            "layout": "IPY_MODEL_ef49fd64dffc4cdb8210e4e143c6f322",
            "_model_module": "@jupyter-widgets/controls",
            "children": [
              "IPY_MODEL_9be6ab69eb2548b9ac8df704c67d42b3",
              "IPY_MODEL_4d9459c90a6d42f688f36ebb4d5402e2"
            ]
          },
          "model_module_version": "1.5.0"
        },
        "ef49fd64dffc4cdb8210e4e143c6f322": {
          "model_module": "@jupyter-widgets/base",
          "model_name": "LayoutModel",
          "state": {
            "_view_name": "LayoutView",
            "grid_template_rows": null,
            "right": null,
            "justify_content": null,
            "_view_module": "@jupyter-widgets/base",
            "overflow": null,
            "_model_module_version": "1.2.0",
            "_view_count": null,
            "flex_flow": null,
            "width": null,
            "min_width": null,
            "border": null,
            "align_items": null,
            "bottom": null,
            "_model_module": "@jupyter-widgets/base",
            "top": null,
            "grid_column": null,
            "overflow_y": null,
            "overflow_x": null,
            "grid_auto_flow": null,
            "grid_area": null,
            "grid_template_columns": null,
            "flex": null,
            "_model_name": "LayoutModel",
            "justify_items": null,
            "grid_row": null,
            "max_height": null,
            "align_content": null,
            "visibility": null,
            "align_self": null,
            "height": null,
            "min_height": null,
            "padding": null,
            "grid_auto_rows": null,
            "grid_gap": null,
            "max_width": null,
            "order": null,
            "_view_module_version": "1.2.0",
            "grid_template_areas": null,
            "object_position": null,
            "object_fit": null,
            "grid_auto_columns": null,
            "margin": null,
            "display": null,
            "left": null
          },
          "model_module_version": "1.2.0"
        },
        "9be6ab69eb2548b9ac8df704c67d42b3": {
          "model_module": "@jupyter-widgets/controls",
          "model_name": "FloatProgressModel",
          "state": {
            "_view_name": "ProgressView",
            "style": "IPY_MODEL_f77f589e3f0849b0ae0100576c7284e7",
            "_dom_classes": [],
            "description": "Downloading: 100%",
            "_model_name": "FloatProgressModel",
            "bar_style": "success",
            "max": 625,
            "_view_module": "@jupyter-widgets/controls",
            "_model_module_version": "1.5.0",
            "value": 625,
            "_view_count": null,
            "_view_module_version": "1.5.0",
            "orientation": "horizontal",
            "min": 0,
            "description_tooltip": null,
            "_model_module": "@jupyter-widgets/controls",
            "layout": "IPY_MODEL_6c3a38786b3040aa959b4bf72ad180ab"
          },
          "model_module_version": "1.5.0"
        },
        "4d9459c90a6d42f688f36ebb4d5402e2": {
          "model_module": "@jupyter-widgets/controls",
          "model_name": "HTMLModel",
          "state": {
            "_view_name": "HTMLView",
            "style": "IPY_MODEL_f849f96d219544f48d8aff814fb44af0",
            "_dom_classes": [],
            "description": "",
            "_model_name": "HTMLModel",
            "placeholder": "​",
            "_view_module": "@jupyter-widgets/controls",
            "_model_module_version": "1.5.0",
            "value": " 625/625 [00:00&lt;00:00, 3.18kB/s]",
            "_view_count": null,
            "_view_module_version": "1.5.0",
            "description_tooltip": null,
            "_model_module": "@jupyter-widgets/controls",
            "layout": "IPY_MODEL_7db9a51dcec34d2eafc171f23d6089f8"
          },
          "model_module_version": "1.5.0"
        },
        "f77f589e3f0849b0ae0100576c7284e7": {
          "model_module": "@jupyter-widgets/controls",
          "model_name": "ProgressStyleModel",
          "state": {
            "_view_name": "StyleView",
            "_model_name": "ProgressStyleModel",
            "description_width": "initial",
            "_view_module": "@jupyter-widgets/base",
            "_model_module_version": "1.5.0",
            "_view_count": null,
            "_view_module_version": "1.2.0",
            "bar_color": null,
            "_model_module": "@jupyter-widgets/controls"
          },
          "model_module_version": "1.5.0"
        },
        "6c3a38786b3040aa959b4bf72ad180ab": {
          "model_module": "@jupyter-widgets/base",
          "model_name": "LayoutModel",
          "state": {
            "_view_name": "LayoutView",
            "grid_template_rows": null,
            "right": null,
            "justify_content": null,
            "_view_module": "@jupyter-widgets/base",
            "overflow": null,
            "_model_module_version": "1.2.0",
            "_view_count": null,
            "flex_flow": null,
            "width": null,
            "min_width": null,
            "border": null,
            "align_items": null,
            "bottom": null,
            "_model_module": "@jupyter-widgets/base",
            "top": null,
            "grid_column": null,
            "overflow_y": null,
            "overflow_x": null,
            "grid_auto_flow": null,
            "grid_area": null,
            "grid_template_columns": null,
            "flex": null,
            "_model_name": "LayoutModel",
            "justify_items": null,
            "grid_row": null,
            "max_height": null,
            "align_content": null,
            "visibility": null,
            "align_self": null,
            "height": null,
            "min_height": null,
            "padding": null,
            "grid_auto_rows": null,
            "grid_gap": null,
            "max_width": null,
            "order": null,
            "_view_module_version": "1.2.0",
            "grid_template_areas": null,
            "object_position": null,
            "object_fit": null,
            "grid_auto_columns": null,
            "margin": null,
            "display": null,
            "left": null
          },
          "model_module_version": "1.2.0"
        },
        "f849f96d219544f48d8aff814fb44af0": {
          "model_module": "@jupyter-widgets/controls",
          "model_name": "DescriptionStyleModel",
          "state": {
            "_view_name": "StyleView",
            "_model_name": "DescriptionStyleModel",
            "description_width": "",
            "_view_module": "@jupyter-widgets/base",
            "_model_module_version": "1.5.0",
            "_view_count": null,
            "_view_module_version": "1.2.0",
            "_model_module": "@jupyter-widgets/controls"
          },
          "model_module_version": "1.5.0"
        },
        "7db9a51dcec34d2eafc171f23d6089f8": {
          "model_module": "@jupyter-widgets/base",
          "model_name": "LayoutModel",
          "state": {
            "_view_name": "LayoutView",
            "grid_template_rows": null,
            "right": null,
            "justify_content": null,
            "_view_module": "@jupyter-widgets/base",
            "overflow": null,
            "_model_module_version": "1.2.0",
            "_view_count": null,
            "flex_flow": null,
            "width": null,
            "min_width": null,
            "border": null,
            "align_items": null,
            "bottom": null,
            "_model_module": "@jupyter-widgets/base",
            "top": null,
            "grid_column": null,
            "overflow_y": null,
            "overflow_x": null,
            "grid_auto_flow": null,
            "grid_area": null,
            "grid_template_columns": null,
            "flex": null,
            "_model_name": "LayoutModel",
            "justify_items": null,
            "grid_row": null,
            "max_height": null,
            "align_content": null,
            "visibility": null,
            "align_self": null,
            "height": null,
            "min_height": null,
            "padding": null,
            "grid_auto_rows": null,
            "grid_gap": null,
            "max_width": null,
            "order": null,
            "_view_module_version": "1.2.0",
            "grid_template_areas": null,
            "object_position": null,
            "object_fit": null,
            "grid_auto_columns": null,
            "margin": null,
            "display": null,
            "left": null
          },
          "model_module_version": "1.2.0"
        },
        "995d8a2849c34545bd1f498a4b9cd3b7": {
          "model_module": "@jupyter-widgets/controls",
          "model_name": "HBoxModel",
          "state": {
            "_view_name": "HBoxView",
            "_dom_classes": [],
            "_model_name": "HBoxModel",
            "_view_module": "@jupyter-widgets/controls",
            "_model_module_version": "1.5.0",
            "_view_count": null,
            "_view_module_version": "1.5.0",
            "box_style": "",
            "layout": "IPY_MODEL_c122945cb62e44168c1d308d91cd5045",
            "_model_module": "@jupyter-widgets/controls",
            "children": [
              "IPY_MODEL_5b8fcc9351674110a471af3cc41984ff",
              "IPY_MODEL_1640827081c64715bd1fbb312fcb4e61"
            ]
          },
          "model_module_version": "1.5.0"
        },
        "c122945cb62e44168c1d308d91cd5045": {
          "model_module": "@jupyter-widgets/base",
          "model_name": "LayoutModel",
          "state": {
            "_view_name": "LayoutView",
            "grid_template_rows": null,
            "right": null,
            "justify_content": null,
            "_view_module": "@jupyter-widgets/base",
            "overflow": null,
            "_model_module_version": "1.2.0",
            "_view_count": null,
            "flex_flow": null,
            "width": null,
            "min_width": null,
            "border": null,
            "align_items": null,
            "bottom": null,
            "_model_module": "@jupyter-widgets/base",
            "top": null,
            "grid_column": null,
            "overflow_y": null,
            "overflow_x": null,
            "grid_auto_flow": null,
            "grid_area": null,
            "grid_template_columns": null,
            "flex": null,
            "_model_name": "LayoutModel",
            "justify_items": null,
            "grid_row": null,
            "max_height": null,
            "align_content": null,
            "visibility": null,
            "align_self": null,
            "height": null,
            "min_height": null,
            "padding": null,
            "grid_auto_rows": null,
            "grid_gap": null,
            "max_width": null,
            "order": null,
            "_view_module_version": "1.2.0",
            "grid_template_areas": null,
            "object_position": null,
            "object_fit": null,
            "grid_auto_columns": null,
            "margin": null,
            "display": null,
            "left": null
          },
          "model_module_version": "1.2.0"
        },
        "5b8fcc9351674110a471af3cc41984ff": {
          "model_module": "@jupyter-widgets/controls",
          "model_name": "FloatProgressModel",
          "state": {
            "_view_name": "ProgressView",
            "style": "IPY_MODEL_c61a00f22be8437bae3185e484246141",
            "_dom_classes": [],
            "description": "Downloading: 100%",
            "_model_name": "FloatProgressModel",
            "bar_style": "success",
            "max": 122,
            "_view_module": "@jupyter-widgets/controls",
            "_model_module_version": "1.5.0",
            "value": 122,
            "_view_count": null,
            "_view_module_version": "1.5.0",
            "orientation": "horizontal",
            "min": 0,
            "description_tooltip": null,
            "_model_module": "@jupyter-widgets/controls",
            "layout": "IPY_MODEL_a76e243dcf1340cfbff5c271fafff297"
          },
          "model_module_version": "1.5.0"
        },
        "1640827081c64715bd1fbb312fcb4e61": {
          "model_module": "@jupyter-widgets/controls",
          "model_name": "HTMLModel",
          "state": {
            "_view_name": "HTMLView",
            "style": "IPY_MODEL_0d53723ed12341e2a5377166316b813f",
            "_dom_classes": [],
            "description": "",
            "_model_name": "HTMLModel",
            "placeholder": "​",
            "_view_module": "@jupyter-widgets/controls",
            "_model_module_version": "1.5.0",
            "value": " 122/122 [00:00&lt;00:00, 129B/s]",
            "_view_count": null,
            "_view_module_version": "1.5.0",
            "description_tooltip": null,
            "_model_module": "@jupyter-widgets/controls",
            "layout": "IPY_MODEL_4ccbfbdf64d0407692f6588af9edf5ff"
          },
          "model_module_version": "1.5.0"
        },
        "c61a00f22be8437bae3185e484246141": {
          "model_module": "@jupyter-widgets/controls",
          "model_name": "ProgressStyleModel",
          "state": {
            "_view_name": "StyleView",
            "_model_name": "ProgressStyleModel",
            "description_width": "initial",
            "_view_module": "@jupyter-widgets/base",
            "_model_module_version": "1.5.0",
            "_view_count": null,
            "_view_module_version": "1.2.0",
            "bar_color": null,
            "_model_module": "@jupyter-widgets/controls"
          },
          "model_module_version": "1.5.0"
        },
        "a76e243dcf1340cfbff5c271fafff297": {
          "model_module": "@jupyter-widgets/base",
          "model_name": "LayoutModel",
          "state": {
            "_view_name": "LayoutView",
            "grid_template_rows": null,
            "right": null,
            "justify_content": null,
            "_view_module": "@jupyter-widgets/base",
            "overflow": null,
            "_model_module_version": "1.2.0",
            "_view_count": null,
            "flex_flow": null,
            "width": null,
            "min_width": null,
            "border": null,
            "align_items": null,
            "bottom": null,
            "_model_module": "@jupyter-widgets/base",
            "top": null,
            "grid_column": null,
            "overflow_y": null,
            "overflow_x": null,
            "grid_auto_flow": null,
            "grid_area": null,
            "grid_template_columns": null,
            "flex": null,
            "_model_name": "LayoutModel",
            "justify_items": null,
            "grid_row": null,
            "max_height": null,
            "align_content": null,
            "visibility": null,
            "align_self": null,
            "height": null,
            "min_height": null,
            "padding": null,
            "grid_auto_rows": null,
            "grid_gap": null,
            "max_width": null,
            "order": null,
            "_view_module_version": "1.2.0",
            "grid_template_areas": null,
            "object_position": null,
            "object_fit": null,
            "grid_auto_columns": null,
            "margin": null,
            "display": null,
            "left": null
          },
          "model_module_version": "1.2.0"
        },
        "0d53723ed12341e2a5377166316b813f": {
          "model_module": "@jupyter-widgets/controls",
          "model_name": "DescriptionStyleModel",
          "state": {
            "_view_name": "StyleView",
            "_model_name": "DescriptionStyleModel",
            "description_width": "",
            "_view_module": "@jupyter-widgets/base",
            "_model_module_version": "1.5.0",
            "_view_count": null,
            "_view_module_version": "1.2.0",
            "_model_module": "@jupyter-widgets/controls"
          },
          "model_module_version": "1.5.0"
        },
        "4ccbfbdf64d0407692f6588af9edf5ff": {
          "model_module": "@jupyter-widgets/base",
          "model_name": "LayoutModel",
          "state": {
            "_view_name": "LayoutView",
            "grid_template_rows": null,
            "right": null,
            "justify_content": null,
            "_view_module": "@jupyter-widgets/base",
            "overflow": null,
            "_model_module_version": "1.2.0",
            "_view_count": null,
            "flex_flow": null,
            "width": null,
            "min_width": null,
            "border": null,
            "align_items": null,
            "bottom": null,
            "_model_module": "@jupyter-widgets/base",
            "top": null,
            "grid_column": null,
            "overflow_y": null,
            "overflow_x": null,
            "grid_auto_flow": null,
            "grid_area": null,
            "grid_template_columns": null,
            "flex": null,
            "_model_name": "LayoutModel",
            "justify_items": null,
            "grid_row": null,
            "max_height": null,
            "align_content": null,
            "visibility": null,
            "align_self": null,
            "height": null,
            "min_height": null,
            "padding": null,
            "grid_auto_rows": null,
            "grid_gap": null,
            "max_width": null,
            "order": null,
            "_view_module_version": "1.2.0",
            "grid_template_areas": null,
            "object_position": null,
            "object_fit": null,
            "grid_auto_columns": null,
            "margin": null,
            "display": null,
            "left": null
          },
          "model_module_version": "1.2.0"
        },
        "8e76503473e04f4d886a383f6deb3f1e": {
          "model_module": "@jupyter-widgets/controls",
          "model_name": "HBoxModel",
          "state": {
            "_view_name": "HBoxView",
            "_dom_classes": [],
            "_model_name": "HBoxModel",
            "_view_module": "@jupyter-widgets/controls",
            "_model_module_version": "1.5.0",
            "_view_count": null,
            "_view_module_version": "1.5.0",
            "box_style": "",
            "layout": "IPY_MODEL_0b2914ba924d4cfb91103f9782e82240",
            "_model_module": "@jupyter-widgets/controls",
            "children": [
              "IPY_MODEL_930b95addc054b09b07bcab634a51f85",
              "IPY_MODEL_98949f12a4d84e82a735078035d717a2"
            ]
          },
          "model_module_version": "1.5.0"
        },
        "0b2914ba924d4cfb91103f9782e82240": {
          "model_module": "@jupyter-widgets/base",
          "model_name": "LayoutModel",
          "state": {
            "_view_name": "LayoutView",
            "grid_template_rows": null,
            "right": null,
            "justify_content": null,
            "_view_module": "@jupyter-widgets/base",
            "overflow": null,
            "_model_module_version": "1.2.0",
            "_view_count": null,
            "flex_flow": null,
            "width": null,
            "min_width": null,
            "border": null,
            "align_items": null,
            "bottom": null,
            "_model_module": "@jupyter-widgets/base",
            "top": null,
            "grid_column": null,
            "overflow_y": null,
            "overflow_x": null,
            "grid_auto_flow": null,
            "grid_area": null,
            "grid_template_columns": null,
            "flex": null,
            "_model_name": "LayoutModel",
            "justify_items": null,
            "grid_row": null,
            "max_height": null,
            "align_content": null,
            "visibility": null,
            "align_self": null,
            "height": null,
            "min_height": null,
            "padding": null,
            "grid_auto_rows": null,
            "grid_gap": null,
            "max_width": null,
            "order": null,
            "_view_module_version": "1.2.0",
            "grid_template_areas": null,
            "object_position": null,
            "object_fit": null,
            "grid_auto_columns": null,
            "margin": null,
            "display": null,
            "left": null
          },
          "model_module_version": "1.2.0"
        },
        "930b95addc054b09b07bcab634a51f85": {
          "model_module": "@jupyter-widgets/controls",
          "model_name": "FloatProgressModel",
          "state": {
            "_view_name": "ProgressView",
            "style": "IPY_MODEL_4f3720116a4f4e70b6e95ca97ba141dd",
            "_dom_classes": [],
            "description": "Downloading: 100%",
            "_model_name": "FloatProgressModel",
            "bar_style": "success",
            "max": 229,
            "_view_module": "@jupyter-widgets/controls",
            "_model_module_version": "1.5.0",
            "value": 229,
            "_view_count": null,
            "_view_module_version": "1.5.0",
            "orientation": "horizontal",
            "min": 0,
            "description_tooltip": null,
            "_model_module": "@jupyter-widgets/controls",
            "layout": "IPY_MODEL_21b236bd294b435da3cadc15be99f5d0"
          },
          "model_module_version": "1.5.0"
        },
        "98949f12a4d84e82a735078035d717a2": {
          "model_module": "@jupyter-widgets/controls",
          "model_name": "HTMLModel",
          "state": {
            "_view_name": "HTMLView",
            "style": "IPY_MODEL_f5fbd2048e49422192304c54804b7fbb",
            "_dom_classes": [],
            "description": "",
            "_model_name": "HTMLModel",
            "placeholder": "​",
            "_view_module": "@jupyter-widgets/controls",
            "_model_module_version": "1.5.0",
            "value": " 229/229 [00:00&lt;00:00, 434B/s]",
            "_view_count": null,
            "_view_module_version": "1.5.0",
            "description_tooltip": null,
            "_model_module": "@jupyter-widgets/controls",
            "layout": "IPY_MODEL_a9e331869a63430ebfe731b7ad147915"
          },
          "model_module_version": "1.5.0"
        },
        "4f3720116a4f4e70b6e95ca97ba141dd": {
          "model_module": "@jupyter-widgets/controls",
          "model_name": "ProgressStyleModel",
          "state": {
            "_view_name": "StyleView",
            "_model_name": "ProgressStyleModel",
            "description_width": "initial",
            "_view_module": "@jupyter-widgets/base",
            "_model_module_version": "1.5.0",
            "_view_count": null,
            "_view_module_version": "1.2.0",
            "bar_color": null,
            "_model_module": "@jupyter-widgets/controls"
          },
          "model_module_version": "1.5.0"
        },
        "21b236bd294b435da3cadc15be99f5d0": {
          "model_module": "@jupyter-widgets/base",
          "model_name": "LayoutModel",
          "state": {
            "_view_name": "LayoutView",
            "grid_template_rows": null,
            "right": null,
            "justify_content": null,
            "_view_module": "@jupyter-widgets/base",
            "overflow": null,
            "_model_module_version": "1.2.0",
            "_view_count": null,
            "flex_flow": null,
            "width": null,
            "min_width": null,
            "border": null,
            "align_items": null,
            "bottom": null,
            "_model_module": "@jupyter-widgets/base",
            "top": null,
            "grid_column": null,
            "overflow_y": null,
            "overflow_x": null,
            "grid_auto_flow": null,
            "grid_area": null,
            "grid_template_columns": null,
            "flex": null,
            "_model_name": "LayoutModel",
            "justify_items": null,
            "grid_row": null,
            "max_height": null,
            "align_content": null,
            "visibility": null,
            "align_self": null,
            "height": null,
            "min_height": null,
            "padding": null,
            "grid_auto_rows": null,
            "grid_gap": null,
            "max_width": null,
            "order": null,
            "_view_module_version": "1.2.0",
            "grid_template_areas": null,
            "object_position": null,
            "object_fit": null,
            "grid_auto_columns": null,
            "margin": null,
            "display": null,
            "left": null
          },
          "model_module_version": "1.2.0"
        },
        "f5fbd2048e49422192304c54804b7fbb": {
          "model_module": "@jupyter-widgets/controls",
          "model_name": "DescriptionStyleModel",
          "state": {
            "_view_name": "StyleView",
            "_model_name": "DescriptionStyleModel",
            "description_width": "",
            "_view_module": "@jupyter-widgets/base",
            "_model_module_version": "1.5.0",
            "_view_count": null,
            "_view_module_version": "1.2.0",
            "_model_module": "@jupyter-widgets/controls"
          },
          "model_module_version": "1.5.0"
        },
        "a9e331869a63430ebfe731b7ad147915": {
          "model_module": "@jupyter-widgets/base",
          "model_name": "LayoutModel",
          "state": {
            "_view_name": "LayoutView",
            "grid_template_rows": null,
            "right": null,
            "justify_content": null,
            "_view_module": "@jupyter-widgets/base",
            "overflow": null,
            "_model_module_version": "1.2.0",
            "_view_count": null,
            "flex_flow": null,
            "width": null,
            "min_width": null,
            "border": null,
            "align_items": null,
            "bottom": null,
            "_model_module": "@jupyter-widgets/base",
            "top": null,
            "grid_column": null,
            "overflow_y": null,
            "overflow_x": null,
            "grid_auto_flow": null,
            "grid_area": null,
            "grid_template_columns": null,
            "flex": null,
            "_model_name": "LayoutModel",
            "justify_items": null,
            "grid_row": null,
            "max_height": null,
            "align_content": null,
            "visibility": null,
            "align_self": null,
            "height": null,
            "min_height": null,
            "padding": null,
            "grid_auto_rows": null,
            "grid_gap": null,
            "max_width": null,
            "order": null,
            "_view_module_version": "1.2.0",
            "grid_template_areas": null,
            "object_position": null,
            "object_fit": null,
            "grid_auto_columns": null,
            "margin": null,
            "display": null,
            "left": null
          },
          "model_module_version": "1.2.0"
        },
        "df67c48e99b4442e969641bb441b2c2b": {
          "model_module": "@jupyter-widgets/controls",
          "model_name": "HBoxModel",
          "state": {
            "_view_name": "HBoxView",
            "_dom_classes": [],
            "_model_name": "HBoxModel",
            "_view_module": "@jupyter-widgets/controls",
            "_model_module_version": "1.5.0",
            "_view_count": null,
            "_view_module_version": "1.5.0",
            "box_style": "",
            "layout": "IPY_MODEL_d6adb9cd63db4820b01e08cd0762805a",
            "_model_module": "@jupyter-widgets/controls",
            "children": [
              "IPY_MODEL_9e08e44725094838801d7b8d83cb3064",
              "IPY_MODEL_e66604b605a746fa8c1ef129c64d09af"
            ]
          },
          "model_module_version": "1.5.0"
        },
        "d6adb9cd63db4820b01e08cd0762805a": {
          "model_module": "@jupyter-widgets/base",
          "model_name": "LayoutModel",
          "state": {
            "_view_name": "LayoutView",
            "grid_template_rows": null,
            "right": null,
            "justify_content": null,
            "_view_module": "@jupyter-widgets/base",
            "overflow": null,
            "_model_module_version": "1.2.0",
            "_view_count": null,
            "flex_flow": null,
            "width": null,
            "min_width": null,
            "border": null,
            "align_items": null,
            "bottom": null,
            "_model_module": "@jupyter-widgets/base",
            "top": null,
            "grid_column": null,
            "overflow_y": null,
            "overflow_x": null,
            "grid_auto_flow": null,
            "grid_area": null,
            "grid_template_columns": null,
            "flex": null,
            "_model_name": "LayoutModel",
            "justify_items": null,
            "grid_row": null,
            "max_height": null,
            "align_content": null,
            "visibility": null,
            "align_self": null,
            "height": null,
            "min_height": null,
            "padding": null,
            "grid_auto_rows": null,
            "grid_gap": null,
            "max_width": null,
            "order": null,
            "_view_module_version": "1.2.0",
            "grid_template_areas": null,
            "object_position": null,
            "object_fit": null,
            "grid_auto_columns": null,
            "margin": null,
            "display": null,
            "left": null
          },
          "model_module_version": "1.2.0"
        },
        "9e08e44725094838801d7b8d83cb3064": {
          "model_module": "@jupyter-widgets/controls",
          "model_name": "FloatProgressModel",
          "state": {
            "_view_name": "ProgressView",
            "style": "IPY_MODEL_fd6bc5f2a163489b856f1c59199b67c0",
            "_dom_classes": [],
            "description": "Downloading: 100%",
            "_model_name": "FloatProgressModel",
            "bar_style": "success",
            "max": 438007537,
            "_view_module": "@jupyter-widgets/controls",
            "_model_module_version": "1.5.0",
            "value": 438007537,
            "_view_count": null,
            "_view_module_version": "1.5.0",
            "orientation": "horizontal",
            "min": 0,
            "description_tooltip": null,
            "_model_module": "@jupyter-widgets/controls",
            "layout": "IPY_MODEL_ca1c862ecc0d456a97dc332dc61cb0b7"
          },
          "model_module_version": "1.5.0"
        },
        "e66604b605a746fa8c1ef129c64d09af": {
          "model_module": "@jupyter-widgets/controls",
          "model_name": "HTMLModel",
          "state": {
            "_view_name": "HTMLView",
            "style": "IPY_MODEL_259907d8ce2140fbadb1d0e6a3747122",
            "_dom_classes": [],
            "description": "",
            "_model_name": "HTMLModel",
            "placeholder": "​",
            "_view_module": "@jupyter-widgets/controls",
            "_model_module_version": "1.5.0",
            "value": " 438M/438M [03:10&lt;00:00, 2.30MB/s]",
            "_view_count": null,
            "_view_module_version": "1.5.0",
            "description_tooltip": null,
            "_model_module": "@jupyter-widgets/controls",
            "layout": "IPY_MODEL_ae0d1b2905974b8193f9fad044e06030"
          },
          "model_module_version": "1.5.0"
        },
        "fd6bc5f2a163489b856f1c59199b67c0": {
          "model_module": "@jupyter-widgets/controls",
          "model_name": "ProgressStyleModel",
          "state": {
            "_view_name": "StyleView",
            "_model_name": "ProgressStyleModel",
            "description_width": "initial",
            "_view_module": "@jupyter-widgets/base",
            "_model_module_version": "1.5.0",
            "_view_count": null,
            "_view_module_version": "1.2.0",
            "bar_color": null,
            "_model_module": "@jupyter-widgets/controls"
          },
          "model_module_version": "1.5.0"
        },
        "ca1c862ecc0d456a97dc332dc61cb0b7": {
          "model_module": "@jupyter-widgets/base",
          "model_name": "LayoutModel",
          "state": {
            "_view_name": "LayoutView",
            "grid_template_rows": null,
            "right": null,
            "justify_content": null,
            "_view_module": "@jupyter-widgets/base",
            "overflow": null,
            "_model_module_version": "1.2.0",
            "_view_count": null,
            "flex_flow": null,
            "width": null,
            "min_width": null,
            "border": null,
            "align_items": null,
            "bottom": null,
            "_model_module": "@jupyter-widgets/base",
            "top": null,
            "grid_column": null,
            "overflow_y": null,
            "overflow_x": null,
            "grid_auto_flow": null,
            "grid_area": null,
            "grid_template_columns": null,
            "flex": null,
            "_model_name": "LayoutModel",
            "justify_items": null,
            "grid_row": null,
            "max_height": null,
            "align_content": null,
            "visibility": null,
            "align_self": null,
            "height": null,
            "min_height": null,
            "padding": null,
            "grid_auto_rows": null,
            "grid_gap": null,
            "max_width": null,
            "order": null,
            "_view_module_version": "1.2.0",
            "grid_template_areas": null,
            "object_position": null,
            "object_fit": null,
            "grid_auto_columns": null,
            "margin": null,
            "display": null,
            "left": null
          },
          "model_module_version": "1.2.0"
        },
        "259907d8ce2140fbadb1d0e6a3747122": {
          "model_module": "@jupyter-widgets/controls",
          "model_name": "DescriptionStyleModel",
          "state": {
            "_view_name": "StyleView",
            "_model_name": "DescriptionStyleModel",
            "description_width": "",
            "_view_module": "@jupyter-widgets/base",
            "_model_module_version": "1.5.0",
            "_view_count": null,
            "_view_module_version": "1.2.0",
            "_model_module": "@jupyter-widgets/controls"
          },
          "model_module_version": "1.5.0"
        },
        "ae0d1b2905974b8193f9fad044e06030": {
          "model_module": "@jupyter-widgets/base",
          "model_name": "LayoutModel",
          "state": {
            "_view_name": "LayoutView",
            "grid_template_rows": null,
            "right": null,
            "justify_content": null,
            "_view_module": "@jupyter-widgets/base",
            "overflow": null,
            "_model_module_version": "1.2.0",
            "_view_count": null,
            "flex_flow": null,
            "width": null,
            "min_width": null,
            "border": null,
            "align_items": null,
            "bottom": null,
            "_model_module": "@jupyter-widgets/base",
            "top": null,
            "grid_column": null,
            "overflow_y": null,
            "overflow_x": null,
            "grid_auto_flow": null,
            "grid_area": null,
            "grid_template_columns": null,
            "flex": null,
            "_model_name": "LayoutModel",
            "justify_items": null,
            "grid_row": null,
            "max_height": null,
            "align_content": null,
            "visibility": null,
            "align_self": null,
            "height": null,
            "min_height": null,
            "padding": null,
            "grid_auto_rows": null,
            "grid_gap": null,
            "max_width": null,
            "order": null,
            "_view_module_version": "1.2.0",
            "grid_template_areas": null,
            "object_position": null,
            "object_fit": null,
            "grid_auto_columns": null,
            "margin": null,
            "display": null,
            "left": null
          },
          "model_module_version": "1.2.0"
        },
        "4e08766b39384520a973bbc2ddb626c1": {
          "model_module": "@jupyter-widgets/controls",
          "model_name": "HBoxModel",
          "state": {
            "_view_name": "HBoxView",
            "_dom_classes": [],
            "_model_name": "HBoxModel",
            "_view_module": "@jupyter-widgets/controls",
            "_model_module_version": "1.5.0",
            "_view_count": null,
            "_view_module_version": "1.5.0",
            "box_style": "",
            "layout": "IPY_MODEL_f4f1d1f62eba40aabe4f3d2d900aef9d",
            "_model_module": "@jupyter-widgets/controls",
            "children": [
              "IPY_MODEL_273d15856a4b498e9e1bc6a718051bda",
              "IPY_MODEL_96ab0ed2c249496587fca5782465ce5a"
            ]
          },
          "model_module_version": "1.5.0"
        },
        "f4f1d1f62eba40aabe4f3d2d900aef9d": {
          "model_module": "@jupyter-widgets/base",
          "model_name": "LayoutModel",
          "state": {
            "_view_name": "LayoutView",
            "grid_template_rows": null,
            "right": null,
            "justify_content": null,
            "_view_module": "@jupyter-widgets/base",
            "overflow": null,
            "_model_module_version": "1.2.0",
            "_view_count": null,
            "flex_flow": null,
            "width": null,
            "min_width": null,
            "border": null,
            "align_items": null,
            "bottom": null,
            "_model_module": "@jupyter-widgets/base",
            "top": null,
            "grid_column": null,
            "overflow_y": null,
            "overflow_x": null,
            "grid_auto_flow": null,
            "grid_area": null,
            "grid_template_columns": null,
            "flex": null,
            "_model_name": "LayoutModel",
            "justify_items": null,
            "grid_row": null,
            "max_height": null,
            "align_content": null,
            "visibility": null,
            "align_self": null,
            "height": null,
            "min_height": null,
            "padding": null,
            "grid_auto_rows": null,
            "grid_gap": null,
            "max_width": null,
            "order": null,
            "_view_module_version": "1.2.0",
            "grid_template_areas": null,
            "object_position": null,
            "object_fit": null,
            "grid_auto_columns": null,
            "margin": null,
            "display": null,
            "left": null
          },
          "model_module_version": "1.2.0"
        },
        "273d15856a4b498e9e1bc6a718051bda": {
          "model_module": "@jupyter-widgets/controls",
          "model_name": "FloatProgressModel",
          "state": {
            "_view_name": "ProgressView",
            "style": "IPY_MODEL_bc11a51f98334427925235fbeb11d4cd",
            "_dom_classes": [],
            "description": "Downloading: 100%",
            "_model_name": "FloatProgressModel",
            "bar_style": "success",
            "max": 53,
            "_view_module": "@jupyter-widgets/controls",
            "_model_module_version": "1.5.0",
            "value": 53,
            "_view_count": null,
            "_view_module_version": "1.5.0",
            "orientation": "horizontal",
            "min": 0,
            "description_tooltip": null,
            "_model_module": "@jupyter-widgets/controls",
            "layout": "IPY_MODEL_c8a7238022744e79931ab680dc66813d"
          },
          "model_module_version": "1.5.0"
        },
        "96ab0ed2c249496587fca5782465ce5a": {
          "model_module": "@jupyter-widgets/controls",
          "model_name": "HTMLModel",
          "state": {
            "_view_name": "HTMLView",
            "style": "IPY_MODEL_d2813784daeb4ca1ba2cdbee90180ac2",
            "_dom_classes": [],
            "description": "",
            "_model_name": "HTMLModel",
            "placeholder": "​",
            "_view_module": "@jupyter-widgets/controls",
            "_model_module_version": "1.5.0",
            "value": " 53.0/53.0 [00:00&lt;00:00, 66.0B/s]",
            "_view_count": null,
            "_view_module_version": "1.5.0",
            "description_tooltip": null,
            "_model_module": "@jupyter-widgets/controls",
            "layout": "IPY_MODEL_f2742487a2b944f48414bb4c4b53499f"
          },
          "model_module_version": "1.5.0"
        },
        "bc11a51f98334427925235fbeb11d4cd": {
          "model_module": "@jupyter-widgets/controls",
          "model_name": "ProgressStyleModel",
          "state": {
            "_view_name": "StyleView",
            "_model_name": "ProgressStyleModel",
            "description_width": "initial",
            "_view_module": "@jupyter-widgets/base",
            "_model_module_version": "1.5.0",
            "_view_count": null,
            "_view_module_version": "1.2.0",
            "bar_color": null,
            "_model_module": "@jupyter-widgets/controls"
          },
          "model_module_version": "1.5.0"
        },
        "c8a7238022744e79931ab680dc66813d": {
          "model_module": "@jupyter-widgets/base",
          "model_name": "LayoutModel",
          "state": {
            "_view_name": "LayoutView",
            "grid_template_rows": null,
            "right": null,
            "justify_content": null,
            "_view_module": "@jupyter-widgets/base",
            "overflow": null,
            "_model_module_version": "1.2.0",
            "_view_count": null,
            "flex_flow": null,
            "width": null,
            "min_width": null,
            "border": null,
            "align_items": null,
            "bottom": null,
            "_model_module": "@jupyter-widgets/base",
            "top": null,
            "grid_column": null,
            "overflow_y": null,
            "overflow_x": null,
            "grid_auto_flow": null,
            "grid_area": null,
            "grid_template_columns": null,
            "flex": null,
            "_model_name": "LayoutModel",
            "justify_items": null,
            "grid_row": null,
            "max_height": null,
            "align_content": null,
            "visibility": null,
            "align_self": null,
            "height": null,
            "min_height": null,
            "padding": null,
            "grid_auto_rows": null,
            "grid_gap": null,
            "max_width": null,
            "order": null,
            "_view_module_version": "1.2.0",
            "grid_template_areas": null,
            "object_position": null,
            "object_fit": null,
            "grid_auto_columns": null,
            "margin": null,
            "display": null,
            "left": null
          },
          "model_module_version": "1.2.0"
        },
        "d2813784daeb4ca1ba2cdbee90180ac2": {
          "model_module": "@jupyter-widgets/controls",
          "model_name": "DescriptionStyleModel",
          "state": {
            "_view_name": "StyleView",
            "_model_name": "DescriptionStyleModel",
            "description_width": "",
            "_view_module": "@jupyter-widgets/base",
            "_model_module_version": "1.5.0",
            "_view_count": null,
            "_view_module_version": "1.2.0",
            "_model_module": "@jupyter-widgets/controls"
          },
          "model_module_version": "1.5.0"
        },
        "f2742487a2b944f48414bb4c4b53499f": {
          "model_module": "@jupyter-widgets/base",
          "model_name": "LayoutModel",
          "state": {
            "_view_name": "LayoutView",
            "grid_template_rows": null,
            "right": null,
            "justify_content": null,
            "_view_module": "@jupyter-widgets/base",
            "overflow": null,
            "_model_module_version": "1.2.0",
            "_view_count": null,
            "flex_flow": null,
            "width": null,
            "min_width": null,
            "border": null,
            "align_items": null,
            "bottom": null,
            "_model_module": "@jupyter-widgets/base",
            "top": null,
            "grid_column": null,
            "overflow_y": null,
            "overflow_x": null,
            "grid_auto_flow": null,
            "grid_area": null,
            "grid_template_columns": null,
            "flex": null,
            "_model_name": "LayoutModel",
            "justify_items": null,
            "grid_row": null,
            "max_height": null,
            "align_content": null,
            "visibility": null,
            "align_self": null,
            "height": null,
            "min_height": null,
            "padding": null,
            "grid_auto_rows": null,
            "grid_gap": null,
            "max_width": null,
            "order": null,
            "_view_module_version": "1.2.0",
            "grid_template_areas": null,
            "object_position": null,
            "object_fit": null,
            "grid_auto_columns": null,
            "margin": null,
            "display": null,
            "left": null
          },
          "model_module_version": "1.2.0"
        },
        "974bf78af9ea405fa8a4aa1f15be489f": {
          "model_module": "@jupyter-widgets/controls",
          "model_name": "HBoxModel",
          "state": {
            "_view_name": "HBoxView",
            "_dom_classes": [],
            "_model_name": "HBoxModel",
            "_view_module": "@jupyter-widgets/controls",
            "_model_module_version": "1.5.0",
            "_view_count": null,
            "_view_module_version": "1.5.0",
            "box_style": "",
            "layout": "IPY_MODEL_f97e8ab977894de39e32d7f8ecc25db6",
            "_model_module": "@jupyter-widgets/controls",
            "children": [
              "IPY_MODEL_b56ba88073ff4962a043d0347dd66bb1",
              "IPY_MODEL_6cf78c23cd304d8aa5fc6d20073df026"
            ]
          },
          "model_module_version": "1.5.0"
        },
        "f97e8ab977894de39e32d7f8ecc25db6": {
          "model_module": "@jupyter-widgets/base",
          "model_name": "LayoutModel",
          "state": {
            "_view_name": "LayoutView",
            "grid_template_rows": null,
            "right": null,
            "justify_content": null,
            "_view_module": "@jupyter-widgets/base",
            "overflow": null,
            "_model_module_version": "1.2.0",
            "_view_count": null,
            "flex_flow": null,
            "width": null,
            "min_width": null,
            "border": null,
            "align_items": null,
            "bottom": null,
            "_model_module": "@jupyter-widgets/base",
            "top": null,
            "grid_column": null,
            "overflow_y": null,
            "overflow_x": null,
            "grid_auto_flow": null,
            "grid_area": null,
            "grid_template_columns": null,
            "flex": null,
            "_model_name": "LayoutModel",
            "justify_items": null,
            "grid_row": null,
            "max_height": null,
            "align_content": null,
            "visibility": null,
            "align_self": null,
            "height": null,
            "min_height": null,
            "padding": null,
            "grid_auto_rows": null,
            "grid_gap": null,
            "max_width": null,
            "order": null,
            "_view_module_version": "1.2.0",
            "grid_template_areas": null,
            "object_position": null,
            "object_fit": null,
            "grid_auto_columns": null,
            "margin": null,
            "display": null,
            "left": null
          },
          "model_module_version": "1.2.0"
        },
        "b56ba88073ff4962a043d0347dd66bb1": {
          "model_module": "@jupyter-widgets/controls",
          "model_name": "FloatProgressModel",
          "state": {
            "_view_name": "ProgressView",
            "style": "IPY_MODEL_f33634f4accd467cbf97af8765042692",
            "_dom_classes": [],
            "description": "Downloading: 100%",
            "_model_name": "FloatProgressModel",
            "bar_style": "success",
            "max": 112,
            "_view_module": "@jupyter-widgets/controls",
            "_model_module_version": "1.5.0",
            "value": 112,
            "_view_count": null,
            "_view_module_version": "1.5.0",
            "orientation": "horizontal",
            "min": 0,
            "description_tooltip": null,
            "_model_module": "@jupyter-widgets/controls",
            "layout": "IPY_MODEL_30b69ea41dbd4720928adef8eb6aa6f2"
          },
          "model_module_version": "1.5.0"
        },
        "6cf78c23cd304d8aa5fc6d20073df026": {
          "model_module": "@jupyter-widgets/controls",
          "model_name": "HTMLModel",
          "state": {
            "_view_name": "HTMLView",
            "style": "IPY_MODEL_329b5fea3503461eac17395dbee86401",
            "_dom_classes": [],
            "description": "",
            "_model_name": "HTMLModel",
            "placeholder": "​",
            "_view_module": "@jupyter-widgets/controls",
            "_model_module_version": "1.5.0",
            "value": " 112/112 [00:00&lt;00:00, 269B/s]",
            "_view_count": null,
            "_view_module_version": "1.5.0",
            "description_tooltip": null,
            "_model_module": "@jupyter-widgets/controls",
            "layout": "IPY_MODEL_306a8059bfce4c50b157cdc70de52394"
          },
          "model_module_version": "1.5.0"
        },
        "f33634f4accd467cbf97af8765042692": {
          "model_module": "@jupyter-widgets/controls",
          "model_name": "ProgressStyleModel",
          "state": {
            "_view_name": "StyleView",
            "_model_name": "ProgressStyleModel",
            "description_width": "initial",
            "_view_module": "@jupyter-widgets/base",
            "_model_module_version": "1.5.0",
            "_view_count": null,
            "_view_module_version": "1.2.0",
            "bar_color": null,
            "_model_module": "@jupyter-widgets/controls"
          },
          "model_module_version": "1.5.0"
        },
        "30b69ea41dbd4720928adef8eb6aa6f2": {
          "model_module": "@jupyter-widgets/base",
          "model_name": "LayoutModel",
          "state": {
            "_view_name": "LayoutView",
            "grid_template_rows": null,
            "right": null,
            "justify_content": null,
            "_view_module": "@jupyter-widgets/base",
            "overflow": null,
            "_model_module_version": "1.2.0",
            "_view_count": null,
            "flex_flow": null,
            "width": null,
            "min_width": null,
            "border": null,
            "align_items": null,
            "bottom": null,
            "_model_module": "@jupyter-widgets/base",
            "top": null,
            "grid_column": null,
            "overflow_y": null,
            "overflow_x": null,
            "grid_auto_flow": null,
            "grid_area": null,
            "grid_template_columns": null,
            "flex": null,
            "_model_name": "LayoutModel",
            "justify_items": null,
            "grid_row": null,
            "max_height": null,
            "align_content": null,
            "visibility": null,
            "align_self": null,
            "height": null,
            "min_height": null,
            "padding": null,
            "grid_auto_rows": null,
            "grid_gap": null,
            "max_width": null,
            "order": null,
            "_view_module_version": "1.2.0",
            "grid_template_areas": null,
            "object_position": null,
            "object_fit": null,
            "grid_auto_columns": null,
            "margin": null,
            "display": null,
            "left": null
          },
          "model_module_version": "1.2.0"
        },
        "329b5fea3503461eac17395dbee86401": {
          "model_module": "@jupyter-widgets/controls",
          "model_name": "DescriptionStyleModel",
          "state": {
            "_view_name": "StyleView",
            "_model_name": "DescriptionStyleModel",
            "description_width": "",
            "_view_module": "@jupyter-widgets/base",
            "_model_module_version": "1.5.0",
            "_view_count": null,
            "_view_module_version": "1.2.0",
            "_model_module": "@jupyter-widgets/controls"
          },
          "model_module_version": "1.5.0"
        },
        "306a8059bfce4c50b157cdc70de52394": {
          "model_module": "@jupyter-widgets/base",
          "model_name": "LayoutModel",
          "state": {
            "_view_name": "LayoutView",
            "grid_template_rows": null,
            "right": null,
            "justify_content": null,
            "_view_module": "@jupyter-widgets/base",
            "overflow": null,
            "_model_module_version": "1.2.0",
            "_view_count": null,
            "flex_flow": null,
            "width": null,
            "min_width": null,
            "border": null,
            "align_items": null,
            "bottom": null,
            "_model_module": "@jupyter-widgets/base",
            "top": null,
            "grid_column": null,
            "overflow_y": null,
            "overflow_x": null,
            "grid_auto_flow": null,
            "grid_area": null,
            "grid_template_columns": null,
            "flex": null,
            "_model_name": "LayoutModel",
            "justify_items": null,
            "grid_row": null,
            "max_height": null,
            "align_content": null,
            "visibility": null,
            "align_self": null,
            "height": null,
            "min_height": null,
            "padding": null,
            "grid_auto_rows": null,
            "grid_gap": null,
            "max_width": null,
            "order": null,
            "_view_module_version": "1.2.0",
            "grid_template_areas": null,
            "object_position": null,
            "object_fit": null,
            "grid_auto_columns": null,
            "margin": null,
            "display": null,
            "left": null
          },
          "model_module_version": "1.2.0"
        },
        "8b2c374da2ed4e39a6740ce9e08a26eb": {
          "model_module": "@jupyter-widgets/controls",
          "model_name": "HBoxModel",
          "state": {
            "_view_name": "HBoxView",
            "_dom_classes": [],
            "_model_name": "HBoxModel",
            "_view_module": "@jupyter-widgets/controls",
            "_model_module_version": "1.5.0",
            "_view_count": null,
            "_view_module_version": "1.5.0",
            "box_style": "",
            "layout": "IPY_MODEL_a9a6a5e875ae47e8addb4cc0bd0b7b7b",
            "_model_module": "@jupyter-widgets/controls",
            "children": [
              "IPY_MODEL_11fc6d7a012a4f209b17c36ed3815506",
              "IPY_MODEL_03fec04e9ce64c19853d497c47067ece"
            ]
          },
          "model_module_version": "1.5.0"
        },
        "a9a6a5e875ae47e8addb4cc0bd0b7b7b": {
          "model_module": "@jupyter-widgets/base",
          "model_name": "LayoutModel",
          "state": {
            "_view_name": "LayoutView",
            "grid_template_rows": null,
            "right": null,
            "justify_content": null,
            "_view_module": "@jupyter-widgets/base",
            "overflow": null,
            "_model_module_version": "1.2.0",
            "_view_count": null,
            "flex_flow": null,
            "width": null,
            "min_width": null,
            "border": null,
            "align_items": null,
            "bottom": null,
            "_model_module": "@jupyter-widgets/base",
            "top": null,
            "grid_column": null,
            "overflow_y": null,
            "overflow_x": null,
            "grid_auto_flow": null,
            "grid_area": null,
            "grid_template_columns": null,
            "flex": null,
            "_model_name": "LayoutModel",
            "justify_items": null,
            "grid_row": null,
            "max_height": null,
            "align_content": null,
            "visibility": null,
            "align_self": null,
            "height": null,
            "min_height": null,
            "padding": null,
            "grid_auto_rows": null,
            "grid_gap": null,
            "max_width": null,
            "order": null,
            "_view_module_version": "1.2.0",
            "grid_template_areas": null,
            "object_position": null,
            "object_fit": null,
            "grid_auto_columns": null,
            "margin": null,
            "display": null,
            "left": null
          },
          "model_module_version": "1.2.0"
        },
        "11fc6d7a012a4f209b17c36ed3815506": {
          "model_module": "@jupyter-widgets/controls",
          "model_name": "FloatProgressModel",
          "state": {
            "_view_name": "ProgressView",
            "style": "IPY_MODEL_ebaff028dc5b40eaa5e44d86f26a4ba7",
            "_dom_classes": [],
            "description": "Downloading: 100%",
            "_model_name": "FloatProgressModel",
            "bar_style": "success",
            "max": 466081,
            "_view_module": "@jupyter-widgets/controls",
            "_model_module_version": "1.5.0",
            "value": 466081,
            "_view_count": null,
            "_view_module_version": "1.5.0",
            "orientation": "horizontal",
            "min": 0,
            "description_tooltip": null,
            "_model_module": "@jupyter-widgets/controls",
            "layout": "IPY_MODEL_bd5d9604b33648fabdf2e271515efdf6"
          },
          "model_module_version": "1.5.0"
        },
        "03fec04e9ce64c19853d497c47067ece": {
          "model_module": "@jupyter-widgets/controls",
          "model_name": "HTMLModel",
          "state": {
            "_view_name": "HTMLView",
            "style": "IPY_MODEL_a82f1ad18f0643489eb81a3be02ed766",
            "_dom_classes": [],
            "description": "",
            "_model_name": "HTMLModel",
            "placeholder": "​",
            "_view_module": "@jupyter-widgets/controls",
            "_model_module_version": "1.5.0",
            "value": " 466k/466k [02:47&lt;00:00, 2.79kB/s]",
            "_view_count": null,
            "_view_module_version": "1.5.0",
            "description_tooltip": null,
            "_model_module": "@jupyter-widgets/controls",
            "layout": "IPY_MODEL_41119a1b4afd4cfa96a4571284bf2e0e"
          },
          "model_module_version": "1.5.0"
        },
        "ebaff028dc5b40eaa5e44d86f26a4ba7": {
          "model_module": "@jupyter-widgets/controls",
          "model_name": "ProgressStyleModel",
          "state": {
            "_view_name": "StyleView",
            "_model_name": "ProgressStyleModel",
            "description_width": "initial",
            "_view_module": "@jupyter-widgets/base",
            "_model_module_version": "1.5.0",
            "_view_count": null,
            "_view_module_version": "1.2.0",
            "bar_color": null,
            "_model_module": "@jupyter-widgets/controls"
          },
          "model_module_version": "1.5.0"
        },
        "bd5d9604b33648fabdf2e271515efdf6": {
          "model_module": "@jupyter-widgets/base",
          "model_name": "LayoutModel",
          "state": {
            "_view_name": "LayoutView",
            "grid_template_rows": null,
            "right": null,
            "justify_content": null,
            "_view_module": "@jupyter-widgets/base",
            "overflow": null,
            "_model_module_version": "1.2.0",
            "_view_count": null,
            "flex_flow": null,
            "width": null,
            "min_width": null,
            "border": null,
            "align_items": null,
            "bottom": null,
            "_model_module": "@jupyter-widgets/base",
            "top": null,
            "grid_column": null,
            "overflow_y": null,
            "overflow_x": null,
            "grid_auto_flow": null,
            "grid_area": null,
            "grid_template_columns": null,
            "flex": null,
            "_model_name": "LayoutModel",
            "justify_items": null,
            "grid_row": null,
            "max_height": null,
            "align_content": null,
            "visibility": null,
            "align_self": null,
            "height": null,
            "min_height": null,
            "padding": null,
            "grid_auto_rows": null,
            "grid_gap": null,
            "max_width": null,
            "order": null,
            "_view_module_version": "1.2.0",
            "grid_template_areas": null,
            "object_position": null,
            "object_fit": null,
            "grid_auto_columns": null,
            "margin": null,
            "display": null,
            "left": null
          },
          "model_module_version": "1.2.0"
        },
        "a82f1ad18f0643489eb81a3be02ed766": {
          "model_module": "@jupyter-widgets/controls",
          "model_name": "DescriptionStyleModel",
          "state": {
            "_view_name": "StyleView",
            "_model_name": "DescriptionStyleModel",
            "description_width": "",
            "_view_module": "@jupyter-widgets/base",
            "_model_module_version": "1.5.0",
            "_view_count": null,
            "_view_module_version": "1.2.0",
            "_model_module": "@jupyter-widgets/controls"
          },
          "model_module_version": "1.5.0"
        },
        "41119a1b4afd4cfa96a4571284bf2e0e": {
          "model_module": "@jupyter-widgets/base",
          "model_name": "LayoutModel",
          "state": {
            "_view_name": "LayoutView",
            "grid_template_rows": null,
            "right": null,
            "justify_content": null,
            "_view_module": "@jupyter-widgets/base",
            "overflow": null,
            "_model_module_version": "1.2.0",
            "_view_count": null,
            "flex_flow": null,
            "width": null,
            "min_width": null,
            "border": null,
            "align_items": null,
            "bottom": null,
            "_model_module": "@jupyter-widgets/base",
            "top": null,
            "grid_column": null,
            "overflow_y": null,
            "overflow_x": null,
            "grid_auto_flow": null,
            "grid_area": null,
            "grid_template_columns": null,
            "flex": null,
            "_model_name": "LayoutModel",
            "justify_items": null,
            "grid_row": null,
            "max_height": null,
            "align_content": null,
            "visibility": null,
            "align_self": null,
            "height": null,
            "min_height": null,
            "padding": null,
            "grid_auto_rows": null,
            "grid_gap": null,
            "max_width": null,
            "order": null,
            "_view_module_version": "1.2.0",
            "grid_template_areas": null,
            "object_position": null,
            "object_fit": null,
            "grid_auto_columns": null,
            "margin": null,
            "display": null,
            "left": null
          },
          "model_module_version": "1.2.0"
        },
        "e634f8dd7c6248d8affc42edcb348427": {
          "model_module": "@jupyter-widgets/controls",
          "model_name": "HBoxModel",
          "state": {
            "_view_name": "HBoxView",
            "_dom_classes": [],
            "_model_name": "HBoxModel",
            "_view_module": "@jupyter-widgets/controls",
            "_model_module_version": "1.5.0",
            "_view_count": null,
            "_view_module_version": "1.5.0",
            "box_style": "",
            "layout": "IPY_MODEL_9cb6332023454a60a287336398464610",
            "_model_module": "@jupyter-widgets/controls",
            "children": [
              "IPY_MODEL_04bc646fe7934d02a20c60ea7dacd125",
              "IPY_MODEL_78fd09307cc64a95b85bffbe28d659fd"
            ]
          },
          "model_module_version": "1.5.0"
        },
        "9cb6332023454a60a287336398464610": {
          "model_module": "@jupyter-widgets/base",
          "model_name": "LayoutModel",
          "state": {
            "_view_name": "LayoutView",
            "grid_template_rows": null,
            "right": null,
            "justify_content": null,
            "_view_module": "@jupyter-widgets/base",
            "overflow": null,
            "_model_module_version": "1.2.0",
            "_view_count": null,
            "flex_flow": null,
            "width": null,
            "min_width": null,
            "border": null,
            "align_items": null,
            "bottom": null,
            "_model_module": "@jupyter-widgets/base",
            "top": null,
            "grid_column": null,
            "overflow_y": null,
            "overflow_x": null,
            "grid_auto_flow": null,
            "grid_area": null,
            "grid_template_columns": null,
            "flex": null,
            "_model_name": "LayoutModel",
            "justify_items": null,
            "grid_row": null,
            "max_height": null,
            "align_content": null,
            "visibility": null,
            "align_self": null,
            "height": null,
            "min_height": null,
            "padding": null,
            "grid_auto_rows": null,
            "grid_gap": null,
            "max_width": null,
            "order": null,
            "_view_module_version": "1.2.0",
            "grid_template_areas": null,
            "object_position": null,
            "object_fit": null,
            "grid_auto_columns": null,
            "margin": null,
            "display": null,
            "left": null
          },
          "model_module_version": "1.2.0"
        },
        "04bc646fe7934d02a20c60ea7dacd125": {
          "model_module": "@jupyter-widgets/controls",
          "model_name": "FloatProgressModel",
          "state": {
            "_view_name": "ProgressView",
            "style": "IPY_MODEL_05ca52e058794a62816efa3ec745cb9e",
            "_dom_classes": [],
            "description": "Downloading: 100%",
            "_model_name": "FloatProgressModel",
            "bar_style": "success",
            "max": 399,
            "_view_module": "@jupyter-widgets/controls",
            "_model_module_version": "1.5.0",
            "value": 399,
            "_view_count": null,
            "_view_module_version": "1.5.0",
            "orientation": "horizontal",
            "min": 0,
            "description_tooltip": null,
            "_model_module": "@jupyter-widgets/controls",
            "layout": "IPY_MODEL_1c194cdd281d4e10a52ec80791612e1d"
          },
          "model_module_version": "1.5.0"
        },
        "78fd09307cc64a95b85bffbe28d659fd": {
          "model_module": "@jupyter-widgets/controls",
          "model_name": "HTMLModel",
          "state": {
            "_view_name": "HTMLView",
            "style": "IPY_MODEL_bc7ff156e748481bae8e8e4682879fc2",
            "_dom_classes": [],
            "description": "",
            "_model_name": "HTMLModel",
            "placeholder": "​",
            "_view_module": "@jupyter-widgets/controls",
            "_model_module_version": "1.5.0",
            "value": " 399/399 [00:00&lt;00:00, 487B/s]",
            "_view_count": null,
            "_view_module_version": "1.5.0",
            "description_tooltip": null,
            "_model_module": "@jupyter-widgets/controls",
            "layout": "IPY_MODEL_bcb668cd2fd9418185423ae927d55c13"
          },
          "model_module_version": "1.5.0"
        },
        "05ca52e058794a62816efa3ec745cb9e": {
          "model_module": "@jupyter-widgets/controls",
          "model_name": "ProgressStyleModel",
          "state": {
            "_view_name": "StyleView",
            "_model_name": "ProgressStyleModel",
            "description_width": "initial",
            "_view_module": "@jupyter-widgets/base",
            "_model_module_version": "1.5.0",
            "_view_count": null,
            "_view_module_version": "1.2.0",
            "bar_color": null,
            "_model_module": "@jupyter-widgets/controls"
          },
          "model_module_version": "1.5.0"
        },
        "1c194cdd281d4e10a52ec80791612e1d": {
          "model_module": "@jupyter-widgets/base",
          "model_name": "LayoutModel",
          "state": {
            "_view_name": "LayoutView",
            "grid_template_rows": null,
            "right": null,
            "justify_content": null,
            "_view_module": "@jupyter-widgets/base",
            "overflow": null,
            "_model_module_version": "1.2.0",
            "_view_count": null,
            "flex_flow": null,
            "width": null,
            "min_width": null,
            "border": null,
            "align_items": null,
            "bottom": null,
            "_model_module": "@jupyter-widgets/base",
            "top": null,
            "grid_column": null,
            "overflow_y": null,
            "overflow_x": null,
            "grid_auto_flow": null,
            "grid_area": null,
            "grid_template_columns": null,
            "flex": null,
            "_model_name": "LayoutModel",
            "justify_items": null,
            "grid_row": null,
            "max_height": null,
            "align_content": null,
            "visibility": null,
            "align_self": null,
            "height": null,
            "min_height": null,
            "padding": null,
            "grid_auto_rows": null,
            "grid_gap": null,
            "max_width": null,
            "order": null,
            "_view_module_version": "1.2.0",
            "grid_template_areas": null,
            "object_position": null,
            "object_fit": null,
            "grid_auto_columns": null,
            "margin": null,
            "display": null,
            "left": null
          },
          "model_module_version": "1.2.0"
        },
        "bc7ff156e748481bae8e8e4682879fc2": {
          "model_module": "@jupyter-widgets/controls",
          "model_name": "DescriptionStyleModel",
          "state": {
            "_view_name": "StyleView",
            "_model_name": "DescriptionStyleModel",
            "description_width": "",
            "_view_module": "@jupyter-widgets/base",
            "_model_module_version": "1.5.0",
            "_view_count": null,
            "_view_module_version": "1.2.0",
            "_model_module": "@jupyter-widgets/controls"
          },
          "model_module_version": "1.5.0"
        },
        "bcb668cd2fd9418185423ae927d55c13": {
          "model_module": "@jupyter-widgets/base",
          "model_name": "LayoutModel",
          "state": {
            "_view_name": "LayoutView",
            "grid_template_rows": null,
            "right": null,
            "justify_content": null,
            "_view_module": "@jupyter-widgets/base",
            "overflow": null,
            "_model_module_version": "1.2.0",
            "_view_count": null,
            "flex_flow": null,
            "width": null,
            "min_width": null,
            "border": null,
            "align_items": null,
            "bottom": null,
            "_model_module": "@jupyter-widgets/base",
            "top": null,
            "grid_column": null,
            "overflow_y": null,
            "overflow_x": null,
            "grid_auto_flow": null,
            "grid_area": null,
            "grid_template_columns": null,
            "flex": null,
            "_model_name": "LayoutModel",
            "justify_items": null,
            "grid_row": null,
            "max_height": null,
            "align_content": null,
            "visibility": null,
            "align_self": null,
            "height": null,
            "min_height": null,
            "padding": null,
            "grid_auto_rows": null,
            "grid_gap": null,
            "max_width": null,
            "order": null,
            "_view_module_version": "1.2.0",
            "grid_template_areas": null,
            "object_position": null,
            "object_fit": null,
            "grid_auto_columns": null,
            "margin": null,
            "display": null,
            "left": null
          },
          "model_module_version": "1.2.0"
        },
        "f0659c3aa4d04e23802d57589a7afad3": {
          "model_module": "@jupyter-widgets/controls",
          "model_name": "HBoxModel",
          "state": {
            "_view_name": "HBoxView",
            "_dom_classes": [],
            "_model_name": "HBoxModel",
            "_view_module": "@jupyter-widgets/controls",
            "_model_module_version": "1.5.0",
            "_view_count": null,
            "_view_module_version": "1.5.0",
            "box_style": "",
            "layout": "IPY_MODEL_7e74d4145e6d4318a260617553e24a6f",
            "_model_module": "@jupyter-widgets/controls",
            "children": [
              "IPY_MODEL_d232ec73f5e54ad99fe0e522e3ec01f8",
              "IPY_MODEL_4cfc2383beef49cd97f3eba7dfe04289"
            ]
          },
          "model_module_version": "1.5.0"
        },
        "7e74d4145e6d4318a260617553e24a6f": {
          "model_module": "@jupyter-widgets/base",
          "model_name": "LayoutModel",
          "state": {
            "_view_name": "LayoutView",
            "grid_template_rows": null,
            "right": null,
            "justify_content": null,
            "_view_module": "@jupyter-widgets/base",
            "overflow": null,
            "_model_module_version": "1.2.0",
            "_view_count": null,
            "flex_flow": null,
            "width": null,
            "min_width": null,
            "border": null,
            "align_items": null,
            "bottom": null,
            "_model_module": "@jupyter-widgets/base",
            "top": null,
            "grid_column": null,
            "overflow_y": null,
            "overflow_x": null,
            "grid_auto_flow": null,
            "grid_area": null,
            "grid_template_columns": null,
            "flex": null,
            "_model_name": "LayoutModel",
            "justify_items": null,
            "grid_row": null,
            "max_height": null,
            "align_content": null,
            "visibility": null,
            "align_self": null,
            "height": null,
            "min_height": null,
            "padding": null,
            "grid_auto_rows": null,
            "grid_gap": null,
            "max_width": null,
            "order": null,
            "_view_module_version": "1.2.0",
            "grid_template_areas": null,
            "object_position": null,
            "object_fit": null,
            "grid_auto_columns": null,
            "margin": null,
            "display": null,
            "left": null
          },
          "model_module_version": "1.2.0"
        },
        "d232ec73f5e54ad99fe0e522e3ec01f8": {
          "model_module": "@jupyter-widgets/controls",
          "model_name": "FloatProgressModel",
          "state": {
            "_view_name": "ProgressView",
            "style": "IPY_MODEL_583ee8f9c5544c58b1cfd42e45b6ef56",
            "_dom_classes": [],
            "description": "Downloading: 100%",
            "_model_name": "FloatProgressModel",
            "bar_style": "success",
            "max": 231508,
            "_view_module": "@jupyter-widgets/controls",
            "_model_module_version": "1.5.0",
            "value": 231508,
            "_view_count": null,
            "_view_module_version": "1.5.0",
            "orientation": "horizontal",
            "min": 0,
            "description_tooltip": null,
            "_model_module": "@jupyter-widgets/controls",
            "layout": "IPY_MODEL_74fbd2cdc61f489d8378fd8077822a2c"
          },
          "model_module_version": "1.5.0"
        },
        "4cfc2383beef49cd97f3eba7dfe04289": {
          "model_module": "@jupyter-widgets/controls",
          "model_name": "HTMLModel",
          "state": {
            "_view_name": "HTMLView",
            "style": "IPY_MODEL_211c115f31c844aeb57a341dffc08e99",
            "_dom_classes": [],
            "description": "",
            "_model_name": "HTMLModel",
            "placeholder": "​",
            "_view_module": "@jupyter-widgets/controls",
            "_model_module_version": "1.5.0",
            "value": " 232k/232k [00:00&lt;00:00, 567kB/s]",
            "_view_count": null,
            "_view_module_version": "1.5.0",
            "description_tooltip": null,
            "_model_module": "@jupyter-widgets/controls",
            "layout": "IPY_MODEL_ef7caa3762da4069ad1754f09dbdb99f"
          },
          "model_module_version": "1.5.0"
        },
        "583ee8f9c5544c58b1cfd42e45b6ef56": {
          "model_module": "@jupyter-widgets/controls",
          "model_name": "ProgressStyleModel",
          "state": {
            "_view_name": "StyleView",
            "_model_name": "ProgressStyleModel",
            "description_width": "initial",
            "_view_module": "@jupyter-widgets/base",
            "_model_module_version": "1.5.0",
            "_view_count": null,
            "_view_module_version": "1.2.0",
            "bar_color": null,
            "_model_module": "@jupyter-widgets/controls"
          },
          "model_module_version": "1.5.0"
        },
        "74fbd2cdc61f489d8378fd8077822a2c": {
          "model_module": "@jupyter-widgets/base",
          "model_name": "LayoutModel",
          "state": {
            "_view_name": "LayoutView",
            "grid_template_rows": null,
            "right": null,
            "justify_content": null,
            "_view_module": "@jupyter-widgets/base",
            "overflow": null,
            "_model_module_version": "1.2.0",
            "_view_count": null,
            "flex_flow": null,
            "width": null,
            "min_width": null,
            "border": null,
            "align_items": null,
            "bottom": null,
            "_model_module": "@jupyter-widgets/base",
            "top": null,
            "grid_column": null,
            "overflow_y": null,
            "overflow_x": null,
            "grid_auto_flow": null,
            "grid_area": null,
            "grid_template_columns": null,
            "flex": null,
            "_model_name": "LayoutModel",
            "justify_items": null,
            "grid_row": null,
            "max_height": null,
            "align_content": null,
            "visibility": null,
            "align_self": null,
            "height": null,
            "min_height": null,
            "padding": null,
            "grid_auto_rows": null,
            "grid_gap": null,
            "max_width": null,
            "order": null,
            "_view_module_version": "1.2.0",
            "grid_template_areas": null,
            "object_position": null,
            "object_fit": null,
            "grid_auto_columns": null,
            "margin": null,
            "display": null,
            "left": null
          },
          "model_module_version": "1.2.0"
        },
        "211c115f31c844aeb57a341dffc08e99": {
          "model_module": "@jupyter-widgets/controls",
          "model_name": "DescriptionStyleModel",
          "state": {
            "_view_name": "StyleView",
            "_model_name": "DescriptionStyleModel",
            "description_width": "",
            "_view_module": "@jupyter-widgets/base",
            "_model_module_version": "1.5.0",
            "_view_count": null,
            "_view_module_version": "1.2.0",
            "_model_module": "@jupyter-widgets/controls"
          },
          "model_module_version": "1.5.0"
        },
        "ef7caa3762da4069ad1754f09dbdb99f": {
          "model_module": "@jupyter-widgets/base",
          "model_name": "LayoutModel",
          "state": {
            "_view_name": "LayoutView",
            "grid_template_rows": null,
            "right": null,
            "justify_content": null,
            "_view_module": "@jupyter-widgets/base",
            "overflow": null,
            "_model_module_version": "1.2.0",
            "_view_count": null,
            "flex_flow": null,
            "width": null,
            "min_width": null,
            "border": null,
            "align_items": null,
            "bottom": null,
            "_model_module": "@jupyter-widgets/base",
            "top": null,
            "grid_column": null,
            "overflow_y": null,
            "overflow_x": null,
            "grid_auto_flow": null,
            "grid_area": null,
            "grid_template_columns": null,
            "flex": null,
            "_model_name": "LayoutModel",
            "justify_items": null,
            "grid_row": null,
            "max_height": null,
            "align_content": null,
            "visibility": null,
            "align_self": null,
            "height": null,
            "min_height": null,
            "padding": null,
            "grid_auto_rows": null,
            "grid_gap": null,
            "max_width": null,
            "order": null,
            "_view_module_version": "1.2.0",
            "grid_template_areas": null,
            "object_position": null,
            "object_fit": null,
            "grid_auto_columns": null,
            "margin": null,
            "display": null,
            "left": null
          },
          "model_module_version": "1.2.0"
        },
        "925ea2c85b6b4d079df5c9b29d4392a6": {
          "model_module": "@jupyter-widgets/controls",
          "model_name": "HBoxModel",
          "state": {
            "_view_name": "HBoxView",
            "_dom_classes": [],
            "_model_name": "HBoxModel",
            "_view_module": "@jupyter-widgets/controls",
            "_model_module_version": "1.5.0",
            "_view_count": null,
            "_view_module_version": "1.5.0",
            "box_style": "",
            "layout": "IPY_MODEL_f4ec460948f14616bd22649ea80d2ae1",
            "_model_module": "@jupyter-widgets/controls",
            "children": [
              "IPY_MODEL_65f4867239334fd0a0ddcff73c3b1add",
              "IPY_MODEL_c2499430113446199bada78f68ab09f0"
            ]
          },
          "model_module_version": "1.5.0"
        },
        "f4ec460948f14616bd22649ea80d2ae1": {
          "model_module": "@jupyter-widgets/base",
          "model_name": "LayoutModel",
          "state": {
            "_view_name": "LayoutView",
            "grid_template_rows": null,
            "right": null,
            "justify_content": null,
            "_view_module": "@jupyter-widgets/base",
            "overflow": null,
            "_model_module_version": "1.2.0",
            "_view_count": null,
            "flex_flow": null,
            "width": null,
            "min_width": null,
            "border": null,
            "align_items": null,
            "bottom": null,
            "_model_module": "@jupyter-widgets/base",
            "top": null,
            "grid_column": null,
            "overflow_y": null,
            "overflow_x": null,
            "grid_auto_flow": null,
            "grid_area": null,
            "grid_template_columns": null,
            "flex": null,
            "_model_name": "LayoutModel",
            "justify_items": null,
            "grid_row": null,
            "max_height": null,
            "align_content": null,
            "visibility": null,
            "align_self": null,
            "height": null,
            "min_height": null,
            "padding": null,
            "grid_auto_rows": null,
            "grid_gap": null,
            "max_width": null,
            "order": null,
            "_view_module_version": "1.2.0",
            "grid_template_areas": null,
            "object_position": null,
            "object_fit": null,
            "grid_auto_columns": null,
            "margin": null,
            "display": null,
            "left": null
          },
          "model_module_version": "1.2.0"
        },
        "65f4867239334fd0a0ddcff73c3b1add": {
          "model_module": "@jupyter-widgets/controls",
          "model_name": "FloatProgressModel",
          "state": {
            "_view_name": "ProgressView",
            "style": "IPY_MODEL_d50fabb639f64b8e8b13038fae895b54",
            "_dom_classes": [],
            "description": "Downloading: 100%",
            "_model_name": "FloatProgressModel",
            "bar_style": "success",
            "max": 190,
            "_view_module": "@jupyter-widgets/controls",
            "_model_module_version": "1.5.0",
            "value": 190,
            "_view_count": null,
            "_view_module_version": "1.5.0",
            "orientation": "horizontal",
            "min": 0,
            "description_tooltip": null,
            "_model_module": "@jupyter-widgets/controls",
            "layout": "IPY_MODEL_1970856eb9264b8c95ed8c9bd4ab268f"
          },
          "model_module_version": "1.5.0"
        },
        "c2499430113446199bada78f68ab09f0": {
          "model_module": "@jupyter-widgets/controls",
          "model_name": "HTMLModel",
          "state": {
            "_view_name": "HTMLView",
            "style": "IPY_MODEL_0a5033207fd64455899db24726ac193c",
            "_dom_classes": [],
            "description": "",
            "_model_name": "HTMLModel",
            "placeholder": "​",
            "_view_module": "@jupyter-widgets/controls",
            "_model_module_version": "1.5.0",
            "value": " 190/190 [02:45&lt;00:00, 1.15B/s]",
            "_view_count": null,
            "_view_module_version": "1.5.0",
            "description_tooltip": null,
            "_model_module": "@jupyter-widgets/controls",
            "layout": "IPY_MODEL_184147c544c249428cf58776d440bfa4"
          },
          "model_module_version": "1.5.0"
        },
        "d50fabb639f64b8e8b13038fae895b54": {
          "model_module": "@jupyter-widgets/controls",
          "model_name": "ProgressStyleModel",
          "state": {
            "_view_name": "StyleView",
            "_model_name": "ProgressStyleModel",
            "description_width": "initial",
            "_view_module": "@jupyter-widgets/base",
            "_model_module_version": "1.5.0",
            "_view_count": null,
            "_view_module_version": "1.2.0",
            "bar_color": null,
            "_model_module": "@jupyter-widgets/controls"
          },
          "model_module_version": "1.5.0"
        },
        "1970856eb9264b8c95ed8c9bd4ab268f": {
          "model_module": "@jupyter-widgets/base",
          "model_name": "LayoutModel",
          "state": {
            "_view_name": "LayoutView",
            "grid_template_rows": null,
            "right": null,
            "justify_content": null,
            "_view_module": "@jupyter-widgets/base",
            "overflow": null,
            "_model_module_version": "1.2.0",
            "_view_count": null,
            "flex_flow": null,
            "width": null,
            "min_width": null,
            "border": null,
            "align_items": null,
            "bottom": null,
            "_model_module": "@jupyter-widgets/base",
            "top": null,
            "grid_column": null,
            "overflow_y": null,
            "overflow_x": null,
            "grid_auto_flow": null,
            "grid_area": null,
            "grid_template_columns": null,
            "flex": null,
            "_model_name": "LayoutModel",
            "justify_items": null,
            "grid_row": null,
            "max_height": null,
            "align_content": null,
            "visibility": null,
            "align_self": null,
            "height": null,
            "min_height": null,
            "padding": null,
            "grid_auto_rows": null,
            "grid_gap": null,
            "max_width": null,
            "order": null,
            "_view_module_version": "1.2.0",
            "grid_template_areas": null,
            "object_position": null,
            "object_fit": null,
            "grid_auto_columns": null,
            "margin": null,
            "display": null,
            "left": null
          },
          "model_module_version": "1.2.0"
        },
        "0a5033207fd64455899db24726ac193c": {
          "model_module": "@jupyter-widgets/controls",
          "model_name": "DescriptionStyleModel",
          "state": {
            "_view_name": "StyleView",
            "_model_name": "DescriptionStyleModel",
            "description_width": "",
            "_view_module": "@jupyter-widgets/base",
            "_model_module_version": "1.5.0",
            "_view_count": null,
            "_view_module_version": "1.2.0",
            "_model_module": "@jupyter-widgets/controls"
          },
          "model_module_version": "1.5.0"
        },
        "184147c544c249428cf58776d440bfa4": {
          "model_module": "@jupyter-widgets/base",
          "model_name": "LayoutModel",
          "state": {
            "_view_name": "LayoutView",
            "grid_template_rows": null,
            "right": null,
            "justify_content": null,
            "_view_module": "@jupyter-widgets/base",
            "overflow": null,
            "_model_module_version": "1.2.0",
            "_view_count": null,
            "flex_flow": null,
            "width": null,
            "min_width": null,
            "border": null,
            "align_items": null,
            "bottom": null,
            "_model_module": "@jupyter-widgets/base",
            "top": null,
            "grid_column": null,
            "overflow_y": null,
            "overflow_x": null,
            "grid_auto_flow": null,
            "grid_area": null,
            "grid_template_columns": null,
            "flex": null,
            "_model_name": "LayoutModel",
            "justify_items": null,
            "grid_row": null,
            "max_height": null,
            "align_content": null,
            "visibility": null,
            "align_self": null,
            "height": null,
            "min_height": null,
            "padding": null,
            "grid_auto_rows": null,
            "grid_gap": null,
            "max_width": null,
            "order": null,
            "_view_module_version": "1.2.0",
            "grid_template_areas": null,
            "object_position": null,
            "object_fit": null,
            "grid_auto_columns": null,
            "margin": null,
            "display": null,
            "left": null
          },
          "model_module_version": "1.2.0"
        }
      }
    }
  },
  "cells": [
    {
      "cell_type": "code",
      "metadata": {
        "colab": {
          "base_uri": "https://localhost:8080/"
        },
        "id": "0QYW3Fizyy6f",
        "outputId": "b89c682c-53ce-4505-8ea7-6ad07096e9a9"
      },
      "source": [
        "from google.colab import drive\n",
        "drive.mount('/content/drive', force_remount = True)"
      ],
      "execution_count": null,
      "outputs": [
        {
          "output_type": "stream",
          "text": [
            "Mounted at /content/drive\n"
          ],
          "name": "stdout"
        }
      ]
    },
    {
      "cell_type": "code",
      "metadata": {
        "colab": {
          "base_uri": "https://localhost:8080/"
        },
        "id": "TRZufb4_ZE7i",
        "outputId": "a2a49fc1-c133-4089-ceef-1e2d32ac831e"
      },
      "source": [
        "!pip install PyPDF2"
      ],
      "execution_count": null,
      "outputs": [
        {
          "output_type": "stream",
          "text": [
            "Collecting PyPDF2\n",
            "  Downloading PyPDF2-1.26.0.tar.gz (77 kB)\n",
            "\u001b[?25l\r\u001b[K     |████▎                           | 10 kB 20.1 MB/s eta 0:00:01\r\u001b[K     |████████▌                       | 20 kB 11.3 MB/s eta 0:00:01\r\u001b[K     |████████████▊                   | 30 kB 9.2 MB/s eta 0:00:01\r\u001b[K     |█████████████████               | 40 kB 8.4 MB/s eta 0:00:01\r\u001b[K     |█████████████████████▏          | 51 kB 4.9 MB/s eta 0:00:01\r\u001b[K     |█████████████████████████▍      | 61 kB 5.4 MB/s eta 0:00:01\r\u001b[K     |█████████████████████████████▋  | 71 kB 5.4 MB/s eta 0:00:01\r\u001b[K     |████████████████████████████████| 77 kB 3.0 MB/s \n",
            "\u001b[?25hBuilding wheels for collected packages: PyPDF2\n",
            "  Building wheel for PyPDF2 (setup.py) ... \u001b[?25l\u001b[?25hdone\n",
            "  Created wheel for PyPDF2: filename=PyPDF2-1.26.0-py3-none-any.whl size=61100 sha256=0b246fbaa31a2cce4e226ca5013234bf45e07bd9abf102f65a93c720cedf7647\n",
            "  Stored in directory: /root/.cache/pip/wheels/80/1a/24/648467ade3a77ed20f35cfd2badd32134e96dd25ca811e64b3\n",
            "Successfully built PyPDF2\n",
            "Installing collected packages: PyPDF2\n",
            "Successfully installed PyPDF2-1.26.0\n"
          ],
          "name": "stdout"
        }
      ]
    },
    {
      "cell_type": "code",
      "metadata": {
        "id": "64wXvE6GYGuM"
      },
      "source": [
        "import PyPDF2\n",
        "import re"
      ],
      "execution_count": null,
      "outputs": []
    },
    {
      "cell_type": "code",
      "metadata": {
        "id": "og1F4S73YFja"
      },
      "source": [
        "from IPython.display import HTML, display\n",
        "\n",
        "def set_css():\n",
        "  display(HTML('''\n",
        "  <style>\n",
        "    pre {\n",
        "        white-space: pre-wrap;\n",
        "    }\n",
        "  </style>\n",
        "  '''))\n",
        "get_ipython().events.register('pre_run_cell', set_css)\n"
      ],
      "execution_count": null,
      "outputs": []
    },
    {
      "cell_type": "code",
      "metadata": {
        "id": "AyXeE0T9zAIg",
        "colab": {
          "base_uri": "https://localhost:8080/",
          "height": 17
        },
        "outputId": "e8a01bb5-a0ed-476a-c20d-6b7e5f58c119"
      },
      "source": [
        "file = PyPDF2.PdfFileReader('drive/My Drive/Colab Notebooks/dataset.pdf')\n",
        "Numpages=file.getNumPages()\n",
        "text = \"\"\n",
        "for j in range(0,Numpages):\n",
        "    PageObj = file.getPage(j)\n",
        "    text = text + \" \" + PageObj.extractText()"
      ],
      "execution_count": null,
      "outputs": [
        {
          "output_type": "display_data",
          "data": {
            "text/html": [
              "\n",
              "  <style>\n",
              "    pre {\n",
              "        white-space: pre-wrap;\n",
              "    }\n",
              "  </style>\n",
              "  "
            ],
            "text/plain": [
              "<IPython.core.display.HTML object>"
            ]
          },
          "metadata": {
            "tags": []
          }
        }
      ]
    },
    {
      "cell_type": "code",
      "metadata": {
        "colab": {
          "base_uri": "https://localhost:8080/",
          "height": 17
        },
        "id": "8fHNrT4vSlos",
        "outputId": "780df1a0-c793-46ba-ac62-ef25b95b4a2f"
      },
      "source": [
        "#paragraphs = re.split ('\\.|\\?|\\!', text) # Sentence break\n",
        "paragraphs = re.split ('\\.\\n', text) # Paragraph break\n",
        "paragraphs = [re.sub('[^-\\.!\\?,;a-zA-Z0-9]+', ' ', paragraph.strip()) for paragraph in paragraphs]"
      ],
      "execution_count": null,
      "outputs": [
        {
          "output_type": "display_data",
          "data": {
            "text/html": [
              "\n",
              "  <style>\n",
              "    pre {\n",
              "        white-space: pre-wrap;\n",
              "    }\n",
              "  </style>\n",
              "  "
            ],
            "text/plain": [
              "<IPython.core.display.HTML object>"
            ]
          },
          "metadata": {
            "tags": []
          }
        }
      ]
    },
    {
      "cell_type": "code",
      "metadata": {
        "colab": {
          "base_uri": "https://localhost:8080/",
          "height": 52
        },
        "id": "AyjlEUJiaEBo",
        "outputId": "145c84e6-f9ad-40a9-a82e-7f1f6930c8f7"
      },
      "source": [
        "import nltk\n",
        "nltk.download('punkt')\n",
        "from nltk.tokenize import word_tokenize\n",
        "import numpy as np"
      ],
      "execution_count": null,
      "outputs": [
        {
          "output_type": "display_data",
          "data": {
            "text/html": [
              "\n",
              "  <style>\n",
              "    pre {\n",
              "        white-space: pre-wrap;\n",
              "    }\n",
              "  </style>\n",
              "  "
            ],
            "text/plain": [
              "<IPython.core.display.HTML object>"
            ]
          },
          "metadata": {
            "tags": []
          }
        },
        {
          "output_type": "stream",
          "text": [
            "[nltk_data] Downloading package punkt to /root/nltk_data...\n",
            "[nltk_data]   Unzipping tokenizers/punkt.zip.\n"
          ],
          "name": "stdout"
        }
      ]
    },
    {
      "cell_type": "code",
      "metadata": {
        "colab": {
          "base_uri": "https://localhost:8080/",
          "height": 17
        },
        "id": "S4I1NQY4Sr6v",
        "outputId": "9ba894fd-a3ff-4dcd-8550-b4cfcee80c20"
      },
      "source": [
        "tokenized_para = []\n",
        "for p in paragraphs:\n",
        "    tokenized_para.append(word_tokenize(p.lower()))"
      ],
      "execution_count": null,
      "outputs": [
        {
          "output_type": "display_data",
          "data": {
            "text/html": [
              "\n",
              "  <style>\n",
              "    pre {\n",
              "        white-space: pre-wrap;\n",
              "    }\n",
              "  </style>\n",
              "  "
            ],
            "text/plain": [
              "<IPython.core.display.HTML object>"
            ]
          },
          "metadata": {
            "tags": []
          }
        }
      ]
    },
    {
      "cell_type": "code",
      "metadata": {
        "colab": {
          "base_uri": "https://localhost:8080/",
          "height": 17
        },
        "id": "i_YFxwsJTKce",
        "outputId": "e92340fb-dba2-4e87-fdcf-8e390550e360"
      },
      "source": [
        "def cosine(u, v):\n",
        "    return np.dot(u, v) / (np.linalg.norm(u) * np.linalg.norm(v))"
      ],
      "execution_count": null,
      "outputs": [
        {
          "output_type": "display_data",
          "data": {
            "text/html": [
              "\n",
              "  <style>\n",
              "    pre {\n",
              "        white-space: pre-wrap;\n",
              "    }\n",
              "  </style>\n",
              "  "
            ],
            "text/plain": [
              "<IPython.core.display.HTML object>"
            ]
          },
          "metadata": {
            "tags": []
          }
        }
      ]
    },
    {
      "cell_type": "code",
      "metadata": {
        "colab": {
          "base_uri": "https://localhost:8080/",
          "height": 1000
        },
        "id": "GJ8eBn4IShsp",
        "outputId": "dc3ad91d-952c-48ee-d963-c8853747e638"
      },
      "source": [
        "!pip install sentence-transformers"
      ],
      "execution_count": null,
      "outputs": [
        {
          "output_type": "display_data",
          "data": {
            "text/html": [
              "\n",
              "  <style>\n",
              "    pre {\n",
              "        white-space: pre-wrap;\n",
              "    }\n",
              "  </style>\n",
              "  "
            ],
            "text/plain": [
              "<IPython.core.display.HTML object>"
            ]
          },
          "metadata": {
            "tags": []
          }
        },
        {
          "output_type": "stream",
          "text": [
            "Collecting sentence-transformers\n",
            "  Downloading sentence-transformers-2.0.0.tar.gz (85 kB)\n",
            "\u001b[K     |████████████████████████████████| 85 kB 1.7 MB/s \n",
            "\u001b[?25hCollecting transformers<5.0.0,>=4.6.0\n",
            "  Downloading transformers-4.9.1-py3-none-any.whl (2.6 MB)\n",
            "\u001b[K     |████████████████████████████████| 2.6 MB 17.5 MB/s \n",
            "\u001b[?25hRequirement already satisfied: tqdm in /usr/local/lib/python3.7/dist-packages (from sentence-transformers) (4.41.1)\n",
            "Requirement already satisfied: torch>=1.6.0 in /usr/local/lib/python3.7/dist-packages (from sentence-transformers) (1.9.0+cu102)\n",
            "Requirement already satisfied: torchvision in /usr/local/lib/python3.7/dist-packages (from sentence-transformers) (0.10.0+cu102)\n",
            "Requirement already satisfied: numpy in /usr/local/lib/python3.7/dist-packages (from sentence-transformers) (1.19.5)\n",
            "Requirement already satisfied: scikit-learn in /usr/local/lib/python3.7/dist-packages (from sentence-transformers) (0.22.2.post1)\n",
            "Requirement already satisfied: scipy in /usr/local/lib/python3.7/dist-packages (from sentence-transformers) (1.4.1)\n",
            "Requirement already satisfied: nltk in /usr/local/lib/python3.7/dist-packages (from sentence-transformers) (3.2.5)\n",
            "Collecting sentencepiece\n",
            "  Downloading sentencepiece-0.1.96-cp37-cp37m-manylinux_2_17_x86_64.manylinux2014_x86_64.whl (1.2 MB)\n",
            "\u001b[K     |████████████████████████████████| 1.2 MB 28.0 MB/s \n",
            "\u001b[?25hCollecting huggingface-hub\n",
            "  Downloading huggingface_hub-0.0.15-py3-none-any.whl (43 kB)\n",
            "\u001b[K     |████████████████████████████████| 43 kB 1.2 MB/s \n",
            "\u001b[?25hRequirement already satisfied: typing-extensions in /usr/local/lib/python3.7/dist-packages (from torch>=1.6.0->sentence-transformers) (3.7.4.3)\n",
            "Requirement already satisfied: requests in /usr/local/lib/python3.7/dist-packages (from transformers<5.0.0,>=4.6.0->sentence-transformers) (2.23.0)\n",
            "Collecting tokenizers<0.11,>=0.10.1\n",
            "  Downloading tokenizers-0.10.3-cp37-cp37m-manylinux_2_5_x86_64.manylinux1_x86_64.manylinux_2_12_x86_64.manylinux2010_x86_64.whl (3.3 MB)\n",
            "\u001b[K     |████████████████████████████████| 3.3 MB 33.6 MB/s \n",
            "\u001b[?25hRequirement already satisfied: filelock in /usr/local/lib/python3.7/dist-packages (from transformers<5.0.0,>=4.6.0->sentence-transformers) (3.0.12)\n",
            "Collecting huggingface-hub\n",
            "  Downloading huggingface_hub-0.0.12-py3-none-any.whl (37 kB)\n",
            "Requirement already satisfied: packaging in /usr/local/lib/python3.7/dist-packages (from transformers<5.0.0,>=4.6.0->sentence-transformers) (21.0)\n",
            "Requirement already satisfied: importlib-metadata in /usr/local/lib/python3.7/dist-packages (from transformers<5.0.0,>=4.6.0->sentence-transformers) (4.6.1)\n",
            "Collecting pyyaml>=5.1\n",
            "  Downloading PyYAML-5.4.1-cp37-cp37m-manylinux1_x86_64.whl (636 kB)\n",
            "\u001b[K     |████████████████████████████████| 636 kB 40.3 MB/s \n",
            "\u001b[?25hCollecting sacremoses\n",
            "  Downloading sacremoses-0.0.45-py3-none-any.whl (895 kB)\n",
            "\u001b[K     |████████████████████████████████| 895 kB 55.6 MB/s \n",
            "\u001b[?25hRequirement already satisfied: regex!=2019.12.17 in /usr/local/lib/python3.7/dist-packages (from transformers<5.0.0,>=4.6.0->sentence-transformers) (2019.12.20)\n",
            "Requirement already satisfied: pyparsing>=2.0.2 in /usr/local/lib/python3.7/dist-packages (from packaging->transformers<5.0.0,>=4.6.0->sentence-transformers) (2.4.7)\n",
            "Requirement already satisfied: zipp>=0.5 in /usr/local/lib/python3.7/dist-packages (from importlib-metadata->transformers<5.0.0,>=4.6.0->sentence-transformers) (3.5.0)\n",
            "Requirement already satisfied: six in /usr/local/lib/python3.7/dist-packages (from nltk->sentence-transformers) (1.15.0)\n",
            "Requirement already satisfied: chardet<4,>=3.0.2 in /usr/local/lib/python3.7/dist-packages (from requests->transformers<5.0.0,>=4.6.0->sentence-transformers) (3.0.4)\n",
            "Requirement already satisfied: urllib3!=1.25.0,!=1.25.1,<1.26,>=1.21.1 in /usr/local/lib/python3.7/dist-packages (from requests->transformers<5.0.0,>=4.6.0->sentence-transformers) (1.24.3)\n",
            "Requirement already satisfied: idna<3,>=2.5 in /usr/local/lib/python3.7/dist-packages (from requests->transformers<5.0.0,>=4.6.0->sentence-transformers) (2.10)\n",
            "Requirement already satisfied: certifi>=2017.4.17 in /usr/local/lib/python3.7/dist-packages (from requests->transformers<5.0.0,>=4.6.0->sentence-transformers) (2021.5.30)\n",
            "Requirement already satisfied: joblib in /usr/local/lib/python3.7/dist-packages (from sacremoses->transformers<5.0.0,>=4.6.0->sentence-transformers) (1.0.1)\n",
            "Requirement already satisfied: click in /usr/local/lib/python3.7/dist-packages (from sacremoses->transformers<5.0.0,>=4.6.0->sentence-transformers) (7.1.2)\n",
            "Requirement already satisfied: pillow>=5.3.0 in /usr/local/lib/python3.7/dist-packages (from torchvision->sentence-transformers) (7.1.2)\n",
            "Building wheels for collected packages: sentence-transformers\n",
            "  Building wheel for sentence-transformers (setup.py) ... \u001b[?25l\u001b[?25hdone\n",
            "  Created wheel for sentence-transformers: filename=sentence_transformers-2.0.0-py3-none-any.whl size=126709 sha256=e517e537a207283aa486d9d0c5bf230d6d9bdb2aa82b7038ff32ff9a4e589753\n",
            "  Stored in directory: /root/.cache/pip/wheels/d1/c1/0f/faafd427f705c4b012274ba60d9a91d75830306811e1355293\n",
            "Successfully built sentence-transformers\n",
            "Installing collected packages: tokenizers, sacremoses, pyyaml, huggingface-hub, transformers, sentencepiece, sentence-transformers\n",
            "  Attempting uninstall: pyyaml\n",
            "    Found existing installation: PyYAML 3.13\n",
            "    Uninstalling PyYAML-3.13:\n",
            "      Successfully uninstalled PyYAML-3.13\n",
            "Successfully installed huggingface-hub-0.0.12 pyyaml-5.4.1 sacremoses-0.0.45 sentence-transformers-2.0.0 sentencepiece-0.1.96 tokenizers-0.10.3 transformers-4.9.1\n"
          ],
          "name": "stdout"
        }
      ]
    },
    {
      "cell_type": "code",
      "metadata": {
        "colab": {
          "base_uri": "https://localhost:8080/",
          "height": 662,
          "referenced_widgets": [
            "4d6d691c766e4c4c84b84e91da7d46fb",
            "d00f838fbafb4933882ce31769b1d207",
            "897b70b087e84f3f88a80c876b48b19e",
            "5bf41b28438c40e18805518e816b64a7",
            "2c1ae820b57b43b887fd77cc97ed0875",
            "4e7670e4e6804238b78a302989117467",
            "ca95e79c3f4246619437d1fd77105c15",
            "00865533cea14136b7aed0f54ec891fb",
            "2a1c28dc851449609e019a3c97990f5f",
            "2aad2f26727d48aa87d066bb318b5641",
            "48842a54445b47f497db385fd72d1f49",
            "d8dabc7bf6764ae285a007bd6686dd42",
            "54c429f089f94547b09fe05099481cbd",
            "5cbab60f1e584653ba61c6ebe1df3d6c",
            "b36a66b4338f4086bef174c978753c8e",
            "7e4a17cd9a4d4b8a8a1adf1dd78755ed",
            "1a75a8710e8f4fdab914698e34a4c179",
            "b1608c9084754e129cb0549a068808a2",
            "816053cad10b45049a3de4f86b80906e",
            "a1fc6e5efd6c499aad341015f06c33c1",
            "313849525b25429893b74008581345ef",
            "59057185d8cc4816bb5ecebddde93292",
            "7e9c55aa335643b882b821adb44ec570",
            "6ea079a3425c43c7a63f803aa76010cf",
            "807ab786ae994e82a4349735ce6b9bd7",
            "ef49fd64dffc4cdb8210e4e143c6f322",
            "9be6ab69eb2548b9ac8df704c67d42b3",
            "4d9459c90a6d42f688f36ebb4d5402e2",
            "f77f589e3f0849b0ae0100576c7284e7",
            "6c3a38786b3040aa959b4bf72ad180ab",
            "f849f96d219544f48d8aff814fb44af0",
            "7db9a51dcec34d2eafc171f23d6089f8",
            "995d8a2849c34545bd1f498a4b9cd3b7",
            "c122945cb62e44168c1d308d91cd5045",
            "5b8fcc9351674110a471af3cc41984ff",
            "1640827081c64715bd1fbb312fcb4e61",
            "c61a00f22be8437bae3185e484246141",
            "a76e243dcf1340cfbff5c271fafff297",
            "0d53723ed12341e2a5377166316b813f",
            "4ccbfbdf64d0407692f6588af9edf5ff",
            "8e76503473e04f4d886a383f6deb3f1e",
            "0b2914ba924d4cfb91103f9782e82240",
            "930b95addc054b09b07bcab634a51f85",
            "98949f12a4d84e82a735078035d717a2",
            "4f3720116a4f4e70b6e95ca97ba141dd",
            "21b236bd294b435da3cadc15be99f5d0",
            "f5fbd2048e49422192304c54804b7fbb",
            "a9e331869a63430ebfe731b7ad147915",
            "df67c48e99b4442e969641bb441b2c2b",
            "d6adb9cd63db4820b01e08cd0762805a",
            "9e08e44725094838801d7b8d83cb3064",
            "e66604b605a746fa8c1ef129c64d09af",
            "fd6bc5f2a163489b856f1c59199b67c0",
            "ca1c862ecc0d456a97dc332dc61cb0b7",
            "259907d8ce2140fbadb1d0e6a3747122",
            "ae0d1b2905974b8193f9fad044e06030",
            "4e08766b39384520a973bbc2ddb626c1",
            "f4f1d1f62eba40aabe4f3d2d900aef9d",
            "273d15856a4b498e9e1bc6a718051bda",
            "96ab0ed2c249496587fca5782465ce5a",
            "bc11a51f98334427925235fbeb11d4cd",
            "c8a7238022744e79931ab680dc66813d",
            "d2813784daeb4ca1ba2cdbee90180ac2",
            "f2742487a2b944f48414bb4c4b53499f",
            "974bf78af9ea405fa8a4aa1f15be489f",
            "f97e8ab977894de39e32d7f8ecc25db6",
            "b56ba88073ff4962a043d0347dd66bb1",
            "6cf78c23cd304d8aa5fc6d20073df026",
            "f33634f4accd467cbf97af8765042692",
            "30b69ea41dbd4720928adef8eb6aa6f2",
            "329b5fea3503461eac17395dbee86401",
            "306a8059bfce4c50b157cdc70de52394",
            "8b2c374da2ed4e39a6740ce9e08a26eb",
            "a9a6a5e875ae47e8addb4cc0bd0b7b7b",
            "11fc6d7a012a4f209b17c36ed3815506",
            "03fec04e9ce64c19853d497c47067ece",
            "ebaff028dc5b40eaa5e44d86f26a4ba7",
            "bd5d9604b33648fabdf2e271515efdf6",
            "a82f1ad18f0643489eb81a3be02ed766",
            "41119a1b4afd4cfa96a4571284bf2e0e",
            "e634f8dd7c6248d8affc42edcb348427",
            "9cb6332023454a60a287336398464610",
            "04bc646fe7934d02a20c60ea7dacd125",
            "78fd09307cc64a95b85bffbe28d659fd",
            "05ca52e058794a62816efa3ec745cb9e",
            "1c194cdd281d4e10a52ec80791612e1d",
            "bc7ff156e748481bae8e8e4682879fc2",
            "bcb668cd2fd9418185423ae927d55c13",
            "f0659c3aa4d04e23802d57589a7afad3",
            "7e74d4145e6d4318a260617553e24a6f",
            "d232ec73f5e54ad99fe0e522e3ec01f8",
            "4cfc2383beef49cd97f3eba7dfe04289",
            "583ee8f9c5544c58b1cfd42e45b6ef56",
            "74fbd2cdc61f489d8378fd8077822a2c",
            "211c115f31c844aeb57a341dffc08e99",
            "ef7caa3762da4069ad1754f09dbdb99f",
            "925ea2c85b6b4d079df5c9b29d4392a6",
            "f4ec460948f14616bd22649ea80d2ae1",
            "65f4867239334fd0a0ddcff73c3b1add",
            "c2499430113446199bada78f68ab09f0",
            "d50fabb639f64b8e8b13038fae895b54",
            "1970856eb9264b8c95ed8c9bd4ab268f",
            "0a5033207fd64455899db24726ac193c",
            "184147c544c249428cf58776d440bfa4"
          ]
        },
        "id": "O_IOLG2KR4pz",
        "outputId": "6d002379-2f17-47c7-df68-56540e4b7d0f"
      },
      "source": [
        "from sentence_transformers import SentenceTransformer\n",
        "sbert_model = SentenceTransformer('bert-base-nli-mean-tokens')"
      ],
      "execution_count": null,
      "outputs": [
        {
          "output_type": "display_data",
          "data": {
            "text/html": [
              "\n",
              "  <style>\n",
              "    pre {\n",
              "        white-space: pre-wrap;\n",
              "    }\n",
              "  </style>\n",
              "  "
            ],
            "text/plain": [
              "<IPython.core.display.HTML object>"
            ]
          },
          "metadata": {
            "tags": []
          }
        },
        {
          "output_type": "display_data",
          "data": {
            "application/vnd.jupyter.widget-view+json": {
              "model_id": "4d6d691c766e4c4c84b84e91da7d46fb",
              "version_minor": 0,
              "version_major": 2
            },
            "text/plain": [
              "HBox(children=(FloatProgress(value=0.0, description='Downloading', max=391.0, style=ProgressStyle(description_…"
            ]
          },
          "metadata": {
            "tags": []
          }
        },
        {
          "output_type": "stream",
          "text": [
            "\n"
          ],
          "name": "stdout"
        },
        {
          "output_type": "display_data",
          "data": {
            "application/vnd.jupyter.widget-view+json": {
              "model_id": "2a1c28dc851449609e019a3c97990f5f",
              "version_minor": 0,
              "version_major": 2
            },
            "text/plain": [
              "HBox(children=(FloatProgress(value=0.0, description='Downloading', max=3931.0, style=ProgressStyle(description…"
            ]
          },
          "metadata": {
            "tags": []
          }
        },
        {
          "output_type": "stream",
          "text": [
            "\n"
          ],
          "name": "stdout"
        },
        {
          "output_type": "display_data",
          "data": {
            "application/vnd.jupyter.widget-view+json": {
              "model_id": "1a75a8710e8f4fdab914698e34a4c179",
              "version_minor": 0,
              "version_major": 2
            },
            "text/plain": [
              "HBox(children=(FloatProgress(value=0.0, description='Downloading', max=2.0, style=ProgressStyle(description_wi…"
            ]
          },
          "metadata": {
            "tags": []
          }
        },
        {
          "output_type": "stream",
          "text": [
            "\n"
          ],
          "name": "stdout"
        },
        {
          "output_type": "display_data",
          "data": {
            "application/vnd.jupyter.widget-view+json": {
              "model_id": "807ab786ae994e82a4349735ce6b9bd7",
              "version_minor": 0,
              "version_major": 2
            },
            "text/plain": [
              "HBox(children=(FloatProgress(value=0.0, description='Downloading', max=625.0, style=ProgressStyle(description_…"
            ]
          },
          "metadata": {
            "tags": []
          }
        },
        {
          "output_type": "stream",
          "text": [
            "\n"
          ],
          "name": "stdout"
        },
        {
          "output_type": "display_data",
          "data": {
            "application/vnd.jupyter.widget-view+json": {
              "model_id": "995d8a2849c34545bd1f498a4b9cd3b7",
              "version_minor": 0,
              "version_major": 2
            },
            "text/plain": [
              "HBox(children=(FloatProgress(value=0.0, description='Downloading', max=122.0, style=ProgressStyle(description_…"
            ]
          },
          "metadata": {
            "tags": []
          }
        },
        {
          "output_type": "stream",
          "text": [
            "\n"
          ],
          "name": "stdout"
        },
        {
          "output_type": "display_data",
          "data": {
            "application/vnd.jupyter.widget-view+json": {
              "model_id": "8e76503473e04f4d886a383f6deb3f1e",
              "version_minor": 0,
              "version_major": 2
            },
            "text/plain": [
              "HBox(children=(FloatProgress(value=0.0, description='Downloading', max=229.0, style=ProgressStyle(description_…"
            ]
          },
          "metadata": {
            "tags": []
          }
        },
        {
          "output_type": "stream",
          "text": [
            "\n"
          ],
          "name": "stdout"
        },
        {
          "output_type": "display_data",
          "data": {
            "application/vnd.jupyter.widget-view+json": {
              "model_id": "df67c48e99b4442e969641bb441b2c2b",
              "version_minor": 0,
              "version_major": 2
            },
            "text/plain": [
              "HBox(children=(FloatProgress(value=0.0, description='Downloading', max=438007537.0, style=ProgressStyle(descri…"
            ]
          },
          "metadata": {
            "tags": []
          }
        },
        {
          "output_type": "stream",
          "text": [
            "\n"
          ],
          "name": "stdout"
        },
        {
          "output_type": "display_data",
          "data": {
            "application/vnd.jupyter.widget-view+json": {
              "model_id": "4e08766b39384520a973bbc2ddb626c1",
              "version_minor": 0,
              "version_major": 2
            },
            "text/plain": [
              "HBox(children=(FloatProgress(value=0.0, description='Downloading', max=53.0, style=ProgressStyle(description_w…"
            ]
          },
          "metadata": {
            "tags": []
          }
        },
        {
          "output_type": "stream",
          "text": [
            "\n"
          ],
          "name": "stdout"
        },
        {
          "output_type": "display_data",
          "data": {
            "application/vnd.jupyter.widget-view+json": {
              "model_id": "974bf78af9ea405fa8a4aa1f15be489f",
              "version_minor": 0,
              "version_major": 2
            },
            "text/plain": [
              "HBox(children=(FloatProgress(value=0.0, description='Downloading', max=112.0, style=ProgressStyle(description_…"
            ]
          },
          "metadata": {
            "tags": []
          }
        },
        {
          "output_type": "stream",
          "text": [
            "\n"
          ],
          "name": "stdout"
        },
        {
          "output_type": "display_data",
          "data": {
            "application/vnd.jupyter.widget-view+json": {
              "model_id": "8b2c374da2ed4e39a6740ce9e08a26eb",
              "version_minor": 0,
              "version_major": 2
            },
            "text/plain": [
              "HBox(children=(FloatProgress(value=0.0, description='Downloading', max=466081.0, style=ProgressStyle(descripti…"
            ]
          },
          "metadata": {
            "tags": []
          }
        },
        {
          "output_type": "stream",
          "text": [
            "\n"
          ],
          "name": "stdout"
        },
        {
          "output_type": "display_data",
          "data": {
            "application/vnd.jupyter.widget-view+json": {
              "model_id": "e634f8dd7c6248d8affc42edcb348427",
              "version_minor": 0,
              "version_major": 2
            },
            "text/plain": [
              "HBox(children=(FloatProgress(value=0.0, description='Downloading', max=399.0, style=ProgressStyle(description_…"
            ]
          },
          "metadata": {
            "tags": []
          }
        },
        {
          "output_type": "stream",
          "text": [
            "\n"
          ],
          "name": "stdout"
        },
        {
          "output_type": "display_data",
          "data": {
            "application/vnd.jupyter.widget-view+json": {
              "model_id": "f0659c3aa4d04e23802d57589a7afad3",
              "version_minor": 0,
              "version_major": 2
            },
            "text/plain": [
              "HBox(children=(FloatProgress(value=0.0, description='Downloading', max=231508.0, style=ProgressStyle(descripti…"
            ]
          },
          "metadata": {
            "tags": []
          }
        },
        {
          "output_type": "stream",
          "text": [
            "\n"
          ],
          "name": "stdout"
        },
        {
          "output_type": "display_data",
          "data": {
            "application/vnd.jupyter.widget-view+json": {
              "model_id": "925ea2c85b6b4d079df5c9b29d4392a6",
              "version_minor": 0,
              "version_major": 2
            },
            "text/plain": [
              "HBox(children=(FloatProgress(value=0.0, description='Downloading', max=190.0, style=ProgressStyle(description_…"
            ]
          },
          "metadata": {
            "tags": []
          }
        },
        {
          "output_type": "stream",
          "text": [
            "\n"
          ],
          "name": "stdout"
        }
      ]
    },
    {
      "cell_type": "code",
      "metadata": {
        "colab": {
          "base_uri": "https://localhost:8080/",
          "height": 17
        },
        "id": "iGmDp9IHR6RT",
        "outputId": "868b366f-af75-4724-b376-da5139646473"
      },
      "source": [
        "para_embeddings = sbert_model.encode(paragraphs)"
      ],
      "execution_count": null,
      "outputs": [
        {
          "output_type": "display_data",
          "data": {
            "text/html": [
              "\n",
              "  <style>\n",
              "    pre {\n",
              "        white-space: pre-wrap;\n",
              "    }\n",
              "  </style>\n",
              "  "
            ],
            "text/plain": [
              "<IPython.core.display.HTML object>"
            ]
          },
          "metadata": {
            "tags": []
          }
        }
      ]
    },
    {
      "cell_type": "code",
      "metadata": {
        "colab": {
          "base_uri": "https://localhost:8080/",
          "height": 246
        },
        "id": "tBVP4aN1eogs",
        "outputId": "faf6d6d1-a843-47c5-ba96-5558ddc5f002"
      },
      "source": [
        "print (para_embeddings)"
      ],
      "execution_count": null,
      "outputs": [
        {
          "output_type": "display_data",
          "data": {
            "text/html": [
              "\n",
              "  <style>\n",
              "    pre {\n",
              "        white-space: pre-wrap;\n",
              "    }\n",
              "  </style>\n",
              "  "
            ],
            "text/plain": [
              "<IPython.core.display.HTML object>"
            ]
          },
          "metadata": {
            "tags": []
          }
        },
        {
          "output_type": "stream",
          "text": [
            "[[-0.700047    0.16462971  0.72036004 ...  0.04652931  0.6113948\n",
            "   0.10581053]\n",
            " [-0.55648655  0.43649098  0.04467231 ... -0.7711014  -0.64799017\n",
            "  -0.30801937]\n",
            " [-0.51877517  0.5696569   0.01247613 ...  0.08427215 -0.12681836\n",
            "  -0.11653194]\n",
            " ...\n",
            " [-0.79067385  0.8834112   0.19789916 ... -0.23559976  0.7588779\n",
            "   0.09425443]\n",
            " [ 0.11286857  1.6343342   0.3191039  ...  0.14807191  0.99914384\n",
            "   0.2821779 ]\n",
            " [-0.16783059  1.5485874  -0.13557428 ...  0.35157642  0.88020086\n",
            "  -0.14227346]]\n"
          ],
          "name": "stdout"
        }
      ]
    },
    {
      "cell_type": "code",
      "metadata": {
        "colab": {
          "base_uri": "https://localhost:8080/",
          "height": 17
        },
        "id": "BkgnbulUVlOt",
        "outputId": "4b2654c3-a9c2-4cc5-ce92-73e0b27ae7fa"
      },
      "source": [
        "query = \"Jawaharlal Nehru and Indian History\""
      ],
      "execution_count": null,
      "outputs": [
        {
          "output_type": "display_data",
          "data": {
            "text/html": [
              "\n",
              "  <style>\n",
              "    pre {\n",
              "        white-space: pre-wrap;\n",
              "    }\n",
              "  </style>\n",
              "  "
            ],
            "text/plain": [
              "<IPython.core.display.HTML object>"
            ]
          },
          "metadata": {
            "tags": []
          }
        }
      ]
    },
    {
      "cell_type": "code",
      "metadata": {
        "colab": {
          "base_uri": "https://localhost:8080/",
          "height": 17
        },
        "id": "uV4Bs_pYVnBg",
        "outputId": "a5529997-b7ce-4e2b-e8d6-f0545a4545da"
      },
      "source": [
        "query = query.lower()\n",
        "query_vec = sbert_model.encode([query])[0]"
      ],
      "execution_count": null,
      "outputs": [
        {
          "output_type": "display_data",
          "data": {
            "text/html": [
              "\n",
              "  <style>\n",
              "    pre {\n",
              "        white-space: pre-wrap;\n",
              "    }\n",
              "  </style>\n",
              "  "
            ],
            "text/plain": [
              "<IPython.core.display.HTML object>"
            ]
          },
          "metadata": {
            "tags": []
          }
        }
      ]
    },
    {
      "cell_type": "code",
      "metadata": {
        "colab": {
          "base_uri": "https://localhost:8080/",
          "height": 17
        },
        "id": "_XQUVql3SgVi",
        "outputId": "4615b3f7-c0eb-4984-9a4e-a2d584a967fb"
      },
      "source": [
        "similarity_vec = []\n",
        "for i in range (len(paragraphs)):\n",
        "  #similarity = cosine(query_vec, sbert_model.encode([paragraphs[i]])[0])\n",
        "  similarity = cosine(query_vec, para_embeddings[i])\n",
        "  similarity_vec.append((i, similarity))\n",
        "similarity_vec.sort (key = lambda x: -x[1])"
      ],
      "execution_count": null,
      "outputs": [
        {
          "output_type": "display_data",
          "data": {
            "text/html": [
              "\n",
              "  <style>\n",
              "    pre {\n",
              "        white-space: pre-wrap;\n",
              "    }\n",
              "  </style>\n",
              "  "
            ],
            "text/plain": [
              "<IPython.core.display.HTML object>"
            ]
          },
          "metadata": {
            "tags": []
          }
        }
      ]
    },
    {
      "cell_type": "code",
      "metadata": {
        "colab": {
          "base_uri": "https://localhost:8080/",
          "height": 34
        },
        "id": "XgrNGn4FdE_s",
        "outputId": "a5f9b1b0-473d-4bd1-ca87-8794004a5db2"
      },
      "source": [
        "print (similarity_vec[:10])"
      ],
      "execution_count": null,
      "outputs": [
        {
          "output_type": "display_data",
          "data": {
            "text/html": [
              "\n",
              "  <style>\n",
              "    pre {\n",
              "        white-space: pre-wrap;\n",
              "    }\n",
              "  </style>\n",
              "  "
            ],
            "text/plain": [
              "<IPython.core.display.HTML object>"
            ]
          },
          "metadata": {
            "tags": []
          }
        },
        {
          "output_type": "stream",
          "text": [
            "[(5, 0.7609035), (635, 0.67899907), (743, 0.65903777), (749, 0.6571855), (744, 0.6482421), (758, 0.6475838), (759, 0.6345126), (757, 0.62513065), (734, 0.61597526), (764, 0.6032341)]\n"
          ],
          "name": "stdout"
        }
      ]
    },
    {
      "cell_type": "code",
      "metadata": {
        "colab": {
          "base_uri": "https://localhost:8080/",
          "height": 17
        },
        "id": "Sr5FZ8X1X5II",
        "outputId": "56d81eaf-5ecd-4500-df24-8e6eb26128f7"
      },
      "source": [
        "max_relevant_para = 20"
      ],
      "execution_count": null,
      "outputs": [
        {
          "output_type": "display_data",
          "data": {
            "text/html": [
              "\n",
              "  <style>\n",
              "    pre {\n",
              "        white-space: pre-wrap;\n",
              "    }\n",
              "  </style>\n",
              "  "
            ],
            "text/plain": [
              "<IPython.core.display.HTML object>"
            ]
          },
          "metadata": {
            "tags": []
          }
        }
      ]
    },
    {
      "cell_type": "code",
      "metadata": {
        "colab": {
          "base_uri": "https://localhost:8080/",
          "height": 1000
        },
        "id": "Tt6sTSdZX55n",
        "outputId": "91e12a15-daa8-47e5-b6f3-6392f0bddc9e"
      },
      "source": [
        "for i in range (max_relevant_para):\n",
        "  print (paragraphs [similarity_vec [i][0]])\n",
        "  for i in range (5):\n",
        "    print ()"
      ],
      "execution_count": null,
      "outputs": [
        {
          "output_type": "display_data",
          "data": {
            "text/html": [
              "\n",
              "  <style>\n",
              "    pre {\n",
              "        white-space: pre-wrap;\n",
              "    }\n",
              "  </style>\n",
              "  "
            ],
            "text/plain": [
              "<IPython.core.display.HTML object>"
            ]
          },
          "metadata": {
            "tags": []
          }
        },
        {
          "output_type": "stream",
          "text": [
            "1. India-History. I. Rothermund, Dietmar. II. Title\n",
            "\n",
            "\n",
            "\n",
            "\n",
            "\n",
            "Gurdaspur district in the Panjab had been awarded to India and thismeant that the princely state of Kashmir had a direct link with India\n",
            "\n",
            "\n",
            "\n",
            "\n",
            "\n",
            "3For further details of the Kanishka era and Kushana chronology, see B.N.Puri, Kushana Bibliography Calcutta, 1977 ; G.Fussman, Chronique des tudes kouchanes , Journal asiatique, vol. 266, 1978, pp. 419 36; G.Fussman, Ere d Eucratides, re d Azes, re Vikrama, re de Kanishka , Bulletin de l Ecole Fran aise d Extr me Orient, 1980, pp. 1 45\n",
            "\n",
            "\n",
            "\n",
            "\n",
            "\n",
            "BIBLIOGRAPHY AND NOTES343CHAPTER 3 THE REGIONAL KINGDOMS OF EARLY MEDIEVAL INDIA The rise and conflicts of regional kingdomsB.D.Chattopadhyaya, The Making of Early Medieval India Delhi, 1994 H.Kulke ed. , The State in India 1000 1700 New Delhi, 1995 R.C.Majumdar, Ancient India 6th edn, Delhi, 1971 North IndiaP.Bhatia, The Paramaras c. AD 800 1305 Delhi, 1970 B.D.Chattopadhyaya, Origins of the Rajputs The Political, Economic and SocialProcesses in Early Medieval Rajasthan , Indian Historical Review, vol. 3, 1976, pp. 59 82D.Devahuti, Harsha A Political Study London, 1970; 2nd edn, Delhi, 1983 B.N.Puri, The History of the Gurjara-Pratiharas Delhi, 1958 H.C.Ray, The Dynastic History of Northern India, Early and Medieval Period, 2vols Calcutta, 1931 6 D.R.Sharma, Rajasthan through the Ages Bikaner, 1966 East IndiaG.Berkemer, Little Kingdoms in Kalinga Ideologie, Legitimation und Politikregionaler Eliten Stuttgart, 1993 Swapna Bhattacharya, Landschenkungen und staatliche Entwicklung imfr hmittelalterlichen Bengalen 5. bis 13. Jh. n. Chr. Wiesbaden, 1984 D.K.Chakravarti, Ancient Bangladesh A Study of Archaeological Sources Delhi, 1992 R.C.Majumdar ed. , The History of Bengal, vol. 1 Hindu Period 2nd edn, Patna, 1971 B.M.Morrison, Political Centers and Cultural Regions in Early Bengal Arizona, 1970 S.K.Panda, The State and Statecraft in Medieval Orissa under the Later EasternGanges AD 1038 1434 Calcutta, 1995 K.C.Panigrahi, History of Orissa Hindu Period Cuttack, 1981 Central and South India M.Abraham, Two Merchant Guilds of South India New Delhi, 1988 A.S.Altekar, Rashtrakutas and their Times 2nd edn, Poona, 1967 J.D.M.Derrett, The Hoysalas A Medieval Indian Royal Family Madras, 1957 K.R.Hall, Trade and Statecraft in the Age of the Colas New Delhi, 1980 N.Karashima, South Indian History and Society Studies from Inscriptions AD850 1800 Delhi, 1984 K.A.Nilakanta Sastri, A History of South India from Prehistoric Times to the Fall of Vijayanagara Madras, 1955 K.A.Nilakanta Sastri, The Colas 2nd edn, Madras, 1955 G.W.Spencer, The Politics of Expansion The Chola Conquest of Sri Lanka and SriVijaya Madras, 1983 B.Stein, Peasant State and Society in Medieval South India New Delhi, 1980 BIBLIOGRAPHY AND NOTES344Notes pp. 104 20 1Hsiuen-tsang trans. S.Beal , Buddhist Record of the Western World, vol. 2 London, 1906 , p. 256\n",
            "\n",
            "\n",
            "\n",
            "\n",
            "\n",
            "4F.Kielhorn, Junagadh Inscription of Rudradaman , Epigraphia Indica, vol. 8, 1905, pp. 36 49.The classical age of the GuptasA.Agrawal, Rise and Fall of the Imperial Guptas Delhi, 1989 BC.Chhabra et al. eds. , Reappraising Gupta History for S.R.Goyal New Delhi, 1992 S.R.Goyal, A History of the Imperial Guptas Allahabad, 1967 P.L.Gupta, The Imperial Guptas, 2 vols Varanasi, 1974 9 BIBLIOGRAPHY AND NOTES342S.K.Maity, The Imperial Guptas and their Times, c. AD 300 550 Delhi, 1975 R.C.Majumdar and A.S.Altekar eds. , The Vakataka-Gupta Age c. AD 200 to 550 2nd edn, Benares, 1954 B.L.Smith, Essays on Gupta Culture New Delhi, 1983 Notes pp. 82 6 1J.F.Fleet, Inscriptions of the Early Gupta Kings and their Successors, vol. 3 of Corpus Inscriptionum Indicarum Calcutta, 1888 , pp. 1 17\n",
            "\n",
            "\n",
            "\n",
            "\n",
            "\n",
            "3M.A.Stein, Kalhana s Rajatarangini or Chronicle of the Kings of Kashmir reprinted Delhi, 1961 , vol. 1, p. 154.4See note 2\n",
            "\n",
            "\n",
            "\n",
            "\n",
            "\n",
            "The states of central and southern India in the period of the sultanate of DelhiDeccanH.K.Sherwani, The Bahmanis of the Deccan Hyderabad, 1953 H.K.Sherwani and M.P.Joshi eds , History of Medieval Deccan 1295 1724, 2 vols Hyderabad, 1973 4 Orissa and Vijayanagara A.Dallapiccola and S.Zingel-Av Lallemant eds , Vijayanagara City and Empire New Currents of Research Wiesbaden, 1985 V.Filliozat, L epigraphie de Vijayanagara du d but 1377 Paris, 1973 J.M.Fritz and G.Michell, City of Victory Vijayanagara the Medieval Hindu Capital of Southern India New York, 1991 N.Karashima, Towards a New Formation South Indian Society under Vijayanagara Rule Delhi, 1992 A.Krishnaswami, The Tamil Country under Vijayanagara Annamalai, 1964 R.Sewell, A Forgotten Empire reprinted New Delhi, 1962 B.Stein, Vijayanagara, NCHI, vol. I.2 Cambridge, 1989 R.Subrahmanya, The Suryavamshi Gajapatis of Orissa Waltair, 1957 BIBLIOGRAPHY AND NOTES347Notes pp. 173 81 1B.C.Chhabra, Chateshvara Temple Inscription , Epigraphia Indica, vol. 29, 1952, pp. 121 33.2N.N.Vasu, Copper-plate Inscriptions of Narasimha II , Journal of the AsiaticSociety of Bengal, 1896, pp. 229 71 3Tarikh-i-Firuz Shahi trans. H.M.Elliot and J.Dowson , The History of India As Told by Its Own Historians, vol. 3 London, 1867 \n",
            "\n",
            "\n",
            "\n",
            "\n",
            "\n",
            "2Tarikh-i-Firuz Shahi trans. H.M.Elliot and I.Dowson , The History of India,As Told by Its Own Historians, vol. 3 London, 1867f. . The following quotations are from the same volume\n",
            "\n",
            "\n",
            "\n",
            "\n",
            "\n",
            "edn, Delhi, 1991 J.W.Spellman, Political Theory of Ancient India A Study of Kingship from EarliestTimes to circa AD 300 Oxford, 1964 R.Thapar, Ancient Indian Social History Delhi, 1978 R.Thapar, From Lineage to State Social Formations in Mid-first Millennium BC inthe Ganga Valley Bombay, 1984 R.Thapar, Interpreting Early India Delhi, 1992 Notes pp. 16 46 1Quotations from the Rigveda mainly from Griffiths, op. cit.2Jaiminiya Upanishad Brahmana, 1, 35, 7 quoted from W.Rau, StaatundGesellschaft, p. 53 \n",
            "\n",
            "\n",
            "\n",
            "\n",
            "\n",
            "Ursachen undHintergr nde der britischen Expansionspolitik in S dasien, 1793 1819 Stuttgart, 1992 Holden Furber, John Company at Work A Study of European Expansion in India in the late Eighteenth Century London, 1951 Ranajit Guha, A Rule of Property for Bengal An Essay on the Idea of PermanentSettlement Paris, 1963 Blair B.Kling, Partner in Empire Dwarkanath Tagore and the Age of Enterprise inEastern India Berkeley, 1976 David Kopf, British Orientalism and the Bengal Renaissance The Dynamics of Indian Modernization 1773 1835 Berkeley, 1969 B.B.Misra, The Central Administration of the East India Company 1773 1834 Manchester, 1959 S.N.Mukherjee, Sir William Jones A Study in Eighteenth Century British Attitudes to India Cambridge, 1968 C.H.Philips, The East India Company, 1784 1834 Manchester, 1940; reprinted Manchester, 1961 Surendra Nath Sen, Eighteen Fifty-Seven Calcutta, 1958 Eric Stokes, The English Utilitarians and India Oxford, 1959 Eric Stokes, The Peasant and the Raj Studies in Agrarian Society and PeasantRebellion in Colonial India Cambridge, 1978 Lucy Sutherland, The East Indian Company in Eighteenth Century Politics Oxford, 1952 Lynn Zastoupil, John Stuart Mill and India Stanford, 1994 Imperial structure and the regional impactB.H.Baden-Powell, The Land Systems of British India, 3 vols London, 1892 Christopher Baker, The Politics of South India, 1920 1937 Cambridge, 1976 B.S.Baliga, Studies in Madras Administration, 2 vols Madras, 1960 Himadri Banerjee, Agrarian Society of the Punjab, 1849 1901 New Delhi, 1982 Indu Banga, Agrarian System of the Sikhs New Delhi, 1978 Christopher Bayly, The Local Roots of Indian Politics Allahabad 1880 1920 Oxford, 1975 Christopher Bayly, Rulers, Townsmen and Bazaars North Indian Society in the Age of British Expansion, 1770 1870 Cambridge, 1983 Christopher Bayly, Indian Society and the Making of the British Empire NCHI Cambridge, 1988 Christopher Bayly, Imperial Meridian The British Empire and the World, 1780 1830 London, 1989 Sabyasachi Bhattacharya, Financial Foundations of the British Raj, 1858 1872 Simla, 1971 Rajnarayan Chandavarkar, The Origins of Industrial Capitalism in India BusinessStrategies and the Working Classes in Bombay, 1900 1940 Cambridge, 1994 Neil Charlesworth, Peasants and Imperial Rule Agriculture and Agrarian Societyin the Bombay Presidency, 1850 1935 Cambridge, 1985 B.B.Chowdhury, Growth of Commercial Agriculture in Bengal, vol. 1 1757 1900 Calcutta, 1964 Robert Frykenberg, Guntur District, 1788 1848 A History of Local Influence andCentral Authority in South India Oxford, 1965 BIBLIOGRAPHY AND NOTES350H.L.O.Garren and Abdul Hamid, A History of Government College Lahore,1864 1964 Lahore, 1964 Sarvepalli Gopal, British Policy in India, 1858 1905 Cambridge, 1965 Leonard Gordon, Bengal The Nationalist Movement, 1876 1940 New York London, 1974 A.Gupta ed. , Studies in the Bengal Renaissance Calcutta, 1958 M.V.Jain, Outlines of Indian Legal History Bombay, 1972 Tom Kessinger, Vilyatpur, 1848 1968 Social and Economic Change in a North Indian Village Berkeley, 1974 Ravinder Kumar, Western India in the Nineteenth Century A Study in the Social History of Maharashtra London, 1968 J rgen L tt, Hindu-Nationalismus in Uttar Pradesh, 1867 1900 Stuttgart, 1970 W.I.Macpherson, Investment in Indian Railways, 1845 1875 , Economic HistoryReview, second series, vol. 8, 1955, pp. 177 86 Michael Mann, Britische Herrschaft auf indischem Boden Landwirtschaftliche Transformation und kologische Destruktion des Central Doab , 1801 1854 Stuttgart, 1992 Morris D.Morris and C.B.Dudley, Selected Railway Statistics for the Indian Subcontinent, 1853 1946 47 , Artha Vijnana Gokhale Institute of Politics and Economics, Pune , vol. 17, 1975Dietmar Rothermund, Government, Landlord and Peasant in India AgrarianRelations under British Rule, 1865 1935 Wiesbaden, 1978 P.Sharan, The Imperial Legislative Council for India from 1861 to 1920 New Delhi, 1961 Asiya Siddiqui, Agrarian Change in a Northern Indian State Uttar Pradesh, 1819 33 Oxford, 1973 Werner Simon, Die britische Milit rpolitik in Indien und ihre Auswirkungen aufden britisch-indischen Finanzhaushalt, 1878 1910 Wiesbaden, 1974 Konrad Specker, Weber im Wettbewerb Das Schicksal des s dindischen Textilhandwerks im 19. Jahrhundert Wiesbaden, 1984 Daniel Thorner, Investment in Empire, British Railway and Steam Shipping Enterprise in India, 1825 1849 Philadelphia, 1950 David Washbrook and Christopher Baker, South India Political Institutions andPolitical Change, 1880 1940 Delhi, 1975 Elizabeth Whitcombe, Agrarian Conditions in Northern India, vol. 1 The UnitedProvinces under British Rule, 1860 1900 Berkeley, 1972 The pattern of constitutional reformS.R.Mehrotra, The Emergence of the Indian National Congress New Delhi, 1971 Robin Moore, The Crisis of Indian Unity, 1917 1940 Oxford, 1974 Peter Robb, The Government of India and Reform, 1916 1921 Oxford, 1976 Dietmar Rothermund, Die politische Willensbildung in Indien, 1900 1960 Wiesbaden, 1965 Algernon Rumbold, Watershed in India, 1914 1922 London, 1979 Anil Seal, The Emergence of Indian Nationalism Competition and Collaborationin the Later Nineteenth Century Cambridge, 1968 Stanley Wolpert, Tilak and Gokhale Revolution and Reform in the Making of Modern India Berkeley, 1962 Stanley Wolpert, Morley and India, 1906 1910 Berkeley, 1967 BIBLIOGRAPHY AND NOTES351CHAPTER 7 THE FREEDOM MOVEMENT ANDTHE PARTITION OF INDIA The Indian freedom movementSurendranath Banerjea, A Nation in the Making London, 1925 Annie Besant, How India Wrought for Freedom Madras, 1915 G.D.Birla, In the Shadow of the Mahatma Bombay, 1953 Subhas Chandra Bose, The Indian Struggle, 1920 1934 Calcutta, 1948 Subhas Chandra Bose, The Indian Struggle, 1935 1942 Calcutta, 1952 Judith M.Brown, Gandhi Prisoner of Hope Delhi, 1989 Judith M.Brown, Gandhi s Rise to Power Indian Politics, 1915 1922 Cambridge, 1972 G.H.Deshmukh Lokhitwadi , Satapatren Marathi Aundh 1940 letter 54, 1849 Christine Dobbin, Urban Leadership in Western India Politics and Communities in Western India, 1840 1885 London, 1972 Mohandas Karamchand Gandhi, My Experiments with Truth An Autobiography Boston, 1940 Sarvepalli Gopal, The Viceroyalty of Lord Ripon London, 1953 Sarvepalli Gopal, The Viceroyalty of Lord Irwin, 1926 1931 Oxford, 1957 David Hardiman, Peasant Nationalists of Gujarat, Kheda District, 1917 1934 Delhi, 1981 Charles Heimsath, Indian Nationalism and Hindu Social Reform Princeton, 1964 Gordon Johnson, Provincial Politics and Indian Nationalism Bombay and theIndian National Congress, 1880 1915 Cambridge, 1973 David Kopf, The Brahmo Samaj and the Shaping of the Modern Indian Mind Princeton, 1979 Ravinder Kumar ed. , Essays on Gandhian Politics The Rowlatt Satyagraha of 1919 Oxford, 1971 Horst Joachim Leue, Britische Indien-Politik, 1926 1932 Wiesbaden, 1980 Claude Markovits, Indian Business and Nationalist Politics 1931 39 TheIndigenous Capitalist Class and the Rise of the Congress Party Cambridge, 1985 Penderel Moon, Divide and Quit London, 1962 B.R.Nanda, Gokhale The Indian Moderates and the British Raj Delhi, 1977 Dadabhai Naoroji, Poverty and un-British Rule in India London, 1901 Jawaharlal Nehru, An Autobiography London, 1936 Barbara Ramusack, The Princes of India in the Twilight of Empire Dissolution of a Patron-Client System, 1914 1939 Columbia, 1978 Dietmar Rothermund, Traditionalism and Socialism in Vivekananda s Thought , in Dietmar Rothermund, The Phases of Indian Nationalism and Other Essays Bombay, 1970 , pp. 57 64 Dietmar Rothermund, Mahatma Gandhi Der Revolution r der Gewaltlosigkeit.Eine politische Biographie Munich, 1989 Dietmar Rothermund, Mahatma Gandhi An Essay in Political Biography New Delhi, 1991 Dietmar Rothermund, India in the Great Depression, 1929 1939 New Delhi, 1992 Sumit Sarkar, The Swadeshi Movement in Bengal, 1903 1908 New Delhi, 1973 Sumit Sarkar, The Logic of Gandhian Nationalism Civil Disobedience and the Gandhi-Irwin Pact, 1930 1931 , Indian Historical Review, vol. 3, 1976, pp\n",
            "\n",
            "\n",
            "\n",
            "\n",
            "\n",
            "J.C.van Leur, Indonesian Trade and Society The Hague, 1955 I.W.Mabbett, The Indianization of Southeast Asia. I. Reflections on the Prehistoric Sources; II. Reflections on the Historical Sources , Journal of Southeast AsianStudies, vol. 8, 1977, pp. 1 14; pp. 143 61 H.P.Ray, The Winds of Change Buddhism and the Maritime Links of Early SouthAsia Delhi, 1994 Note p. 146 1P.Pelliot, Le Fou-nan , Bulletin de l Ecole Fran aise d Extr me-Orient, vol. 3, 1903, p. 269. BIBLIOGRAPHY AND NOTES346CHAPTER 4 RELIGIOUS COMMUNITIES ANDMILITARY FEUDALISM IN THE LATE MIDDLE AGES The Islamic conquest of northern India and the sultanate of DelhiU.N.Day, The Government of the Sultanate New Delhi, 1993 M.Habib, Politics and Society during the Early Medieval Period New Delhi, 1974 M.Habib and K.A.Nizami, The Delhi Sultanate, vol. 5 of A ComprehensiveHistory of India New Delhi, 1970 R.C.Majumdar ed. , The Delhi Sultanate, vol. 6 of History and Culture of theIndian People Bombay, 1960 S.B.P.Nigam, Nobility under the Sultans of Delhi AD 1206 1398 Delhi, 1968 K.A.Nizami, Some Aspects of Religion and Politics in India during the ThirteenthCentury Delhi, 1972 T.Raychaudhuri and I. Habib eds , The Cambridge Economic History of India, vol. 1 c. 1200 c. 1750 Cambridge, 1982 Notes pp. 155 65 1E.G.Sachau, Alberuni s India Berlin, 1888; reprinted Delhi, 1964 , pp. 22ff\n",
            "\n",
            "\n",
            "\n",
            "\n",
            "\n",
            "CHAPTER 5 THE RISE AND FALL OF THE MUGHAL EMPIREThe Great Mughals and their adversariesM.Athar Ali, The Mughal Nobility under Aurangzeb Calcutta, 1966 M.Athar Ali, The Apparatus of the Mughal Empire Delhi, 1985 M.Athar Ali, Towards an Interpretation of the Mughal Empire , in H.Kulke ed. , The State in India, 1000 1700 Delhi 1995 Babur, Babur-nama, Engl. trans. by A.Beveridge, 2 vols London, 1921 Stephen P.Blake, The Patrimonial-Bureaucratic Empire of the Mughals , in H\n",
            "\n",
            "\n",
            "\n",
            "\n",
            "\n",
            "Kulke ed. , The State in India, 1000 1700 Delhi, 1995 Satish Chandra, Parties and Politics at the Mughal Court Calcutta, 1959 V.G.Dighe, Peshwa Baji Rao I and Maratha Expansion Bombay, 1944 Abul Fazl, The Akbar-nama of Abul Fazl, Engl. trans. by H.Beveridge, 3 vols Calcutta, 1898 Irfan Habib, The Agrarian System of Mughal India, 1526 1707 Bombay, 1963 A.R.Kulkarni, Maharashtra in the Age of Shivaji Pune, 1969 Shireen Moosvi, The Economy of the Mughal Empire A Statistical Study Delhi, 1987 G.S.Sardesai, New History of the Marathas, 3 vols 2nd edn, Bombay, 1957 Jadunnath Sarkar, History of Aurangzib, 5 vols Calcutta, 1912 52 Jadunnath Sarkar, The Fall of the Mughal Empire, 4 vols Calcutta, 1932 50 Surendra Nath Sen, The Military System of the Marathas rev. edn, Bombay, 1958 R.C.Varma, Foreign Policy of the Great Mughals, 1526 1727 Agra, 1967 A.Wink, Land and Sovereignty in India Agrarian Society and Politics under the Eighteenth-century Maratha Svarajya Cambridge, 1986 Indian landpower and European seapowerSergio Aiolfi, Calicos und gedrucktes Zeug Die Entwicklung der englischenTextilveredlung und der Tuchhandel der East India Company, 1650 1750 Stuttgart, 1987 Charles Ralph Boxer, The Dutch Seaborne Empire London, 1965 K.N.Chaudhuri, The English East India Company The Study of an Early Joint Stock Company London, 1965 K.N.Chaudhuri, The Trading World of Asia and the East India Company, 1660 1760 Cambridge, 1978 Susil Chaudhuri, Trade and Commercial Organization in Bengal, 1650 1720 Calcutta, 1975 BIBLIOGRAPHY AND NOTES348Ashin Das Gupta, Indian Merchants and the Decline of Surat Wiesbaden, 1978, repr. Delhi, 1996 Ralph Davies, The Rise of the English Shipping Industry in the Seventeenth andEighteenth Centuries London, 1972 M.A.Hedwig Fitzler, Der Anteil der Deutschen an der Kolonialpolitik Philipps II\n",
            "\n",
            "\n",
            "\n",
            "\n",
            "\n",
            "Hermann Kulke holds the chair in Asian History at the University of Kiel\n",
            "\n",
            "\n",
            "\n",
            "\n",
            "\n",
            " Mainz R. von Zabern, 1987 Immigration and settlement of the Indo-AryansThe Indo-Aryans and their migrations M.K.Dhavalikar, The Elusive Aryan Forays into Protohistory , Man andEnvironment, vol. 14, 1982, pp. 173 80 G.Erdosy ed. , The Indo-Aryans of Ancient South Asia Language, Culture andEthnicity Berlin, 1995 BIBLIOGRAPHY AND NOTES339A.Parpola, The Coming of the Aryans to Iran and India and the Cultural andEthnic Identity of the Dasas , Studia Orientalia, vol. 64, 1988, pp. 195 302 C.Renfrew, Archaeology and Language The Puzzle of Indo-European Origins London, 1987 R.S.Sharma, Looking for the Aryans Madras, 1995 P.Thieme, The Aryan Gods of the Mitanni Treaties , Journal of the AmericanOriental Society, vol. 80, 1960, pp. 301 17\n",
            "\n",
            "\n",
            "\n",
            "\n",
            "\n",
            "India s impact on Southeast Asia causes and consequencesJ.G.de Casparis, India and Maritime South East Asia A Lasting Relationship Kuala Lumpur, 1983 K.N.Chaudhuri, Trade and Civilisation in the Indian Ocean An Economic History from the Rise of Islam to 1750 Cambridge, 1985 B.C.Chhabra, Expansion of Indo-Aryan Culture during Pallava Rule as Evidencedby Inscriptions Delhi, 1965 G.Coed s, The Indianized States of Southeast Asia Honolulu, 1968 K.R.Hall, Maritime Trade and State Development in Early Southeast Asia Honolulu, 1984 H.Kulke, Indian Colonies, Indianization or Cultural Convergence? Reflections onthe Changing Image of India s Role in South-East Asia , Ouderzoek inZuidoost-Azie, ed. by H.Schulte Nordholt, Leiden, 1990, pp. 8 32\n",
            "\n",
            "\n",
            "\n",
            "\n",
            "\n",
            "J.Marshall, Mohenjo-Daro and the Indus Civilization, 3 vols London, 1931 G.L.Possehl ed. , Ancient Cities of the Indus Delhi, 1979 G.L.Possehl ed. , Harappan Civilization rev. edn, New Delhi, 1993 S.Ratnagar, Enquiries into the Political Organization of Harappan Society Pune, 1991 M.S.Vats, Excavations at Harappa, 2 vols Delhi, 1940 Vergessene St dte am Indus Fr he Kulturen in Pakistan vom 8. 2. Jahrtausend v\n",
            "\n",
            "\n",
            "\n",
            "\n",
            "\n",
            "493 524.B.Stein ed. , South Indian Temples An Analytical Reconsideration New Delhi, 1978 K.Sundaram, The Simhachalam Temple Waltair, 1984 Notes p. 133 1H.W.Schomerus, Die Hymnen des Manikka-Vashaga Tiruvashaga Jena, 1923 , pp. 65ff.2H.W.Schomerus, Sivaitische Heiligenlegenden Periyapurana and Tiruvatavurar- Purana Jena, 1923 , p. 131\n",
            "\n",
            "\n",
            "\n",
            "\n",
            "\n",
            "Kings, princes and priests the structure of Hindu realmsB.D.Chattopadhyaya, Aspects of Rural Settlements and Rural Society in EarlyMedieval India Calcutta, 1990 L.Gopal, Samanta Its Varying Significance in Ancient India , Journal of theRoyalAsiatic Society of Great Britain and Ireland, 1963, pp. 21 37D.N.Jha ed. , Feudal Social Formation in Early India Delhi, 1987 H.Kulke, Jagannatha-Kult und Gajapati-K nigtum Ein Beitrag zur Geschichtereligi ser Legitimation hinduistischer Herrscher Wiesbaden, 1979 Om Prakash, Early Indian Land Grants and State Economy Allahabad, 1988 R.S.Sharma, Indian Feudalism c. 300 1200 Calcutta, 1965 R.S.Sharma, Urban Decay in India c. 300 c. 1000 New Delhi, 1987 D.D.Shulman, The King and the Clown in South Indian Myth and Poetry Princeton, NJ, 1986 D.C.Sircar ed. , Land System and Feudalism in Ancient India Calcutta, 1966 G.W.Spencer, Religious Networks and Royal Influence in Eleventh Century South India , Journal of the Economic and Social History of the Orient, vol. 12, 1969, pp. 42 56B.Stein, Peasant State and Society in Medieval South India Delhi, 1980 Y.Subbarayalu, The Cola State , Studies in History New Delhi , vol. 4, 1982, pp\n",
            "\n",
            "\n",
            "\n",
            "\n",
            "\n",
            "However this absorbed population may have become the upholder of an Indo-Aryan cultural synthesis, combining Indo-Harappan and therefore perhaps also Dravidian elements with their Central Asian Aryan heritage\n",
            "\n",
            "\n",
            "\n",
            "\n",
            "\n"
          ],
          "name": "stdout"
        }
      ]
    }
  ]
}